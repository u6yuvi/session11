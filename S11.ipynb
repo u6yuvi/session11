{
 "cells": [
  {
   "cell_type": "markdown",
   "metadata": {},
   "source": [
    "# Notes\n",
    "\n",
    "1. Iterable returns an iterator"
   ]
  },
  {
   "cell_type": "code",
   "execution_count": 1,
   "metadata": {},
   "outputs": [],
   "source": [
    "import math\n",
    "\n",
    "class Circle:\n",
    "    def __init__(self, r):\n",
    "        self.radius = r\n",
    "        \n",
    "    @property\n",
    "    def radius(self):\n",
    "        return self._radius\n",
    "    \n",
    "    @radius.setter\n",
    "    def radius(self, r):\n",
    "        self._radius = r\n",
    "        self.area = math.pi * r**2"
   ]
  },
  {
   "cell_type": "code",
   "execution_count": 2,
   "metadata": {},
   "outputs": [],
   "source": [
    "c = Circle(1)"
   ]
  },
  {
   "cell_type": "code",
   "execution_count": 3,
   "metadata": {},
   "outputs": [
    {
     "data": {
      "text/plain": [
       "3.141592653589793"
      ]
     },
     "execution_count": 3,
     "metadata": {},
     "output_type": "execute_result"
    }
   ],
   "source": [
    "c.area"
   ]
  },
  {
   "cell_type": "code",
   "execution_count": 4,
   "metadata": {},
   "outputs": [],
   "source": [
    "c.radius = 2"
   ]
  },
  {
   "cell_type": "code",
   "execution_count": 5,
   "metadata": {},
   "outputs": [
    {
     "data": {
      "text/plain": [
       "(2, 12.566370614359172)"
      ]
     },
     "execution_count": 5,
     "metadata": {},
     "output_type": "execute_result"
    }
   ],
   "source": [
    "c.radius, c.area"
   ]
  },
  {
   "cell_type": "code",
   "execution_count": 6,
   "metadata": {},
   "outputs": [],
   "source": [
    "class Circle:\n",
    "    def __init__(self, r):\n",
    "        self.radius = r\n",
    "        \n",
    "    @property\n",
    "    def radius(self):\n",
    "        return self._radius\n",
    "    \n",
    "    @radius.setter\n",
    "    def radius(self, r):\n",
    "        self._radius = r\n",
    "\n",
    "    @property\n",
    "    def area(self):\n",
    "        return math.pi * self.radius ** 2"
   ]
  },
  {
   "cell_type": "code",
   "execution_count": 7,
   "metadata": {},
   "outputs": [],
   "source": [
    "c = Circle(1)"
   ]
  },
  {
   "cell_type": "code",
   "execution_count": 8,
   "metadata": {},
   "outputs": [
    {
     "data": {
      "text/plain": [
       "3.141592653589793"
      ]
     },
     "execution_count": 8,
     "metadata": {},
     "output_type": "execute_result"
    }
   ],
   "source": [
    "c.area"
   ]
  },
  {
   "cell_type": "code",
   "execution_count": 9,
   "metadata": {},
   "outputs": [],
   "source": [
    "c.radius = 2"
   ]
  },
  {
   "cell_type": "code",
   "execution_count": 10,
   "metadata": {},
   "outputs": [
    {
     "data": {
      "text/plain": [
       "12.566370614359172"
      ]
     },
     "execution_count": 10,
     "metadata": {},
     "output_type": "execute_result"
    }
   ],
   "source": [
    "c.area"
   ]
  },
  {
   "cell_type": "code",
   "execution_count": 11,
   "metadata": {},
   "outputs": [],
   "source": [
    "class Circle:\n",
    "    def __init__(self, r):\n",
    "        self.radius = r\n",
    "        \n",
    "    @property\n",
    "    def radius(self):\n",
    "        return self._radius\n",
    "    \n",
    "    @radius.setter\n",
    "    def radius(self, r):\n",
    "        self._radius = r\n",
    "        self._area = None\n",
    "\n",
    "    @property\n",
    "    def area(self):\n",
    "        if self._area is None:\n",
    "            print('Calculating area...')\n",
    "            self._area = math.pi * self.radius ** 2\n",
    "        return self._area"
   ]
  },
  {
   "cell_type": "code",
   "execution_count": 12,
   "metadata": {},
   "outputs": [],
   "source": [
    "c = Circle(1)"
   ]
  },
  {
   "cell_type": "code",
   "execution_count": 13,
   "metadata": {},
   "outputs": [
    {
     "name": "stdout",
     "output_type": "stream",
     "text": [
      "Calculating area...\n"
     ]
    },
    {
     "data": {
      "text/plain": [
       "3.141592653589793"
      ]
     },
     "execution_count": 13,
     "metadata": {},
     "output_type": "execute_result"
    }
   ],
   "source": [
    "c.area"
   ]
  },
  {
   "cell_type": "code",
   "execution_count": 14,
   "metadata": {},
   "outputs": [
    {
     "data": {
      "text/plain": [
       "3.141592653589793"
      ]
     },
     "execution_count": 14,
     "metadata": {},
     "output_type": "execute_result"
    }
   ],
   "source": [
    "c.area"
   ]
  },
  {
   "cell_type": "code",
   "execution_count": 15,
   "metadata": {},
   "outputs": [],
   "source": [
    "c.radius = 2"
   ]
  },
  {
   "cell_type": "code",
   "execution_count": 16,
   "metadata": {},
   "outputs": [
    {
     "name": "stdout",
     "output_type": "stream",
     "text": [
      "Calculating area...\n"
     ]
    },
    {
     "data": {
      "text/plain": [
       "12.566370614359172"
      ]
     },
     "execution_count": 16,
     "metadata": {},
     "output_type": "execute_result"
    }
   ],
   "source": [
    "c.area"
   ]
  },
  {
   "cell_type": "code",
   "execution_count": 17,
   "metadata": {},
   "outputs": [],
   "source": [
    "class Factorials:\n",
    "    def __init__(self, length):\n",
    "        self.length = length\n",
    "    \n",
    "    def __iter__(self):\n",
    "        return self.FactIter(self.length)\n",
    "    \n",
    "    class FactIter:\n",
    "        def __init__(self, length):\n",
    "            self.length = length\n",
    "            self.i = 0\n",
    "            \n",
    "        def __iter__(self):\n",
    "            return self\n",
    "        \n",
    "        def __next__(self):\n",
    "            if self.i >= self.length:\n",
    "                raise StopIteration\n",
    "            else:\n",
    "                result = math.factorial(self.i)\n",
    "                self.i += 1\n",
    "                return result\n",
    "            "
   ]
  },
  {
   "cell_type": "code",
   "execution_count": 18,
   "metadata": {},
   "outputs": [],
   "source": [
    "facts = Factorials(5)"
   ]
  },
  {
   "cell_type": "code",
   "execution_count": 19,
   "metadata": {},
   "outputs": [
    {
     "data": {
      "text/plain": [
       "[1, 1, 2, 6, 24]"
      ]
     },
     "execution_count": 19,
     "metadata": {},
     "output_type": "execute_result"
    }
   ],
   "source": [
    "list(facts)"
   ]
  },
  {
   "cell_type": "code",
   "execution_count": 20,
   "metadata": {},
   "outputs": [],
   "source": [
    "class Factorials:\n",
    "    def __iter__(self):\n",
    "        return self.FactIter()\n",
    "    \n",
    "    class FactIter:\n",
    "        def __init__(self):\n",
    "            self.i = 0\n",
    "            \n",
    "        def __iter__(self):\n",
    "            return self\n",
    "        \n",
    "        def __next__(self):\n",
    "            result = math.factorial(self.i)\n",
    "            self.i += 1\n",
    "            return result"
   ]
  },
  {
   "cell_type": "code",
   "execution_count": 21,
   "metadata": {},
   "outputs": [
    {
     "name": "stdout",
     "output_type": "stream",
     "text": [
      "1\n",
      "1\n",
      "2\n",
      "6\n",
      "24\n",
      "120\n",
      "720\n",
      "5040\n",
      "40320\n",
      "362880\n"
     ]
    }
   ],
   "source": [
    "factorials = Factorials()\n",
    "fact_iter = iter(factorials)\n",
    "\n",
    "for _ in range(10):\n",
    "    print(next(fact_iter))"
   ]
  },
  {
   "cell_type": "code",
   "execution_count": 22,
   "metadata": {},
   "outputs": [],
   "source": [
    "r_10 = range(10)"
   ]
  },
  {
   "cell_type": "code",
   "execution_count": 23,
   "metadata": {},
   "outputs": [
    {
     "data": {
      "text/plain": [
       "True"
      ]
     },
     "execution_count": 23,
     "metadata": {},
     "output_type": "execute_result"
    }
   ],
   "source": [
    "'__iter__' in dir(r_10)"
   ]
  },
  {
   "cell_type": "code",
   "execution_count": 24,
   "metadata": {},
   "outputs": [
    {
     "data": {
      "text/plain": [
       "False"
      ]
     },
     "execution_count": 24,
     "metadata": {},
     "output_type": "execute_result"
    }
   ],
   "source": [
    "'__next__' in dir(r_10)"
   ]
  },
  {
   "cell_type": "code",
   "execution_count": 25,
   "metadata": {},
   "outputs": [],
   "source": [
    "r_10_iter = iter(r_10)"
   ]
  },
  {
   "cell_type": "code",
   "execution_count": 26,
   "metadata": {},
   "outputs": [
    {
     "data": {
      "text/plain": [
       "True"
      ]
     },
     "execution_count": 26,
     "metadata": {},
     "output_type": "execute_result"
    }
   ],
   "source": [
    "'__iter__' in dir(r_10_iter)"
   ]
  },
  {
   "cell_type": "code",
   "execution_count": 27,
   "metadata": {},
   "outputs": [
    {
     "data": {
      "text/plain": [
       "True"
      ]
     },
     "execution_count": 27,
     "metadata": {},
     "output_type": "execute_result"
    }
   ],
   "source": [
    "'__next__' in dir(r_10_iter)"
   ]
  },
  {
   "cell_type": "code",
   "execution_count": 28,
   "metadata": {},
   "outputs": [
    {
     "data": {
      "text/plain": [
       "[0, 1, 2, 3, 4, 5, 6, 7, 8, 9]"
      ]
     },
     "execution_count": 28,
     "metadata": {},
     "output_type": "execute_result"
    }
   ],
   "source": [
    "[num for num in range(10)]"
   ]
  },
  {
   "cell_type": "code",
   "execution_count": 29,
   "metadata": {},
   "outputs": [],
   "source": [
    "z = zip([1, 2, 3], 'abc')"
   ]
  },
  {
   "cell_type": "code",
   "execution_count": 30,
   "metadata": {},
   "outputs": [
    {
     "data": {
      "text/plain": [
       "<zip at 0x1ad89105300>"
      ]
     },
     "execution_count": 30,
     "metadata": {},
     "output_type": "execute_result"
    }
   ],
   "source": [
    "z"
   ]
  },
  {
   "cell_type": "code",
   "execution_count": 31,
   "metadata": {},
   "outputs": [
    {
     "name": "stdout",
     "output_type": "stream",
     "text": [
      "True\n",
      "True\n"
     ]
    }
   ],
   "source": [
    "print('__iter__' in dir(z))\n",
    "print('__next__' in dir(z))"
   ]
  },
  {
   "cell_type": "code",
   "execution_count": 32,
   "metadata": {},
   "outputs": [
    {
     "data": {
      "text/plain": [
       "[(1, 'a'), (2, 'b'), (3, 'c')]"
      ]
     },
     "execution_count": 32,
     "metadata": {},
     "output_type": "execute_result"
    }
   ],
   "source": [
    "list(z)"
   ]
  },
  {
   "cell_type": "code",
   "execution_count": 33,
   "metadata": {},
   "outputs": [
    {
     "name": "stdout",
     "output_type": "stream",
     "text": [
      "<class '_io.TextIOWrapper'>\n",
      "True\n",
      "True\n"
     ]
    }
   ],
   "source": [
    "with open('cars.csv') as f:\n",
    "    print(type(f))\n",
    "    print('__iter__' in dir(f))\n",
    "    print('__next__' in dir(f))"
   ]
  },
  {
   "cell_type": "code",
   "execution_count": 34,
   "metadata": {},
   "outputs": [
    {
     "name": "stdout",
     "output_type": "stream",
     "text": [
      "Car;MPG;Cylinders;Displacement;Horsepower;Weight;Acceleration;Model;Origin\n",
      "\n",
      "STRING;DOUBLE;INT;DOUBLE;DOUBLE;DOUBLE;DOUBLE;INT;CAT\n",
      "\n",
      "Chevrolet Chevelle Malibu;18.0;8;307.0;130.0;3504.;12.0;70;US\n",
      "\n"
     ]
    }
   ],
   "source": [
    "with open('cars.csv') as f:\n",
    "    print(next(f))\n",
    "    print(f.__next__())\n",
    "    print(f.readline())"
   ]
  },
  {
   "cell_type": "code",
   "execution_count": 35,
   "metadata": {},
   "outputs": [
    {
     "name": "stdout",
     "output_type": "stream",
     "text": [
      "Car;MPG;Cylinders;Displacement;Horsepower;Weight;Acceleration;Model;Origin\n",
      "STRING;DOUBLE;INT;DOUBLE;DOUBLE;DOUBLE;DOUBLE;INT;CAT\n",
      "Chevrolet Chevelle Malibu;18.0;8;307.0;130.0;3504.;12.0;70;US\n",
      "Buick Skylark 320;15.0;8;350.0;165.0;3693.;11.5;70;US\n",
      "Plymouth Satellite;18.0;8;318.0;150.0;3436.;11.0;70;US\n",
      "AMC Rebel SST;16.0;8;304.0;150.0;3433.;12.0;70;US\n",
      "Ford Torino;17.0;8;302.0;140.0;3449.;10.5;70;US\n",
      "Ford Galaxie 500;15.0;8;429.0;198.0;4341.;10.0;70;US\n",
      "Chevrolet Impala;14.0;8;454.0;220.0;4354.;9.0;70;US\n",
      "Plymouth Fury iii;14.0;8;440.0;215.0;4312.;8.5;70;US\n",
      "Pontiac Catalina;14.0;8;455.0;225.0;4425.;10.0;70;US\n",
      "AMC Ambassador DPL;15.0;8;390.0;190.0;3850.;8.5;70;US\n",
      "Citroen DS-21 Pallas;0;4;133.0;115.0;3090.;17.5;70;Europe\n",
      "Chevrolet Chevelle Concours (sw);0;8;350.0;165.0;4142.;11.5;70;US\n",
      "Ford Torino (sw);0;8;351.0;153.0;4034.;11.0;70;US\n",
      "Plymouth Satellite (sw);0;8;383.0;175.0;4166.;10.5;70;US\n",
      "AMC Rebel SST (sw);0;8;360.0;175.0;3850.;11.0;70;US\n",
      "Dodge Challenger SE;15.0;8;383.0;170.0;3563.;10.0;70;US\n",
      "Plymouth 'Cuda 340;14.0;8;340.0;160.0;3609.;8.0;70;US\n",
      "Ford Mustang Boss 302;0;8;302.0;140.0;3353.;8.0;70;US\n",
      "Chevrolet Monte Carlo;15.0;8;400.0;150.0;3761.;9.5;70;US\n",
      "Buick Estate Wagon (sw);14.0;8;455.0;225.0;3086.;10.0;70;US\n",
      "Toyota Corolla Mark ii;24.0;4;113.0;95.00;2372.;15.0;70;Japan\n",
      "Plymouth Duster;22.0;6;198.0;95.00;2833.;15.5;70;US\n",
      "AMC Hornet;18.0;6;199.0;97.00;2774.;15.5;70;US\n",
      "Ford Maverick;21.0;6;200.0;85.00;2587.;16.0;70;US\n",
      "Datsun PL510;27.0;4;97.00;88.00;2130.;14.5;70;Japan\n",
      "Volkswagen 1131 Deluxe Sedan;26.0;4;97.00;46.00;1835.;20.5;70;Europe\n",
      "Peugeot 504;25.0;4;110.0;87.00;2672.;17.5;70;Europe\n",
      "Audi 100 LS;24.0;4;107.0;90.00;2430.;14.5;70;Europe\n",
      "Saab 99e;25.0;4;104.0;95.00;2375.;17.5;70;Europe\n",
      "BMW 2002;26.0;4;121.0;113.0;2234.;12.5;70;Europe\n",
      "AMC Gremlin;21.0;6;199.0;90.00;2648.;15.0;70;US\n",
      "Ford F250;10.0;8;360.0;215.0;4615.;14.0;70;US\n",
      "Chevy C20;10.0;8;307.0;200.0;4376.;15.0;70;US\n",
      "Dodge D200;11.0;8;318.0;210.0;4382.;13.5;70;US\n",
      "Hi 1200D;9.0;8;304.0;193.0;4732.;18.5;70;US\n",
      "Datsun PL510;27.0;4;97.00;88.00;2130.;14.5;71;Japan\n",
      "Chevrolet Vega 2300;28.0;4;140.0;90.00;2264.;15.5;71;US\n",
      "Toyota Corolla;25.0;4;113.0;95.00;2228.;14.0;71;Japan\n",
      "Ford Pinto;25.0;4;98.00;0;2046.;19.0;71;US\n",
      "Volkswagen Super Beetle 117;0;4;97.00;48.00;1978.;20.0;71;Europe\n",
      "AMC Gremlin;19.0;6;232.0;100.0;2634.;13.0;71;US\n",
      "Plymouth Satellite Custom;16.0;6;225.0;105.0;3439.;15.5;71;US\n",
      "Chevrolet Chevelle Malibu;17.0;6;250.0;100.0;3329.;15.5;71;US\n",
      "Ford Torino 500;19.0;6;250.0;88.00;3302.;15.5;71;US\n",
      "AMC Matador;18.0;6;232.0;100.0;3288.;15.5;71;US\n",
      "Chevrolet Impala;14.0;8;350.0;165.0;4209.;12.0;71;US\n",
      "Pontiac Catalina Brougham;14.0;8;400.0;175.0;4464.;11.5;71;US\n",
      "Ford Galaxie 500;14.0;8;351.0;153.0;4154.;13.5;71;US\n",
      "Plymouth Fury iii;14.0;8;318.0;150.0;4096.;13.0;71;US\n",
      "Dodge Monaco (sw);12.0;8;383.0;180.0;4955.;11.5;71;US\n",
      "Ford Country Squire (sw);13.0;8;400.0;170.0;4746.;12.0;71;US\n",
      "Pontiac Safari (sw);13.0;8;400.0;175.0;5140.;12.0;71;US\n",
      "AMC Hornet Sportabout (sw);18.0;6;258.0;110.0;2962.;13.5;71;US\n",
      "Chevrolet Vega (sw);22.0;4;140.0;72.00;2408.;19.0;71;US\n",
      "Pontiac Firebird;19.0;6;250.0;100.0;3282.;15.0;71;US\n",
      "Ford Mustang;18.0;6;250.0;88.00;3139.;14.5;71;US\n",
      "Mercury Capri 2000;23.0;4;122.0;86.00;2220.;14.0;71;US\n",
      "Opel 1900;28.0;4;116.0;90.00;2123.;14.0;71;Europe\n",
      "Peugeot 304;30.0;4;79.00;70.00;2074.;19.5;71;Europe\n",
      "Fiat 124B;30.0;4;88.00;76.00;2065.;14.5;71;Europe\n",
      "Toyota Corolla 1200;31.0;4;71.00;65.00;1773.;19.0;71;Japan\n",
      "Datsun 1200;35.0;4;72.00;69.00;1613.;18.0;71;Japan\n",
      "Volkswagen Model 111;27.0;4;97.00;60.00;1834.;19.0;71;Europe\n",
      "Plymouth Cricket;26.0;4;91.00;70.00;1955.;20.5;71;US\n",
      "Toyota Corolla Hardtop;24.0;4;113.0;95.00;2278.;15.5;72;Japan\n",
      "Dodge Colt Hardtop;25.0;4;97.50;80.00;2126.;17.0;72;US\n",
      "Volkswagen Type 3;23.0;4;97.00;54.00;2254.;23.5;72;Europe\n",
      "Chevrolet Vega;20.0;4;140.0;90.00;2408.;19.5;72;US\n",
      "Ford Pinto Runabout;21.0;4;122.0;86.00;2226.;16.5;72;US\n",
      "Chevrolet Impala;13.0;8;350.0;165.0;4274.;12.0;72;US\n",
      "Pontiac Catalina;14.0;8;400.0;175.0;4385.;12.0;72;US\n",
      "Plymouth Fury III;15.0;8;318.0;150.0;4135.;13.5;72;US\n",
      "Ford Galaxie 500;14.0;8;351.0;153.0;4129.;13.0;72;US\n",
      "AMC Ambassador SST;17.0;8;304.0;150.0;3672.;11.5;72;US\n",
      "Mercury Marquis;11.0;8;429.0;208.0;4633.;11.0;72;US\n",
      "Buick LeSabre Custom;13.0;8;350.0;155.0;4502.;13.5;72;US\n",
      "Oldsmobile Delta 88 Royale;12.0;8;350.0;160.0;4456.;13.5;72;US\n",
      "Chrysler Newport Royal;13.0;8;400.0;190.0;4422.;12.5;72;US\n",
      "Mazda RX2 Coupe;19.0;3;70.00;97.00;2330.;13.5;72;Japan\n",
      "AMC Matador (sw);15.0;8;304.0;150.0;3892.;12.5;72;US\n",
      "Chevrolet Chevelle Concours (sw);13.0;8;307.0;130.0;4098.;14.0;72;US\n",
      "Ford Gran Torino (sw);13.0;8;302.0;140.0;4294.;16.0;72;US\n",
      "Plymouth Satellite Custom (sw);14.0;8;318.0;150.0;4077.;14.0;72;US\n",
      "Volvo 145e (sw);18.0;4;121.0;112.0;2933.;14.5;72;Europe\n",
      "Volkswagen 411 (sw);22.0;4;121.0;76.00;2511.;18.0;72;Europe\n",
      "Peugeot 504 (sw);21.0;4;120.0;87.00;2979.;19.5;72;Europe\n",
      "Renault 12 (sw);26.0;4;96.00;69.00;2189.;18.0;72;Europe\n",
      "Ford Pinto (sw);22.0;4;122.0;86.00;2395.;16.0;72;US\n",
      "Datsun 510 (sw);28.0;4;97.00;92.00;2288.;17.0;72;Japan\n",
      "Toyota Corolla Mark II (sw);23.0;4;120.0;97.00;2506.;14.5;72;Japan\n",
      "Dodge Colt (sw);28.0;4;98.00;80.00;2164.;15.0;72;US\n",
      "Toyota Corolla 1600 (sw);27.0;4;97.00;88.00;2100.;16.5;72;Japan\n",
      "Buick Century 350;13.0;8;350.0;175.0;4100.;13.0;73;US\n",
      "AMC Matador;14.0;8;304.0;150.0;3672.;11.5;73;US\n",
      "Chevrolet Malibu;13.0;8;350.0;145.0;3988.;13.0;73;US\n",
      "Ford Gran Torino;14.0;8;302.0;137.0;4042.;14.5;73;US\n",
      "Dodge Coronet Custom;15.0;8;318.0;150.0;3777.;12.5;73;US\n",
      "Mercury Marquis Brougham;12.0;8;429.0;198.0;4952.;11.5;73;US\n",
      "Chevrolet Caprice Classic;13.0;8;400.0;150.0;4464.;12.0;73;US\n",
      "Ford LTD;13.0;8;351.0;158.0;4363.;13.0;73;US\n",
      "Plymouth Fury Gran Sedan;14.0;8;318.0;150.0;4237.;14.5;73;US\n",
      "Chrysler New Yorker Brougham;13.0;8;440.0;215.0;4735.;11.0;73;US\n",
      "Buick Electra 225 Custom;12.0;8;455.0;225.0;4951.;11.0;73;US\n",
      "AMC Ambassador Brougham;13.0;8;360.0;175.0;3821.;11.0;73;US\n",
      "Plymouth Valiant;18.0;6;225.0;105.0;3121.;16.5;73;US\n",
      "Chevrolet Nova Custom;16.0;6;250.0;100.0;3278.;18.0;73;US\n",
      "AMC Hornet;18.0;6;232.0;100.0;2945.;16.0;73;US\n",
      "Ford Maverick;18.0;6;250.0;88.00;3021.;16.5;73;US\n",
      "Plymouth Duster;23.0;6;198.0;95.00;2904.;16.0;73;US\n",
      "Volkswagen Super Beetle;26.0;4;97.00;46.00;1950.;21.0;73;Europe\n",
      "Chevrolet Impala;11.0;8;400.0;150.0;4997.;14.0;73;US\n",
      "Ford Country;12.0;8;400.0;167.0;4906.;12.5;73;US\n",
      "Plymouth Custom Suburb;13.0;8;360.0;170.0;4654.;13.0;73;US\n",
      "Oldsmobile Vista Cruiser;12.0;8;350.0;180.0;4499.;12.5;73;US\n",
      "AMC Gremlin;18.0;6;232.0;100.0;2789.;15.0;73;US\n",
      "Toyota Camry;20.0;4;97.00;88.00;2279.;19.0;73;Japan\n",
      "Chevrolet Vega;21.0;4;140.0;72.00;2401.;19.5;73;US\n",
      "Datsun 610;22.0;4;108.0;94.00;2379.;16.5;73;Japan\n",
      "Mazda RX3;18.0;3;70.00;90.00;2124.;13.5;73;Japan\n",
      "Ford Pinto;19.0;4;122.0;85.00;2310.;18.5;73;US\n",
      "Mercury Capri v6;21.0;6;155.0;107.0;2472.;14.0;73;US\n",
      "Fiat 124 Sport Coupe;26.0;4;98.00;90.00;2265.;15.5;73;Europe\n",
      "Chevrolet Monte Carlo S;15.0;8;350.0;145.0;4082.;13.0;73;US\n",
      "Pontiac Grand Prix;16.0;8;400.0;230.0;4278.;9.50;73;US\n",
      "Fiat 128;29.0;4;68.00;49.00;1867.;19.5;73;Europe\n",
      "Opel Manta;24.0;4;116.0;75.00;2158.;15.5;73;Europe\n",
      "Audi 100LS;20.0;4;114.0;91.00;2582.;14.0;73;Europe\n",
      "Volvo 144ea;19.0;4;121.0;112.0;2868.;15.5;73;Europe\n",
      "Dodge Dart Custom;15.0;8;318.0;150.0;3399.;11.0;73;US\n",
      "Saab 99le;24.0;4;121.0;110.0;2660.;14.0;73;Europe\n",
      "Toyota Mark II;20.0;6;156.0;122.0;2807.;13.5;73;Japan\n",
      "Oldsmobile Omega;11.0;8;350.0;180.0;3664.;11.0;73;US\n",
      "Plymouth Duster;20.0;6;198.0;95.00;3102.;16.5;74;US\n",
      "Ford Maverick;21.0;6;200.0;0;2875.;17.0;74;US\n",
      "AMC Hornet;19.0;6;232.0;100.0;2901.;16.0;74;US\n",
      "Chevrolet Nova;15.0;6;250.0;100.0;3336.;17.0;74;US\n",
      "Datsun B210;31.0;4;79.00;67.00;1950.;19.0;74;Japan\n",
      "Ford Pinto;26.0;4;122.0;80.00;2451.;16.5;74;US\n",
      "Toyota Corolla 1200;32.0;4;71.00;65.00;1836.;21.0;74;Japan\n",
      "Chevrolet Vega;25.0;4;140.0;75.00;2542.;17.0;74;US\n",
      "Chevrolet Chevelle Malibu Classic;16.0;6;250.0;100.0;3781.;17.0;74;US\n",
      "AMC Matador;16.0;6;258.0;110.0;3632.;18.0;74;US\n",
      "Plymouth Satellite Sebring;18.0;6;225.0;105.0;3613.;16.5;74;US\n",
      "Ford Gran Torino;16.0;8;302.0;140.0;4141.;14.0;74;US\n",
      "Buick Century Luxus (sw);13.0;8;350.0;150.0;4699.;14.5;74;US\n",
      "Dodge Coronet Custom (sw);14.0;8;318.0;150.0;4457.;13.5;74;US\n",
      "Ford Gran Torino (sw);14.0;8;302.0;140.0;4638.;16.0;74;US\n",
      "AMC Matador (sw);14.0;8;304.0;150.0;4257.;15.5;74;US\n",
      "Audi Fox;29.0;4;98.00;83.00;2219.;16.5;74;Europe\n",
      "Volkswagen Dasher;26.0;4;79.00;67.00;1963.;15.5;74;Europe\n",
      "Opel Manta;26.0;4;97.00;78.00;2300.;14.5;74;Europe\n",
      "Toyota Corolla;31.0;4;76.00;52.00;1649.;16.5;74;Japan\n",
      "Datsun 710;32.0;4;83.00;61.00;2003.;19.0;74;Japan\n",
      "Dodge Colt;28.0;4;90.00;75.00;2125.;14.5;74;US\n",
      "Fiat 128;24.0;4;90.00;75.00;2108.;15.5;74;Europe\n",
      "Fiat 124 TC;26.0;4;116.0;75.00;2246.;14.0;74;Europe\n",
      "Honda Civic;24.0;4;120.0;97.00;2489.;15.0;74;Japan\n",
      "Subaru;26.0;4;108.0;93.00;2391.;15.5;74;Japan\n",
      "Fiat x1.9;31.0;4;79.00;67.00;2000.;16.0;74;Europe\n",
      "Plymouth Valiant Custom;19.0;6;225.0;95.00;3264.;16.0;75;US\n",
      "Chevrolet Nova;18.0;6;250.0;105.0;3459.;16.0;75;US\n",
      "Mercury Monarch;15.0;6;250.0;72.00;3432.;21.0;75;US\n",
      "Ford Maverick;15.0;6;250.0;72.00;3158.;19.5;75;US\n",
      "Pontiac Catalina;16.0;8;400.0;170.0;4668.;11.5;75;US\n",
      "Chevrolet Bel Air;15.0;8;350.0;145.0;4440.;14.0;75;US\n",
      "Plymouth Grand Fury;16.0;8;318.0;150.0;4498.;14.5;75;US\n",
      "Ford LTD;14.0;8;351.0;148.0;4657.;13.5;75;US\n",
      "Buick Century;17.0;6;231.0;110.0;3907.;21.0;75;US\n",
      "Chevrolete Chevelle Malibu;16.0;6;250.0;105.0;3897.;18.5;75;US\n",
      "AMC Matador;15.0;6;258.0;110.0;3730.;19.0;75;US\n",
      "Plymouth Fury;18.0;6;225.0;95.00;3785.;19.0;75;US\n",
      "Buick Skyhawk;21.0;6;231.0;110.0;3039.;15.0;75;US\n",
      "Chevrolet Monza 2+2;20.0;8;262.0;110.0;3221.;13.5;75;US\n",
      "Ford Mustang II;13.0;8;302.0;129.0;3169.;12.0;75;US\n",
      "Toyota Corolla;29.0;4;97.00;75.00;2171.;16.0;75;Japan\n",
      "Ford Pinto;23.0;4;140.0;83.00;2639.;17.0;75;US\n",
      "AMC Gremlin;20.0;6;232.0;100.0;2914.;16.0;75;US\n",
      "Pontiac Astro;23.0;4;140.0;78.00;2592.;18.5;75;US\n",
      "Toyota Corolla;24.0;4;134.0;96.00;2702.;13.5;75;Japan\n",
      "Volkswagen Dasher;25.0;4;90.00;71.00;2223.;16.5;75;Europe\n",
      "Datsun 710;24.0;4;119.0;97.00;2545.;17.0;75;Japan\n",
      "Ford Pinto;18.0;6;171.0;97.00;2984.;14.5;75;US\n",
      "Volkswagen Rabbit;29.0;4;90.00;70.00;1937.;14.0;75;Europe\n",
      "AMC Pacer;19.0;6;232.0;90.00;3211.;17.0;75;US\n",
      "Audi 100LS;23.0;4;115.0;95.00;2694.;15.0;75;Europe\n",
      "Peugeot 504;23.0;4;120.0;88.00;2957.;17.0;75;Europe\n",
      "Volvo 244DL;22.0;4;121.0;98.00;2945.;14.5;75;Europe\n",
      "Saab 99LE;25.0;4;121.0;115.0;2671.;13.5;75;Europe\n",
      "Honda Civic CVCC;33.0;4;91.00;53.00;1795.;17.5;75;Japan\n",
      "Fiat 131;28.0;4;107.0;86.00;2464.;15.5;76;Europe\n",
      "Opel 1900;25.0;4;116.0;81.00;2220.;16.9;76;Europe\n",
      "Capri ii;25.0;4;140.0;92.00;2572.;14.9;76;US\n",
      "Dodge Colt;26.0;4;98.00;79.00;2255.;17.7;76;US\n",
      "Renault 12tl;27.0;4;101.0;83.00;2202.;15.3;76;Europe\n",
      "Chevrolet Chevelle Malibu Classic;17.5;8;305.0;140.0;4215.;13.0;76;US\n",
      "Dodge Coronet Brougham;16.0;8;318.0;150.0;4190.;13.0;76;US\n",
      "AMC Matador;15.5;8;304.0;120.0;3962.;13.9;76;US\n",
      "Ford Gran Torino;14.5;8;351.0;152.0;4215.;12.8;76;US\n",
      "Plymouth Valiant;22.0;6;225.0;100.0;3233.;15.4;76;US\n",
      "Chevrolet Nova;22.0;6;250.0;105.0;3353.;14.5;76;US\n",
      "Ford Maverick;24.0;6;200.0;81.00;3012.;17.6;76;US\n",
      "AMC Hornet;22.5;6;232.0;90.00;3085.;17.6;76;US\n",
      "Chevrolet Chevette;29.0;4;85.00;52.00;2035.;22.2;76;US\n",
      "Chevrolet Woody;24.5;4;98.00;60.00;2164.;22.1;76;US\n",
      "Volkswagen Rabbit;29.0;4;90.00;70.00;1937.;14.2;76;Europe\n",
      "Honda Civic;33.0;4;91.00;53.00;1795.;17.4;76;Japan\n",
      "Dodge Aspen SE;20.0;6;225.0;100.0;3651.;17.7;76;US\n",
      "Ford Grenada ghia;18.0;6;250.0;78.00;3574.;21.0;76;US\n",
      "Pontiac Ventura SJ;18.5;6;250.0;110.0;3645.;16.2;76;US\n",
      "AMC Pacer d/l;17.5;6;258.0;95.00;3193.;17.8;76;US\n",
      "Volkswagen Rabbit;29.5;4;97.00;71.00;1825.;12.2;76;Europe\n",
      "Datsun B-210;32.0;4;85.00;70.00;1990.;17.0;76;Japan\n",
      "Toyota Corolla;28.0;4;97.00;75.00;2155.;16.4;76;Japan\n",
      "Ford Pinto;26.5;4;140.0;72.00;2565.;13.6;76;US\n",
      "Volvo 245;20.0;4;130.0;102.0;3150.;15.7;76;Europe\n",
      "Plymouth Volare Premier v8;13.0;8;318.0;150.0;3940.;13.2;76;US\n",
      "Peugeot 504;19.0;4;120.0;88.00;3270.;21.9;76;Europe\n",
      "Toyota Mark II;19.0;6;156.0;108.0;2930.;15.5;76;Japan\n",
      "Mercedes-Benz 280s;16.5;6;168.0;120.0;3820.;16.7;76;Europe\n",
      "Cadillac Seville;16.5;8;350.0;180.0;4380.;12.1;76;US\n",
      "Chevrolet C10;13.0;8;350.0;145.0;4055.;12.0;76;US\n",
      "Ford F108;13.0;8;302.0;130.0;3870.;15.0;76;US\n",
      "Dodge D100;13.0;8;318.0;150.0;3755.;14.0;76;US\n",
      "Honda Accord CVCC;31.5;4;98.00;68.00;2045.;18.5;77;Japan\n",
      "Buick Opel Isuzu Deluxe;30.0;4;111.0;80.00;2155.;14.8;77;US\n",
      "Renault 5 GTL;36.0;4;79.00;58.00;1825.;18.6;77;Europe\n",
      "Plymouth Arrow GS;25.5;4;122.0;96.00;2300.;15.5;77;US\n",
      "Datsun F-10 Hatchback;33.5;4;85.00;70.00;1945.;16.8;77;Japan\n",
      "Chevrolet Caprice Classic;17.5;8;305.0;145.0;3880.;12.5;77;US\n",
      "Oldsmobile Cutlass Supreme;17.0;8;260.0;110.0;4060.;19.0;77;US\n",
      "Dodge Monaco Brougham;15.5;8;318.0;145.0;4140.;13.7;77;US\n",
      "Mercury Cougar Brougham;15.0;8;302.0;130.0;4295.;14.9;77;US\n",
      "Chevrolet Concours;17.5;6;250.0;110.0;3520.;16.4;77;US\n",
      "Buick Skylark;20.5;6;231.0;105.0;3425.;16.9;77;US\n",
      "Plymouth Volare Custom;19.0;6;225.0;100.0;3630.;17.7;77;US\n",
      "Ford Grenada;18.5;6;250.0;98.00;3525.;19.0;77;US\n",
      "Pontiac Grand Prix LJ;16.0;8;400.0;180.0;4220.;11.1;77;US\n",
      "Chevrolet Monte Carlo Landau;15.5;8;350.0;170.0;4165.;11.4;77;US\n",
      "Chrysler Cordoba;15.5;8;400.0;190.0;4325.;12.2;77;US\n",
      "Ford Thunderbird;16.0;8;351.0;149.0;4335.;14.5;77;US\n",
      "Volkswagen Rabbit Custom;29.0;4;97.00;78.00;1940.;14.5;77;Europe\n",
      "Pontiac Sunbird Coupe;24.5;4;151.0;88.00;2740.;16.0;77;US\n",
      "Toyota Corolla Liftback;26.0;4;97.00;75.00;2265.;18.2;77;Japan\n",
      "Ford Mustang II 2+2;25.5;4;140.0;89.00;2755.;15.8;77;US\n",
      "Chevrolet Chevette;30.5;4;98.00;63.00;2051.;17.0;77;US\n",
      "Dodge Colt m/m;33.5;4;98.00;83.00;2075.;15.9;77;US\n",
      "Subaru DL;30.0;4;97.00;67.00;1985.;16.4;77;Japan\n",
      "Volkswagen Dasher;30.5;4;97.00;78.00;2190.;14.1;77;Europe\n",
      "Datsun 810;22.0;6;146.0;97.00;2815.;14.5;77;Japan\n",
      "BMW 320i;21.5;4;121.0;110.0;2600.;12.8;77;Europe\n",
      "Mazda RX-4;21.5;3;80.00;110.0;2720.;13.5;77;Japan\n",
      "Volkswagen Rabbit Custom Diesel;43.1;4;90.00;48.00;1985.;21.5;78;Europe\n",
      "Ford Fiesta;36.1;4;98.00;66.00;1800.;14.4;78;US\n",
      "Mazda GLC Deluxe;32.8;4;78.00;52.00;1985.;19.4;78;Japan\n",
      "Datsun B210 GX;39.4;4;85.00;70.00;2070.;18.6;78;Japan\n",
      "Honda Civic CVCC;36.1;4;91.00;60.00;1800.;16.4;78;Japan\n",
      "Oldsmobile Cutlass Salon Brougham;19.9;8;260.0;110.0;3365.;15.5;78;US\n",
      "Dodge Diplomat;19.4;8;318.0;140.0;3735.;13.2;78;US\n",
      "Mercury Monarch ghia;20.2;8;302.0;139.0;3570.;12.8;78;US\n",
      "Pontiac Phoenix LJ;19.2;6;231.0;105.0;3535.;19.2;78;US\n",
      "Chevrolet Malibu;20.5;6;200.0;95.00;3155.;18.2;78;US\n",
      "Ford Fairmont (auto);20.2;6;200.0;85.00;2965.;15.8;78;US\n",
      "Ford Fairmont (man);25.1;4;140.0;88.00;2720.;15.4;78;US\n",
      "Plymouth Volare;20.5;6;225.0;100.0;3430.;17.2;78;US\n",
      "AMC Concord;19.4;6;232.0;90.00;3210.;17.2;78;US\n",
      "Buick Century Special;20.6;6;231.0;105.0;3380.;15.8;78;US\n",
      "Mercury Zephyr;20.8;6;200.0;85.00;3070.;16.7;78;US\n",
      "Dodge Aspen;18.6;6;225.0;110.0;3620.;18.7;78;US\n",
      "AMC Concord d/l;18.1;6;258.0;120.0;3410.;15.1;78;US\n",
      "Chevrolet Monte Carlo Landau;19.2;8;305.0;145.0;3425.;13.2;78;US\n",
      "Buick Regal Sport Coupe (turbo);17.7;6;231.0;165.0;3445.;13.4;78;US\n",
      "Ford Futura;18.1;8;302.0;139.0;3205.;11.2;78;US\n",
      "Dodge Magnum XE;17.5;8;318.0;140.0;4080.;13.7;78;US\n",
      "Chevrolet Chevette;30.0;4;98.00;68.00;2155.;16.5;78;US\n",
      "Toyota Corolla;27.5;4;134.0;95.00;2560.;14.2;78;Japan\n",
      "Datsun 510;27.2;4;119.0;97.00;2300.;14.7;78;Japan\n",
      "Dodge Omni;30.9;4;105.0;75.00;2230.;14.5;78;US\n",
      "Toyota Celica GT Liftback;21.1;4;134.0;95.00;2515.;14.8;78;Japan\n",
      "Plymouth Sapporo;23.2;4;156.0;105.0;2745.;16.7;78;US\n",
      "Oldsmobile Starfire SX;23.8;4;151.0;85.00;2855.;17.6;78;US\n",
      "Datsun 200-SX;23.9;4;119.0;97.00;2405.;14.9;78;Japan\n",
      "Audi 5000;20.3;5;131.0;103.0;2830.;15.9;78;Europe\n",
      "Volvo 264gl;17.0;6;163.0;125.0;3140.;13.6;78;Europe\n",
      "Saab 99gle;21.6;4;121.0;115.0;2795.;15.7;78;Europe\n",
      "Peugeot 604sl;16.2;6;163.0;133.0;3410.;15.8;78;Europe\n",
      "Volkswagen Scirocco;31.5;4;89.00;71.00;1990.;14.9;78;Europe\n",
      "Honda Accord LX;29.5;4;98.00;68.00;2135.;16.6;78;Japan\n",
      "Pontiac Lemans V6;21.5;6;231.0;115.0;3245.;15.4;79;US\n",
      "Mercury Zephyr 6;19.8;6;200.0;85.00;2990.;18.2;79;US\n",
      "Ford Fairmont 4;22.3;4;140.0;88.00;2890.;17.3;79;US\n",
      "AMC Concord DL 6;20.2;6;232.0;90.00;3265.;18.2;79;US\n",
      "Dodge Aspen 6;20.6;6;225.0;110.0;3360.;16.6;79;US\n",
      "Chevrolet Caprice Classic;17.0;8;305.0;130.0;3840.;15.4;79;US\n",
      "Ford LTD Landau;17.6;8;302.0;129.0;3725.;13.4;79;US\n",
      "Mercury Grand Marquis;16.5;8;351.0;138.0;3955.;13.2;79;US\n",
      "Dodge St. Regis;18.2;8;318.0;135.0;3830.;15.2;79;US\n",
      "Buick Estate Wagon (sw);16.9;8;350.0;155.0;4360.;14.9;79;US\n",
      "Ford Country Squire (sw);15.5;8;351.0;142.0;4054.;14.3;79;US\n",
      "Chevrolet Malibu Classic (sw);19.2;8;267.0;125.0;3605.;15.0;79;US\n",
      "Chrysler Lebaron Town @ Country (sw);18.5;8;360.0;150.0;3940.;13.0;79;US\n",
      "Volkswagen Rabbit Custom;31.9;4;89.00;71.00;1925.;14.0;79;Europe\n",
      "Mazda GLC Deluxe;34.1;4;86.00;65.00;1975.;15.2;79;Japan\n",
      "Dodge Colt Hatchback Custom;35.7;4;98.00;80.00;1915.;14.4;79;US\n",
      "AMC Spirit DL;27.4;4;121.0;80.00;2670.;15.0;79;US\n",
      "Mercedes Benz 300d;25.4;5;183.0;77.00;3530.;20.1;79;Europe\n",
      "Cadillac Eldorado;23.0;8;350.0;125.0;3900.;17.4;79;US\n",
      "Peugeot 504;27.2;4;141.0;71.00;3190.;24.8;79;Europe\n",
      "Oldsmobile Cutlass Salon Brougham;23.9;8;260.0;90.00;3420.;22.2;79;US\n",
      "Plymouth Horizon;34.2;4;105.0;70.00;2200.;13.2;79;US\n",
      "Plymouth Horizon TC3;34.5;4;105.0;70.00;2150.;14.9;79;US\n",
      "Datsun 210;31.8;4;85.00;65.00;2020.;19.2;79;Japan\n",
      "Fiat Strada Custom;37.3;4;91.00;69.00;2130.;14.7;79;Europe\n",
      "Buick Skylark Limited;28.4;4;151.0;90.00;2670.;16.0;79;US\n",
      "Chevrolet Citation;28.8;6;173.0;115.0;2595.;11.3;79;US\n",
      "Oldsmobile Omega Brougham;26.8;6;173.0;115.0;2700.;12.9;79;US\n",
      "Pontiac Phoenix;33.5;4;151.0;90.00;2556.;13.2;79;US\n",
      "Volkswagen Rabbit;41.5;4;98.00;76.00;2144.;14.7;80;Europe\n",
      "Toyota Corolla Tercel;38.1;4;89.00;60.00;1968.;18.8;80;Japan\n",
      "Chevrolet Chevette;32.1;4;98.00;70.00;2120.;15.5;80;US\n",
      "Datsun 310;37.2;4;86.00;65.00;2019.;16.4;80;Japan\n",
      "Chevrolet Citation;28.0;4;151.0;90.00;2678.;16.5;80;US\n",
      "Ford Fairmont;26.4;4;140.0;88.00;2870.;18.1;80;US\n",
      "AMC Concord;24.3;4;151.0;90.00;3003.;20.1;80;US\n",
      "Dodge Aspen;19.1;6;225.0;90.00;3381.;18.7;80;US\n",
      "Audi 4000;34.3;4;97.00;78.00;2188.;15.8;80;Europe\n",
      "Toyota Corolla Liftback;29.8;4;134.0;90.00;2711.;15.5;80;Japan\n",
      "Mazda 626;31.3;4;120.0;75.00;2542.;17.5;80;Japan\n",
      "Datsun 510 Hatchback;37.0;4;119.0;92.00;2434.;15.0;80;Japan\n",
      "Toyota Corolla;32.2;4;108.0;75.00;2265.;15.2;80;Japan\n",
      "Mazda GLC;46.6;4;86.00;65.00;2110.;17.9;80;Japan\n",
      "Dodge Colt;27.9;4;156.0;105.0;2800.;14.4;80;US\n",
      "Datsun 210;40.8;4;85.00;65.00;2110.;19.2;80;Japan\n",
      "Volkswagen Rabbit C (Diesel);44.3;4;90.00;48.00;2085.;21.7;80;Europe\n",
      "Volkswagen Dasher (diesel);43.4;4;90.00;48.00;2335.;23.7;80;Europe\n",
      "Audi 5000s (diesel);36.4;5;121.0;67.00;2950.;19.9;80;Europe\n",
      "Mercedes-Benz 240d;30.0;4;146.0;67.00;3250.;21.8;80;Europe\n",
      "Honda Civic 1500 gl;44.6;4;91.00;67.00;1850.;13.8;80;Japan\n",
      "Renault Lecar Deluxe;40.9;4;85.00;0;1835.;17.3;80;Europe\n",
      "Subaru DL;33.8;4;97.00;67.00;2145.;18.0;80;Japan\n",
      "Volkswagen Rabbit;29.8;4;89.00;62.00;1845.;15.3;80;Europe\n",
      "Datsun 280-ZX;32.7;6;168.0;132.0;2910.;11.4;80;Japan\n",
      "Mazda RX-7 GS;23.7;3;70.00;100.0;2420.;12.5;80;Japan\n",
      "Triumph TR7 Coupe;35.0;4;122.0;88.00;2500.;15.1;80;Europe\n",
      "Ford Mustang Cobra;23.6;4;140.0;0;2905.;14.3;80;US\n",
      "Honda Accord;32.4;4;107.0;72.00;2290.;17.0;80;Japan\n",
      "Plymouth Reliant;27.2;4;135.0;84.00;2490.;15.7;81;US\n",
      "Buick Skylark;26.6;4;151.0;84.00;2635.;16.4;81;US\n",
      "Dodge Aries Wagon (sw);25.8;4;156.0;92.00;2620.;14.4;81;US\n",
      "Chevrolet Citation;23.5;6;173.0;110.0;2725.;12.6;81;US\n",
      "Plymouth Reliant;30.0;4;135.0;84.00;2385.;12.9;81;US\n",
      "Toyota Starlet;39.1;4;79.00;58.00;1755.;16.9;81;Japan\n",
      "Plymouth Champ;39.0;4;86.00;64.00;1875.;16.4;81;US\n",
      "Honda Civic 1300;35.1;4;81.00;60.00;1760.;16.1;81;Japan\n",
      "Subaru;32.3;4;97.00;67.00;2065.;17.8;81;Japan\n",
      "Datsun 210 MPG;37.0;4;85.00;65.00;1975.;19.4;81;Japan\n",
      "Toyota Tercel;37.7;4;89.00;62.00;2050.;17.3;81;Japan\n",
      "Mazda GLC 4;34.1;4;91.00;68.00;1985.;16.0;81;Japan\n",
      "Plymouth Horizon 4;34.7;4;105.0;63.00;2215.;14.9;81;US\n",
      "Ford Escort 4W;34.4;4;98.00;65.00;2045.;16.2;81;US\n",
      "Ford Escort 2H;29.9;4;98.00;65.00;2380.;20.7;81;US\n",
      "Volkswagen Jetta;33.0;4;105.0;74.00;2190.;14.2;81;Europe\n",
      "Renault 18i;34.5;4;100.0;0;2320.;15.8;81;Europe\n",
      "Honda Prelude;33.7;4;107.0;75.00;2210.;14.4;81;Japan\n",
      "Toyota Corolla;32.4;4;108.0;75.00;2350.;16.8;81;Japan\n",
      "Datsun 200SX;32.9;4;119.0;100.0;2615.;14.8;81;Japan\n",
      "Mazda 626;31.6;4;120.0;74.00;2635.;18.3;81;Japan\n",
      "Peugeot 505s Turbo Diesel;28.1;4;141.0;80.00;3230.;20.4;81;Europe\n",
      "Saab 900s;0;4;121.0;110.0;2800.;15.4;81;Europe\n",
      "Volvo Diesel;30.7;6;145.0;76.00;3160.;19.6;81;Europe\n",
      "Toyota Cressida;25.4;6;168.0;116.0;2900.;12.6;81;Japan\n",
      "Datsun 810 Maxima;24.2;6;146.0;120.0;2930.;13.8;81;Japan\n",
      "Buick Century;22.4;6;231.0;110.0;3415.;15.8;81;US\n",
      "Oldsmobile Cutlass LS;26.6;8;350.0;105.0;3725.;19.0;81;US\n",
      "Ford Grenada gl;20.2;6;200.0;88.00;3060.;17.1;81;US\n",
      "Chrysler Lebaron Salon;17.6;6;225.0;85.00;3465.;16.6;81;US\n",
      "Chevrolet Cavalier;28.0;4;112.0;88.00;2605.;19.6;82;US\n",
      "Chevrolet Cavalier Wagon;27.0;4;112.0;88.00;2640.;18.6;82;US\n",
      "Chevrolet Cavalier 2-door;34.0;4;112.0;88.00;2395.;18.0;82;US\n",
      "Pontiac J2000 SE Hatchback;31.0;4;112.0;85.00;2575.;16.2;82;US\n",
      "Dodge Aries SE;29.0;4;135.0;84.00;2525.;16.0;82;US\n",
      "Pontiac Phoenix;27.0;4;151.0;90.00;2735.;18.0;82;US\n",
      "Ford Fairmont Futura;24.0;4;140.0;92.00;2865.;16.4;82;US\n",
      "AMC Concord DL;23.0;4;151.0;0;3035.;20.5;82;US\n",
      "Volkswagen Rabbit l;36.0;4;105.0;74.00;1980.;15.3;82;Europe\n",
      "Mazda GLC Custom l;37.0;4;91.00;68.00;2025.;18.2;82;Japan\n",
      "Mazda GLC Custom;31.0;4;91.00;68.00;1970.;17.6;82;Japan\n",
      "Plymouth Horizon Miser;38.0;4;105.0;63.00;2125.;14.7;82;US\n",
      "Mercury Lynx l;36.0;4;98.00;70.00;2125.;17.3;82;US\n",
      "Nissan Stanza XE;36.0;4;120.0;88.00;2160.;14.5;82;Japan\n",
      "Honda Accord;36.0;4;107.0;75.00;2205.;14.5;82;Japan\n",
      "Toyota Corolla;34.0;4;108.0;70.00;2245;16.9;82;Japan\n",
      "Honda Civic;38.0;4;91.00;67.00;1965.;15.0;82;Japan\n",
      "Honda Civic (auto);32.0;4;91.00;67.00;1965.;15.7;82;Japan\n",
      "Datsun 310 GX;38.0;4;91.00;67.00;1995.;16.2;82;Japan\n",
      "Buick Century Limited;25.0;6;181.0;110.0;2945.;16.4;82;US\n",
      "Oldsmobile Cutlass Ciera (diesel);38.0;6;262.0;85.00;3015.;17.0;82;US\n",
      "Chrysler Lebaron Medallion;26.0;4;156.0;92.00;2585.;14.5;82;US\n",
      "Ford Grenada l;22.0;6;232.0;112.0;2835;14.7;82;US\n",
      "Toyota Celica GT;32.0;4;144.0;96.00;2665.;13.9;82;Japan\n",
      "Dodge Charger 2.2;36.0;4;135.0;84.00;2370.;13.0;82;US\n",
      "Chevrolet Camaro;27.0;4;151.0;90.00;2950.;17.3;82;US\n",
      "Ford Mustang GL;27.0;4;140.0;86.00;2790.;15.6;82;US\n",
      "Volkswagen Pickup;44.0;4;97.00;52.00;2130.;24.6;82;Europe\n",
      "Dodge Rampage;32.0;4;135.0;84.00;2295.;11.6;82;US\n",
      "Ford Ranger;28.0;4;120.0;79.00;2625.;18.6;82;US\n",
      "Chevy S-10;31.0;4;119.0;82.00;2720.;19.4;82;US\n"
     ]
    }
   ],
   "source": [
    "with open('cars.csv') as f:\n",
    "    for row in f:\n",
    "        print(row, end='')"
   ]
  },
  {
   "cell_type": "code",
   "execution_count": 36,
   "metadata": {},
   "outputs": [],
   "source": [
    "with open('cars.csv') as f:\n",
    "    l = f.readlines()"
   ]
  },
  {
   "cell_type": "code",
   "execution_count": 37,
   "metadata": {},
   "outputs": [
    {
     "data": {
      "text/plain": [
       "['Car;MPG;Cylinders;Displacement;Horsepower;Weight;Acceleration;Model;Origin\\n',\n",
       " 'STRING;DOUBLE;INT;DOUBLE;DOUBLE;DOUBLE;DOUBLE;INT;CAT\\n',\n",
       " 'Chevrolet Chevelle Malibu;18.0;8;307.0;130.0;3504.;12.0;70;US\\n',\n",
       " 'Buick Skylark 320;15.0;8;350.0;165.0;3693.;11.5;70;US\\n',\n",
       " 'Plymouth Satellite;18.0;8;318.0;150.0;3436.;11.0;70;US\\n',\n",
       " 'AMC Rebel SST;16.0;8;304.0;150.0;3433.;12.0;70;US\\n',\n",
       " 'Ford Torino;17.0;8;302.0;140.0;3449.;10.5;70;US\\n',\n",
       " 'Ford Galaxie 500;15.0;8;429.0;198.0;4341.;10.0;70;US\\n',\n",
       " 'Chevrolet Impala;14.0;8;454.0;220.0;4354.;9.0;70;US\\n',\n",
       " 'Plymouth Fury iii;14.0;8;440.0;215.0;4312.;8.5;70;US\\n',\n",
       " 'Pontiac Catalina;14.0;8;455.0;225.0;4425.;10.0;70;US\\n',\n",
       " 'AMC Ambassador DPL;15.0;8;390.0;190.0;3850.;8.5;70;US\\n',\n",
       " 'Citroen DS-21 Pallas;0;4;133.0;115.0;3090.;17.5;70;Europe\\n',\n",
       " 'Chevrolet Chevelle Concours (sw);0;8;350.0;165.0;4142.;11.5;70;US\\n',\n",
       " 'Ford Torino (sw);0;8;351.0;153.0;4034.;11.0;70;US\\n',\n",
       " 'Plymouth Satellite (sw);0;8;383.0;175.0;4166.;10.5;70;US\\n',\n",
       " 'AMC Rebel SST (sw);0;8;360.0;175.0;3850.;11.0;70;US\\n',\n",
       " 'Dodge Challenger SE;15.0;8;383.0;170.0;3563.;10.0;70;US\\n',\n",
       " \"Plymouth 'Cuda 340;14.0;8;340.0;160.0;3609.;8.0;70;US\\n\",\n",
       " 'Ford Mustang Boss 302;0;8;302.0;140.0;3353.;8.0;70;US\\n',\n",
       " 'Chevrolet Monte Carlo;15.0;8;400.0;150.0;3761.;9.5;70;US\\n',\n",
       " 'Buick Estate Wagon (sw);14.0;8;455.0;225.0;3086.;10.0;70;US\\n',\n",
       " 'Toyota Corolla Mark ii;24.0;4;113.0;95.00;2372.;15.0;70;Japan\\n',\n",
       " 'Plymouth Duster;22.0;6;198.0;95.00;2833.;15.5;70;US\\n',\n",
       " 'AMC Hornet;18.0;6;199.0;97.00;2774.;15.5;70;US\\n',\n",
       " 'Ford Maverick;21.0;6;200.0;85.00;2587.;16.0;70;US\\n',\n",
       " 'Datsun PL510;27.0;4;97.00;88.00;2130.;14.5;70;Japan\\n',\n",
       " 'Volkswagen 1131 Deluxe Sedan;26.0;4;97.00;46.00;1835.;20.5;70;Europe\\n',\n",
       " 'Peugeot 504;25.0;4;110.0;87.00;2672.;17.5;70;Europe\\n',\n",
       " 'Audi 100 LS;24.0;4;107.0;90.00;2430.;14.5;70;Europe\\n',\n",
       " 'Saab 99e;25.0;4;104.0;95.00;2375.;17.5;70;Europe\\n',\n",
       " 'BMW 2002;26.0;4;121.0;113.0;2234.;12.5;70;Europe\\n',\n",
       " 'AMC Gremlin;21.0;6;199.0;90.00;2648.;15.0;70;US\\n',\n",
       " 'Ford F250;10.0;8;360.0;215.0;4615.;14.0;70;US\\n',\n",
       " 'Chevy C20;10.0;8;307.0;200.0;4376.;15.0;70;US\\n',\n",
       " 'Dodge D200;11.0;8;318.0;210.0;4382.;13.5;70;US\\n',\n",
       " 'Hi 1200D;9.0;8;304.0;193.0;4732.;18.5;70;US\\n',\n",
       " 'Datsun PL510;27.0;4;97.00;88.00;2130.;14.5;71;Japan\\n',\n",
       " 'Chevrolet Vega 2300;28.0;4;140.0;90.00;2264.;15.5;71;US\\n',\n",
       " 'Toyota Corolla;25.0;4;113.0;95.00;2228.;14.0;71;Japan\\n',\n",
       " 'Ford Pinto;25.0;4;98.00;0;2046.;19.0;71;US\\n',\n",
       " 'Volkswagen Super Beetle 117;0;4;97.00;48.00;1978.;20.0;71;Europe\\n',\n",
       " 'AMC Gremlin;19.0;6;232.0;100.0;2634.;13.0;71;US\\n',\n",
       " 'Plymouth Satellite Custom;16.0;6;225.0;105.0;3439.;15.5;71;US\\n',\n",
       " 'Chevrolet Chevelle Malibu;17.0;6;250.0;100.0;3329.;15.5;71;US\\n',\n",
       " 'Ford Torino 500;19.0;6;250.0;88.00;3302.;15.5;71;US\\n',\n",
       " 'AMC Matador;18.0;6;232.0;100.0;3288.;15.5;71;US\\n',\n",
       " 'Chevrolet Impala;14.0;8;350.0;165.0;4209.;12.0;71;US\\n',\n",
       " 'Pontiac Catalina Brougham;14.0;8;400.0;175.0;4464.;11.5;71;US\\n',\n",
       " 'Ford Galaxie 500;14.0;8;351.0;153.0;4154.;13.5;71;US\\n',\n",
       " 'Plymouth Fury iii;14.0;8;318.0;150.0;4096.;13.0;71;US\\n',\n",
       " 'Dodge Monaco (sw);12.0;8;383.0;180.0;4955.;11.5;71;US\\n',\n",
       " 'Ford Country Squire (sw);13.0;8;400.0;170.0;4746.;12.0;71;US\\n',\n",
       " 'Pontiac Safari (sw);13.0;8;400.0;175.0;5140.;12.0;71;US\\n',\n",
       " 'AMC Hornet Sportabout (sw);18.0;6;258.0;110.0;2962.;13.5;71;US\\n',\n",
       " 'Chevrolet Vega (sw);22.0;4;140.0;72.00;2408.;19.0;71;US\\n',\n",
       " 'Pontiac Firebird;19.0;6;250.0;100.0;3282.;15.0;71;US\\n',\n",
       " 'Ford Mustang;18.0;6;250.0;88.00;3139.;14.5;71;US\\n',\n",
       " 'Mercury Capri 2000;23.0;4;122.0;86.00;2220.;14.0;71;US\\n',\n",
       " 'Opel 1900;28.0;4;116.0;90.00;2123.;14.0;71;Europe\\n',\n",
       " 'Peugeot 304;30.0;4;79.00;70.00;2074.;19.5;71;Europe\\n',\n",
       " 'Fiat 124B;30.0;4;88.00;76.00;2065.;14.5;71;Europe\\n',\n",
       " 'Toyota Corolla 1200;31.0;4;71.00;65.00;1773.;19.0;71;Japan\\n',\n",
       " 'Datsun 1200;35.0;4;72.00;69.00;1613.;18.0;71;Japan\\n',\n",
       " 'Volkswagen Model 111;27.0;4;97.00;60.00;1834.;19.0;71;Europe\\n',\n",
       " 'Plymouth Cricket;26.0;4;91.00;70.00;1955.;20.5;71;US\\n',\n",
       " 'Toyota Corolla Hardtop;24.0;4;113.0;95.00;2278.;15.5;72;Japan\\n',\n",
       " 'Dodge Colt Hardtop;25.0;4;97.50;80.00;2126.;17.0;72;US\\n',\n",
       " 'Volkswagen Type 3;23.0;4;97.00;54.00;2254.;23.5;72;Europe\\n',\n",
       " 'Chevrolet Vega;20.0;4;140.0;90.00;2408.;19.5;72;US\\n',\n",
       " 'Ford Pinto Runabout;21.0;4;122.0;86.00;2226.;16.5;72;US\\n',\n",
       " 'Chevrolet Impala;13.0;8;350.0;165.0;4274.;12.0;72;US\\n',\n",
       " 'Pontiac Catalina;14.0;8;400.0;175.0;4385.;12.0;72;US\\n',\n",
       " 'Plymouth Fury III;15.0;8;318.0;150.0;4135.;13.5;72;US\\n',\n",
       " 'Ford Galaxie 500;14.0;8;351.0;153.0;4129.;13.0;72;US\\n',\n",
       " 'AMC Ambassador SST;17.0;8;304.0;150.0;3672.;11.5;72;US\\n',\n",
       " 'Mercury Marquis;11.0;8;429.0;208.0;4633.;11.0;72;US\\n',\n",
       " 'Buick LeSabre Custom;13.0;8;350.0;155.0;4502.;13.5;72;US\\n',\n",
       " 'Oldsmobile Delta 88 Royale;12.0;8;350.0;160.0;4456.;13.5;72;US\\n',\n",
       " 'Chrysler Newport Royal;13.0;8;400.0;190.0;4422.;12.5;72;US\\n',\n",
       " 'Mazda RX2 Coupe;19.0;3;70.00;97.00;2330.;13.5;72;Japan\\n',\n",
       " 'AMC Matador (sw);15.0;8;304.0;150.0;3892.;12.5;72;US\\n',\n",
       " 'Chevrolet Chevelle Concours (sw);13.0;8;307.0;130.0;4098.;14.0;72;US\\n',\n",
       " 'Ford Gran Torino (sw);13.0;8;302.0;140.0;4294.;16.0;72;US\\n',\n",
       " 'Plymouth Satellite Custom (sw);14.0;8;318.0;150.0;4077.;14.0;72;US\\n',\n",
       " 'Volvo 145e (sw);18.0;4;121.0;112.0;2933.;14.5;72;Europe\\n',\n",
       " 'Volkswagen 411 (sw);22.0;4;121.0;76.00;2511.;18.0;72;Europe\\n',\n",
       " 'Peugeot 504 (sw);21.0;4;120.0;87.00;2979.;19.5;72;Europe\\n',\n",
       " 'Renault 12 (sw);26.0;4;96.00;69.00;2189.;18.0;72;Europe\\n',\n",
       " 'Ford Pinto (sw);22.0;4;122.0;86.00;2395.;16.0;72;US\\n',\n",
       " 'Datsun 510 (sw);28.0;4;97.00;92.00;2288.;17.0;72;Japan\\n',\n",
       " 'Toyota Corolla Mark II (sw);23.0;4;120.0;97.00;2506.;14.5;72;Japan\\n',\n",
       " 'Dodge Colt (sw);28.0;4;98.00;80.00;2164.;15.0;72;US\\n',\n",
       " 'Toyota Corolla 1600 (sw);27.0;4;97.00;88.00;2100.;16.5;72;Japan\\n',\n",
       " 'Buick Century 350;13.0;8;350.0;175.0;4100.;13.0;73;US\\n',\n",
       " 'AMC Matador;14.0;8;304.0;150.0;3672.;11.5;73;US\\n',\n",
       " 'Chevrolet Malibu;13.0;8;350.0;145.0;3988.;13.0;73;US\\n',\n",
       " 'Ford Gran Torino;14.0;8;302.0;137.0;4042.;14.5;73;US\\n',\n",
       " 'Dodge Coronet Custom;15.0;8;318.0;150.0;3777.;12.5;73;US\\n',\n",
       " 'Mercury Marquis Brougham;12.0;8;429.0;198.0;4952.;11.5;73;US\\n',\n",
       " 'Chevrolet Caprice Classic;13.0;8;400.0;150.0;4464.;12.0;73;US\\n',\n",
       " 'Ford LTD;13.0;8;351.0;158.0;4363.;13.0;73;US\\n',\n",
       " 'Plymouth Fury Gran Sedan;14.0;8;318.0;150.0;4237.;14.5;73;US\\n',\n",
       " 'Chrysler New Yorker Brougham;13.0;8;440.0;215.0;4735.;11.0;73;US\\n',\n",
       " 'Buick Electra 225 Custom;12.0;8;455.0;225.0;4951.;11.0;73;US\\n',\n",
       " 'AMC Ambassador Brougham;13.0;8;360.0;175.0;3821.;11.0;73;US\\n',\n",
       " 'Plymouth Valiant;18.0;6;225.0;105.0;3121.;16.5;73;US\\n',\n",
       " 'Chevrolet Nova Custom;16.0;6;250.0;100.0;3278.;18.0;73;US\\n',\n",
       " 'AMC Hornet;18.0;6;232.0;100.0;2945.;16.0;73;US\\n',\n",
       " 'Ford Maverick;18.0;6;250.0;88.00;3021.;16.5;73;US\\n',\n",
       " 'Plymouth Duster;23.0;6;198.0;95.00;2904.;16.0;73;US\\n',\n",
       " 'Volkswagen Super Beetle;26.0;4;97.00;46.00;1950.;21.0;73;Europe\\n',\n",
       " 'Chevrolet Impala;11.0;8;400.0;150.0;4997.;14.0;73;US\\n',\n",
       " 'Ford Country;12.0;8;400.0;167.0;4906.;12.5;73;US\\n',\n",
       " 'Plymouth Custom Suburb;13.0;8;360.0;170.0;4654.;13.0;73;US\\n',\n",
       " 'Oldsmobile Vista Cruiser;12.0;8;350.0;180.0;4499.;12.5;73;US\\n',\n",
       " 'AMC Gremlin;18.0;6;232.0;100.0;2789.;15.0;73;US\\n',\n",
       " 'Toyota Camry;20.0;4;97.00;88.00;2279.;19.0;73;Japan\\n',\n",
       " 'Chevrolet Vega;21.0;4;140.0;72.00;2401.;19.5;73;US\\n',\n",
       " 'Datsun 610;22.0;4;108.0;94.00;2379.;16.5;73;Japan\\n',\n",
       " 'Mazda RX3;18.0;3;70.00;90.00;2124.;13.5;73;Japan\\n',\n",
       " 'Ford Pinto;19.0;4;122.0;85.00;2310.;18.5;73;US\\n',\n",
       " 'Mercury Capri v6;21.0;6;155.0;107.0;2472.;14.0;73;US\\n',\n",
       " 'Fiat 124 Sport Coupe;26.0;4;98.00;90.00;2265.;15.5;73;Europe\\n',\n",
       " 'Chevrolet Monte Carlo S;15.0;8;350.0;145.0;4082.;13.0;73;US\\n',\n",
       " 'Pontiac Grand Prix;16.0;8;400.0;230.0;4278.;9.50;73;US\\n',\n",
       " 'Fiat 128;29.0;4;68.00;49.00;1867.;19.5;73;Europe\\n',\n",
       " 'Opel Manta;24.0;4;116.0;75.00;2158.;15.5;73;Europe\\n',\n",
       " 'Audi 100LS;20.0;4;114.0;91.00;2582.;14.0;73;Europe\\n',\n",
       " 'Volvo 144ea;19.0;4;121.0;112.0;2868.;15.5;73;Europe\\n',\n",
       " 'Dodge Dart Custom;15.0;8;318.0;150.0;3399.;11.0;73;US\\n',\n",
       " 'Saab 99le;24.0;4;121.0;110.0;2660.;14.0;73;Europe\\n',\n",
       " 'Toyota Mark II;20.0;6;156.0;122.0;2807.;13.5;73;Japan\\n',\n",
       " 'Oldsmobile Omega;11.0;8;350.0;180.0;3664.;11.0;73;US\\n',\n",
       " 'Plymouth Duster;20.0;6;198.0;95.00;3102.;16.5;74;US\\n',\n",
       " 'Ford Maverick;21.0;6;200.0;0;2875.;17.0;74;US\\n',\n",
       " 'AMC Hornet;19.0;6;232.0;100.0;2901.;16.0;74;US\\n',\n",
       " 'Chevrolet Nova;15.0;6;250.0;100.0;3336.;17.0;74;US\\n',\n",
       " 'Datsun B210;31.0;4;79.00;67.00;1950.;19.0;74;Japan\\n',\n",
       " 'Ford Pinto;26.0;4;122.0;80.00;2451.;16.5;74;US\\n',\n",
       " 'Toyota Corolla 1200;32.0;4;71.00;65.00;1836.;21.0;74;Japan\\n',\n",
       " 'Chevrolet Vega;25.0;4;140.0;75.00;2542.;17.0;74;US\\n',\n",
       " 'Chevrolet Chevelle Malibu Classic;16.0;6;250.0;100.0;3781.;17.0;74;US\\n',\n",
       " 'AMC Matador;16.0;6;258.0;110.0;3632.;18.0;74;US\\n',\n",
       " 'Plymouth Satellite Sebring;18.0;6;225.0;105.0;3613.;16.5;74;US\\n',\n",
       " 'Ford Gran Torino;16.0;8;302.0;140.0;4141.;14.0;74;US\\n',\n",
       " 'Buick Century Luxus (sw);13.0;8;350.0;150.0;4699.;14.5;74;US\\n',\n",
       " 'Dodge Coronet Custom (sw);14.0;8;318.0;150.0;4457.;13.5;74;US\\n',\n",
       " 'Ford Gran Torino (sw);14.0;8;302.0;140.0;4638.;16.0;74;US\\n',\n",
       " 'AMC Matador (sw);14.0;8;304.0;150.0;4257.;15.5;74;US\\n',\n",
       " 'Audi Fox;29.0;4;98.00;83.00;2219.;16.5;74;Europe\\n',\n",
       " 'Volkswagen Dasher;26.0;4;79.00;67.00;1963.;15.5;74;Europe\\n',\n",
       " 'Opel Manta;26.0;4;97.00;78.00;2300.;14.5;74;Europe\\n',\n",
       " 'Toyota Corolla;31.0;4;76.00;52.00;1649.;16.5;74;Japan\\n',\n",
       " 'Datsun 710;32.0;4;83.00;61.00;2003.;19.0;74;Japan\\n',\n",
       " 'Dodge Colt;28.0;4;90.00;75.00;2125.;14.5;74;US\\n',\n",
       " 'Fiat 128;24.0;4;90.00;75.00;2108.;15.5;74;Europe\\n',\n",
       " 'Fiat 124 TC;26.0;4;116.0;75.00;2246.;14.0;74;Europe\\n',\n",
       " 'Honda Civic;24.0;4;120.0;97.00;2489.;15.0;74;Japan\\n',\n",
       " 'Subaru;26.0;4;108.0;93.00;2391.;15.5;74;Japan\\n',\n",
       " 'Fiat x1.9;31.0;4;79.00;67.00;2000.;16.0;74;Europe\\n',\n",
       " 'Plymouth Valiant Custom;19.0;6;225.0;95.00;3264.;16.0;75;US\\n',\n",
       " 'Chevrolet Nova;18.0;6;250.0;105.0;3459.;16.0;75;US\\n',\n",
       " 'Mercury Monarch;15.0;6;250.0;72.00;3432.;21.0;75;US\\n',\n",
       " 'Ford Maverick;15.0;6;250.0;72.00;3158.;19.5;75;US\\n',\n",
       " 'Pontiac Catalina;16.0;8;400.0;170.0;4668.;11.5;75;US\\n',\n",
       " 'Chevrolet Bel Air;15.0;8;350.0;145.0;4440.;14.0;75;US\\n',\n",
       " 'Plymouth Grand Fury;16.0;8;318.0;150.0;4498.;14.5;75;US\\n',\n",
       " 'Ford LTD;14.0;8;351.0;148.0;4657.;13.5;75;US\\n',\n",
       " 'Buick Century;17.0;6;231.0;110.0;3907.;21.0;75;US\\n',\n",
       " 'Chevrolete Chevelle Malibu;16.0;6;250.0;105.0;3897.;18.5;75;US\\n',\n",
       " 'AMC Matador;15.0;6;258.0;110.0;3730.;19.0;75;US\\n',\n",
       " 'Plymouth Fury;18.0;6;225.0;95.00;3785.;19.0;75;US\\n',\n",
       " 'Buick Skyhawk;21.0;6;231.0;110.0;3039.;15.0;75;US\\n',\n",
       " 'Chevrolet Monza 2+2;20.0;8;262.0;110.0;3221.;13.5;75;US\\n',\n",
       " 'Ford Mustang II;13.0;8;302.0;129.0;3169.;12.0;75;US\\n',\n",
       " 'Toyota Corolla;29.0;4;97.00;75.00;2171.;16.0;75;Japan\\n',\n",
       " 'Ford Pinto;23.0;4;140.0;83.00;2639.;17.0;75;US\\n',\n",
       " 'AMC Gremlin;20.0;6;232.0;100.0;2914.;16.0;75;US\\n',\n",
       " 'Pontiac Astro;23.0;4;140.0;78.00;2592.;18.5;75;US\\n',\n",
       " 'Toyota Corolla;24.0;4;134.0;96.00;2702.;13.5;75;Japan\\n',\n",
       " 'Volkswagen Dasher;25.0;4;90.00;71.00;2223.;16.5;75;Europe\\n',\n",
       " 'Datsun 710;24.0;4;119.0;97.00;2545.;17.0;75;Japan\\n',\n",
       " 'Ford Pinto;18.0;6;171.0;97.00;2984.;14.5;75;US\\n',\n",
       " 'Volkswagen Rabbit;29.0;4;90.00;70.00;1937.;14.0;75;Europe\\n',\n",
       " 'AMC Pacer;19.0;6;232.0;90.00;3211.;17.0;75;US\\n',\n",
       " 'Audi 100LS;23.0;4;115.0;95.00;2694.;15.0;75;Europe\\n',\n",
       " 'Peugeot 504;23.0;4;120.0;88.00;2957.;17.0;75;Europe\\n',\n",
       " 'Volvo 244DL;22.0;4;121.0;98.00;2945.;14.5;75;Europe\\n',\n",
       " 'Saab 99LE;25.0;4;121.0;115.0;2671.;13.5;75;Europe\\n',\n",
       " 'Honda Civic CVCC;33.0;4;91.00;53.00;1795.;17.5;75;Japan\\n',\n",
       " 'Fiat 131;28.0;4;107.0;86.00;2464.;15.5;76;Europe\\n',\n",
       " 'Opel 1900;25.0;4;116.0;81.00;2220.;16.9;76;Europe\\n',\n",
       " 'Capri ii;25.0;4;140.0;92.00;2572.;14.9;76;US\\n',\n",
       " 'Dodge Colt;26.0;4;98.00;79.00;2255.;17.7;76;US\\n',\n",
       " 'Renault 12tl;27.0;4;101.0;83.00;2202.;15.3;76;Europe\\n',\n",
       " 'Chevrolet Chevelle Malibu Classic;17.5;8;305.0;140.0;4215.;13.0;76;US\\n',\n",
       " 'Dodge Coronet Brougham;16.0;8;318.0;150.0;4190.;13.0;76;US\\n',\n",
       " 'AMC Matador;15.5;8;304.0;120.0;3962.;13.9;76;US\\n',\n",
       " 'Ford Gran Torino;14.5;8;351.0;152.0;4215.;12.8;76;US\\n',\n",
       " 'Plymouth Valiant;22.0;6;225.0;100.0;3233.;15.4;76;US\\n',\n",
       " 'Chevrolet Nova;22.0;6;250.0;105.0;3353.;14.5;76;US\\n',\n",
       " 'Ford Maverick;24.0;6;200.0;81.00;3012.;17.6;76;US\\n',\n",
       " 'AMC Hornet;22.5;6;232.0;90.00;3085.;17.6;76;US\\n',\n",
       " 'Chevrolet Chevette;29.0;4;85.00;52.00;2035.;22.2;76;US\\n',\n",
       " 'Chevrolet Woody;24.5;4;98.00;60.00;2164.;22.1;76;US\\n',\n",
       " 'Volkswagen Rabbit;29.0;4;90.00;70.00;1937.;14.2;76;Europe\\n',\n",
       " 'Honda Civic;33.0;4;91.00;53.00;1795.;17.4;76;Japan\\n',\n",
       " 'Dodge Aspen SE;20.0;6;225.0;100.0;3651.;17.7;76;US\\n',\n",
       " 'Ford Grenada ghia;18.0;6;250.0;78.00;3574.;21.0;76;US\\n',\n",
       " 'Pontiac Ventura SJ;18.5;6;250.0;110.0;3645.;16.2;76;US\\n',\n",
       " 'AMC Pacer d/l;17.5;6;258.0;95.00;3193.;17.8;76;US\\n',\n",
       " 'Volkswagen Rabbit;29.5;4;97.00;71.00;1825.;12.2;76;Europe\\n',\n",
       " 'Datsun B-210;32.0;4;85.00;70.00;1990.;17.0;76;Japan\\n',\n",
       " 'Toyota Corolla;28.0;4;97.00;75.00;2155.;16.4;76;Japan\\n',\n",
       " 'Ford Pinto;26.5;4;140.0;72.00;2565.;13.6;76;US\\n',\n",
       " 'Volvo 245;20.0;4;130.0;102.0;3150.;15.7;76;Europe\\n',\n",
       " 'Plymouth Volare Premier v8;13.0;8;318.0;150.0;3940.;13.2;76;US\\n',\n",
       " 'Peugeot 504;19.0;4;120.0;88.00;3270.;21.9;76;Europe\\n',\n",
       " 'Toyota Mark II;19.0;6;156.0;108.0;2930.;15.5;76;Japan\\n',\n",
       " 'Mercedes-Benz 280s;16.5;6;168.0;120.0;3820.;16.7;76;Europe\\n',\n",
       " 'Cadillac Seville;16.5;8;350.0;180.0;4380.;12.1;76;US\\n',\n",
       " 'Chevrolet C10;13.0;8;350.0;145.0;4055.;12.0;76;US\\n',\n",
       " 'Ford F108;13.0;8;302.0;130.0;3870.;15.0;76;US\\n',\n",
       " 'Dodge D100;13.0;8;318.0;150.0;3755.;14.0;76;US\\n',\n",
       " 'Honda Accord CVCC;31.5;4;98.00;68.00;2045.;18.5;77;Japan\\n',\n",
       " 'Buick Opel Isuzu Deluxe;30.0;4;111.0;80.00;2155.;14.8;77;US\\n',\n",
       " 'Renault 5 GTL;36.0;4;79.00;58.00;1825.;18.6;77;Europe\\n',\n",
       " 'Plymouth Arrow GS;25.5;4;122.0;96.00;2300.;15.5;77;US\\n',\n",
       " 'Datsun F-10 Hatchback;33.5;4;85.00;70.00;1945.;16.8;77;Japan\\n',\n",
       " 'Chevrolet Caprice Classic;17.5;8;305.0;145.0;3880.;12.5;77;US\\n',\n",
       " 'Oldsmobile Cutlass Supreme;17.0;8;260.0;110.0;4060.;19.0;77;US\\n',\n",
       " 'Dodge Monaco Brougham;15.5;8;318.0;145.0;4140.;13.7;77;US\\n',\n",
       " 'Mercury Cougar Brougham;15.0;8;302.0;130.0;4295.;14.9;77;US\\n',\n",
       " 'Chevrolet Concours;17.5;6;250.0;110.0;3520.;16.4;77;US\\n',\n",
       " 'Buick Skylark;20.5;6;231.0;105.0;3425.;16.9;77;US\\n',\n",
       " 'Plymouth Volare Custom;19.0;6;225.0;100.0;3630.;17.7;77;US\\n',\n",
       " 'Ford Grenada;18.5;6;250.0;98.00;3525.;19.0;77;US\\n',\n",
       " 'Pontiac Grand Prix LJ;16.0;8;400.0;180.0;4220.;11.1;77;US\\n',\n",
       " 'Chevrolet Monte Carlo Landau;15.5;8;350.0;170.0;4165.;11.4;77;US\\n',\n",
       " 'Chrysler Cordoba;15.5;8;400.0;190.0;4325.;12.2;77;US\\n',\n",
       " 'Ford Thunderbird;16.0;8;351.0;149.0;4335.;14.5;77;US\\n',\n",
       " 'Volkswagen Rabbit Custom;29.0;4;97.00;78.00;1940.;14.5;77;Europe\\n',\n",
       " 'Pontiac Sunbird Coupe;24.5;4;151.0;88.00;2740.;16.0;77;US\\n',\n",
       " 'Toyota Corolla Liftback;26.0;4;97.00;75.00;2265.;18.2;77;Japan\\n',\n",
       " 'Ford Mustang II 2+2;25.5;4;140.0;89.00;2755.;15.8;77;US\\n',\n",
       " 'Chevrolet Chevette;30.5;4;98.00;63.00;2051.;17.0;77;US\\n',\n",
       " 'Dodge Colt m/m;33.5;4;98.00;83.00;2075.;15.9;77;US\\n',\n",
       " 'Subaru DL;30.0;4;97.00;67.00;1985.;16.4;77;Japan\\n',\n",
       " 'Volkswagen Dasher;30.5;4;97.00;78.00;2190.;14.1;77;Europe\\n',\n",
       " 'Datsun 810;22.0;6;146.0;97.00;2815.;14.5;77;Japan\\n',\n",
       " 'BMW 320i;21.5;4;121.0;110.0;2600.;12.8;77;Europe\\n',\n",
       " 'Mazda RX-4;21.5;3;80.00;110.0;2720.;13.5;77;Japan\\n',\n",
       " 'Volkswagen Rabbit Custom Diesel;43.1;4;90.00;48.00;1985.;21.5;78;Europe\\n',\n",
       " 'Ford Fiesta;36.1;4;98.00;66.00;1800.;14.4;78;US\\n',\n",
       " 'Mazda GLC Deluxe;32.8;4;78.00;52.00;1985.;19.4;78;Japan\\n',\n",
       " 'Datsun B210 GX;39.4;4;85.00;70.00;2070.;18.6;78;Japan\\n',\n",
       " 'Honda Civic CVCC;36.1;4;91.00;60.00;1800.;16.4;78;Japan\\n',\n",
       " 'Oldsmobile Cutlass Salon Brougham;19.9;8;260.0;110.0;3365.;15.5;78;US\\n',\n",
       " 'Dodge Diplomat;19.4;8;318.0;140.0;3735.;13.2;78;US\\n',\n",
       " 'Mercury Monarch ghia;20.2;8;302.0;139.0;3570.;12.8;78;US\\n',\n",
       " 'Pontiac Phoenix LJ;19.2;6;231.0;105.0;3535.;19.2;78;US\\n',\n",
       " 'Chevrolet Malibu;20.5;6;200.0;95.00;3155.;18.2;78;US\\n',\n",
       " 'Ford Fairmont (auto);20.2;6;200.0;85.00;2965.;15.8;78;US\\n',\n",
       " 'Ford Fairmont (man);25.1;4;140.0;88.00;2720.;15.4;78;US\\n',\n",
       " 'Plymouth Volare;20.5;6;225.0;100.0;3430.;17.2;78;US\\n',\n",
       " 'AMC Concord;19.4;6;232.0;90.00;3210.;17.2;78;US\\n',\n",
       " 'Buick Century Special;20.6;6;231.0;105.0;3380.;15.8;78;US\\n',\n",
       " 'Mercury Zephyr;20.8;6;200.0;85.00;3070.;16.7;78;US\\n',\n",
       " 'Dodge Aspen;18.6;6;225.0;110.0;3620.;18.7;78;US\\n',\n",
       " 'AMC Concord d/l;18.1;6;258.0;120.0;3410.;15.1;78;US\\n',\n",
       " 'Chevrolet Monte Carlo Landau;19.2;8;305.0;145.0;3425.;13.2;78;US\\n',\n",
       " 'Buick Regal Sport Coupe (turbo);17.7;6;231.0;165.0;3445.;13.4;78;US\\n',\n",
       " 'Ford Futura;18.1;8;302.0;139.0;3205.;11.2;78;US\\n',\n",
       " 'Dodge Magnum XE;17.5;8;318.0;140.0;4080.;13.7;78;US\\n',\n",
       " 'Chevrolet Chevette;30.0;4;98.00;68.00;2155.;16.5;78;US\\n',\n",
       " 'Toyota Corolla;27.5;4;134.0;95.00;2560.;14.2;78;Japan\\n',\n",
       " 'Datsun 510;27.2;4;119.0;97.00;2300.;14.7;78;Japan\\n',\n",
       " 'Dodge Omni;30.9;4;105.0;75.00;2230.;14.5;78;US\\n',\n",
       " 'Toyota Celica GT Liftback;21.1;4;134.0;95.00;2515.;14.8;78;Japan\\n',\n",
       " 'Plymouth Sapporo;23.2;4;156.0;105.0;2745.;16.7;78;US\\n',\n",
       " 'Oldsmobile Starfire SX;23.8;4;151.0;85.00;2855.;17.6;78;US\\n',\n",
       " 'Datsun 200-SX;23.9;4;119.0;97.00;2405.;14.9;78;Japan\\n',\n",
       " 'Audi 5000;20.3;5;131.0;103.0;2830.;15.9;78;Europe\\n',\n",
       " 'Volvo 264gl;17.0;6;163.0;125.0;3140.;13.6;78;Europe\\n',\n",
       " 'Saab 99gle;21.6;4;121.0;115.0;2795.;15.7;78;Europe\\n',\n",
       " 'Peugeot 604sl;16.2;6;163.0;133.0;3410.;15.8;78;Europe\\n',\n",
       " 'Volkswagen Scirocco;31.5;4;89.00;71.00;1990.;14.9;78;Europe\\n',\n",
       " 'Honda Accord LX;29.5;4;98.00;68.00;2135.;16.6;78;Japan\\n',\n",
       " 'Pontiac Lemans V6;21.5;6;231.0;115.0;3245.;15.4;79;US\\n',\n",
       " 'Mercury Zephyr 6;19.8;6;200.0;85.00;2990.;18.2;79;US\\n',\n",
       " 'Ford Fairmont 4;22.3;4;140.0;88.00;2890.;17.3;79;US\\n',\n",
       " 'AMC Concord DL 6;20.2;6;232.0;90.00;3265.;18.2;79;US\\n',\n",
       " 'Dodge Aspen 6;20.6;6;225.0;110.0;3360.;16.6;79;US\\n',\n",
       " 'Chevrolet Caprice Classic;17.0;8;305.0;130.0;3840.;15.4;79;US\\n',\n",
       " 'Ford LTD Landau;17.6;8;302.0;129.0;3725.;13.4;79;US\\n',\n",
       " 'Mercury Grand Marquis;16.5;8;351.0;138.0;3955.;13.2;79;US\\n',\n",
       " 'Dodge St. Regis;18.2;8;318.0;135.0;3830.;15.2;79;US\\n',\n",
       " 'Buick Estate Wagon (sw);16.9;8;350.0;155.0;4360.;14.9;79;US\\n',\n",
       " 'Ford Country Squire (sw);15.5;8;351.0;142.0;4054.;14.3;79;US\\n',\n",
       " 'Chevrolet Malibu Classic (sw);19.2;8;267.0;125.0;3605.;15.0;79;US\\n',\n",
       " 'Chrysler Lebaron Town @ Country (sw);18.5;8;360.0;150.0;3940.;13.0;79;US\\n',\n",
       " 'Volkswagen Rabbit Custom;31.9;4;89.00;71.00;1925.;14.0;79;Europe\\n',\n",
       " 'Mazda GLC Deluxe;34.1;4;86.00;65.00;1975.;15.2;79;Japan\\n',\n",
       " 'Dodge Colt Hatchback Custom;35.7;4;98.00;80.00;1915.;14.4;79;US\\n',\n",
       " 'AMC Spirit DL;27.4;4;121.0;80.00;2670.;15.0;79;US\\n',\n",
       " 'Mercedes Benz 300d;25.4;5;183.0;77.00;3530.;20.1;79;Europe\\n',\n",
       " 'Cadillac Eldorado;23.0;8;350.0;125.0;3900.;17.4;79;US\\n',\n",
       " 'Peugeot 504;27.2;4;141.0;71.00;3190.;24.8;79;Europe\\n',\n",
       " 'Oldsmobile Cutlass Salon Brougham;23.9;8;260.0;90.00;3420.;22.2;79;US\\n',\n",
       " 'Plymouth Horizon;34.2;4;105.0;70.00;2200.;13.2;79;US\\n',\n",
       " 'Plymouth Horizon TC3;34.5;4;105.0;70.00;2150.;14.9;79;US\\n',\n",
       " 'Datsun 210;31.8;4;85.00;65.00;2020.;19.2;79;Japan\\n',\n",
       " 'Fiat Strada Custom;37.3;4;91.00;69.00;2130.;14.7;79;Europe\\n',\n",
       " 'Buick Skylark Limited;28.4;4;151.0;90.00;2670.;16.0;79;US\\n',\n",
       " 'Chevrolet Citation;28.8;6;173.0;115.0;2595.;11.3;79;US\\n',\n",
       " 'Oldsmobile Omega Brougham;26.8;6;173.0;115.0;2700.;12.9;79;US\\n',\n",
       " 'Pontiac Phoenix;33.5;4;151.0;90.00;2556.;13.2;79;US\\n',\n",
       " 'Volkswagen Rabbit;41.5;4;98.00;76.00;2144.;14.7;80;Europe\\n',\n",
       " 'Toyota Corolla Tercel;38.1;4;89.00;60.00;1968.;18.8;80;Japan\\n',\n",
       " 'Chevrolet Chevette;32.1;4;98.00;70.00;2120.;15.5;80;US\\n',\n",
       " 'Datsun 310;37.2;4;86.00;65.00;2019.;16.4;80;Japan\\n',\n",
       " 'Chevrolet Citation;28.0;4;151.0;90.00;2678.;16.5;80;US\\n',\n",
       " 'Ford Fairmont;26.4;4;140.0;88.00;2870.;18.1;80;US\\n',\n",
       " 'AMC Concord;24.3;4;151.0;90.00;3003.;20.1;80;US\\n',\n",
       " 'Dodge Aspen;19.1;6;225.0;90.00;3381.;18.7;80;US\\n',\n",
       " 'Audi 4000;34.3;4;97.00;78.00;2188.;15.8;80;Europe\\n',\n",
       " 'Toyota Corolla Liftback;29.8;4;134.0;90.00;2711.;15.5;80;Japan\\n',\n",
       " 'Mazda 626;31.3;4;120.0;75.00;2542.;17.5;80;Japan\\n',\n",
       " 'Datsun 510 Hatchback;37.0;4;119.0;92.00;2434.;15.0;80;Japan\\n',\n",
       " 'Toyota Corolla;32.2;4;108.0;75.00;2265.;15.2;80;Japan\\n',\n",
       " 'Mazda GLC;46.6;4;86.00;65.00;2110.;17.9;80;Japan\\n',\n",
       " 'Dodge Colt;27.9;4;156.0;105.0;2800.;14.4;80;US\\n',\n",
       " 'Datsun 210;40.8;4;85.00;65.00;2110.;19.2;80;Japan\\n',\n",
       " 'Volkswagen Rabbit C (Diesel);44.3;4;90.00;48.00;2085.;21.7;80;Europe\\n',\n",
       " 'Volkswagen Dasher (diesel);43.4;4;90.00;48.00;2335.;23.7;80;Europe\\n',\n",
       " 'Audi 5000s (diesel);36.4;5;121.0;67.00;2950.;19.9;80;Europe\\n',\n",
       " 'Mercedes-Benz 240d;30.0;4;146.0;67.00;3250.;21.8;80;Europe\\n',\n",
       " 'Honda Civic 1500 gl;44.6;4;91.00;67.00;1850.;13.8;80;Japan\\n',\n",
       " 'Renault Lecar Deluxe;40.9;4;85.00;0;1835.;17.3;80;Europe\\n',\n",
       " 'Subaru DL;33.8;4;97.00;67.00;2145.;18.0;80;Japan\\n',\n",
       " 'Volkswagen Rabbit;29.8;4;89.00;62.00;1845.;15.3;80;Europe\\n',\n",
       " 'Datsun 280-ZX;32.7;6;168.0;132.0;2910.;11.4;80;Japan\\n',\n",
       " 'Mazda RX-7 GS;23.7;3;70.00;100.0;2420.;12.5;80;Japan\\n',\n",
       " 'Triumph TR7 Coupe;35.0;4;122.0;88.00;2500.;15.1;80;Europe\\n',\n",
       " 'Ford Mustang Cobra;23.6;4;140.0;0;2905.;14.3;80;US\\n',\n",
       " 'Honda Accord;32.4;4;107.0;72.00;2290.;17.0;80;Japan\\n',\n",
       " 'Plymouth Reliant;27.2;4;135.0;84.00;2490.;15.7;81;US\\n',\n",
       " 'Buick Skylark;26.6;4;151.0;84.00;2635.;16.4;81;US\\n',\n",
       " 'Dodge Aries Wagon (sw);25.8;4;156.0;92.00;2620.;14.4;81;US\\n',\n",
       " 'Chevrolet Citation;23.5;6;173.0;110.0;2725.;12.6;81;US\\n',\n",
       " 'Plymouth Reliant;30.0;4;135.0;84.00;2385.;12.9;81;US\\n',\n",
       " 'Toyota Starlet;39.1;4;79.00;58.00;1755.;16.9;81;Japan\\n',\n",
       " 'Plymouth Champ;39.0;4;86.00;64.00;1875.;16.4;81;US\\n',\n",
       " 'Honda Civic 1300;35.1;4;81.00;60.00;1760.;16.1;81;Japan\\n',\n",
       " 'Subaru;32.3;4;97.00;67.00;2065.;17.8;81;Japan\\n',\n",
       " 'Datsun 210 MPG;37.0;4;85.00;65.00;1975.;19.4;81;Japan\\n',\n",
       " 'Toyota Tercel;37.7;4;89.00;62.00;2050.;17.3;81;Japan\\n',\n",
       " 'Mazda GLC 4;34.1;4;91.00;68.00;1985.;16.0;81;Japan\\n',\n",
       " 'Plymouth Horizon 4;34.7;4;105.0;63.00;2215.;14.9;81;US\\n',\n",
       " 'Ford Escort 4W;34.4;4;98.00;65.00;2045.;16.2;81;US\\n',\n",
       " 'Ford Escort 2H;29.9;4;98.00;65.00;2380.;20.7;81;US\\n',\n",
       " 'Volkswagen Jetta;33.0;4;105.0;74.00;2190.;14.2;81;Europe\\n',\n",
       " 'Renault 18i;34.5;4;100.0;0;2320.;15.8;81;Europe\\n',\n",
       " 'Honda Prelude;33.7;4;107.0;75.00;2210.;14.4;81;Japan\\n',\n",
       " 'Toyota Corolla;32.4;4;108.0;75.00;2350.;16.8;81;Japan\\n',\n",
       " 'Datsun 200SX;32.9;4;119.0;100.0;2615.;14.8;81;Japan\\n',\n",
       " 'Mazda 626;31.6;4;120.0;74.00;2635.;18.3;81;Japan\\n',\n",
       " 'Peugeot 505s Turbo Diesel;28.1;4;141.0;80.00;3230.;20.4;81;Europe\\n',\n",
       " 'Saab 900s;0;4;121.0;110.0;2800.;15.4;81;Europe\\n',\n",
       " 'Volvo Diesel;30.7;6;145.0;76.00;3160.;19.6;81;Europe\\n',\n",
       " 'Toyota Cressida;25.4;6;168.0;116.0;2900.;12.6;81;Japan\\n',\n",
       " 'Datsun 810 Maxima;24.2;6;146.0;120.0;2930.;13.8;81;Japan\\n',\n",
       " 'Buick Century;22.4;6;231.0;110.0;3415.;15.8;81;US\\n',\n",
       " 'Oldsmobile Cutlass LS;26.6;8;350.0;105.0;3725.;19.0;81;US\\n',\n",
       " 'Ford Grenada gl;20.2;6;200.0;88.00;3060.;17.1;81;US\\n',\n",
       " 'Chrysler Lebaron Salon;17.6;6;225.0;85.00;3465.;16.6;81;US\\n',\n",
       " 'Chevrolet Cavalier;28.0;4;112.0;88.00;2605.;19.6;82;US\\n',\n",
       " 'Chevrolet Cavalier Wagon;27.0;4;112.0;88.00;2640.;18.6;82;US\\n',\n",
       " 'Chevrolet Cavalier 2-door;34.0;4;112.0;88.00;2395.;18.0;82;US\\n',\n",
       " 'Pontiac J2000 SE Hatchback;31.0;4;112.0;85.00;2575.;16.2;82;US\\n',\n",
       " 'Dodge Aries SE;29.0;4;135.0;84.00;2525.;16.0;82;US\\n',\n",
       " 'Pontiac Phoenix;27.0;4;151.0;90.00;2735.;18.0;82;US\\n',\n",
       " 'Ford Fairmont Futura;24.0;4;140.0;92.00;2865.;16.4;82;US\\n',\n",
       " 'AMC Concord DL;23.0;4;151.0;0;3035.;20.5;82;US\\n',\n",
       " 'Volkswagen Rabbit l;36.0;4;105.0;74.00;1980.;15.3;82;Europe\\n',\n",
       " 'Mazda GLC Custom l;37.0;4;91.00;68.00;2025.;18.2;82;Japan\\n',\n",
       " 'Mazda GLC Custom;31.0;4;91.00;68.00;1970.;17.6;82;Japan\\n',\n",
       " 'Plymouth Horizon Miser;38.0;4;105.0;63.00;2125.;14.7;82;US\\n',\n",
       " 'Mercury Lynx l;36.0;4;98.00;70.00;2125.;17.3;82;US\\n',\n",
       " 'Nissan Stanza XE;36.0;4;120.0;88.00;2160.;14.5;82;Japan\\n',\n",
       " 'Honda Accord;36.0;4;107.0;75.00;2205.;14.5;82;Japan\\n',\n",
       " 'Toyota Corolla;34.0;4;108.0;70.00;2245;16.9;82;Japan\\n',\n",
       " 'Honda Civic;38.0;4;91.00;67.00;1965.;15.0;82;Japan\\n',\n",
       " 'Honda Civic (auto);32.0;4;91.00;67.00;1965.;15.7;82;Japan\\n',\n",
       " 'Datsun 310 GX;38.0;4;91.00;67.00;1995.;16.2;82;Japan\\n',\n",
       " 'Buick Century Limited;25.0;6;181.0;110.0;2945.;16.4;82;US\\n',\n",
       " 'Oldsmobile Cutlass Ciera (diesel);38.0;6;262.0;85.00;3015.;17.0;82;US\\n',\n",
       " 'Chrysler Lebaron Medallion;26.0;4;156.0;92.00;2585.;14.5;82;US\\n',\n",
       " 'Ford Grenada l;22.0;6;232.0;112.0;2835;14.7;82;US\\n',\n",
       " 'Toyota Celica GT;32.0;4;144.0;96.00;2665.;13.9;82;Japan\\n',\n",
       " 'Dodge Charger 2.2;36.0;4;135.0;84.00;2370.;13.0;82;US\\n',\n",
       " 'Chevrolet Camaro;27.0;4;151.0;90.00;2950.;17.3;82;US\\n',\n",
       " 'Ford Mustang GL;27.0;4;140.0;86.00;2790.;15.6;82;US\\n',\n",
       " 'Volkswagen Pickup;44.0;4;97.00;52.00;2130.;24.6;82;Europe\\n',\n",
       " 'Dodge Rampage;32.0;4;135.0;84.00;2295.;11.6;82;US\\n',\n",
       " 'Ford Ranger;28.0;4;120.0;79.00;2625.;18.6;82;US\\n',\n",
       " 'Chevy S-10;31.0;4;119.0;82.00;2720.;19.4;82;US\\n']"
      ]
     },
     "execution_count": 37,
     "metadata": {},
     "output_type": "execute_result"
    }
   ],
   "source": [
    "l"
   ]
  },
  {
   "cell_type": "code",
   "execution_count": 38,
   "metadata": {},
   "outputs": [
    {
     "name": "stdout",
     "output_type": "stream",
     "text": [
      "{'Europe', 'Japan', 'US'}\n"
     ]
    }
   ],
   "source": [
    "origins = set()\n",
    "with open('cars.csv') as f:\n",
    "    rows = f.readlines()\n",
    "for row in rows[2:]:\n",
    "    origin = row.strip('\\n').split(';')[-1]\n",
    "    origins.add(origin)\n",
    "print(origins)"
   ]
  },
  {
   "cell_type": "code",
   "execution_count": 39,
   "metadata": {},
   "outputs": [
    {
     "name": "stdout",
     "output_type": "stream",
     "text": [
      "{'Europe', 'Japan', 'US'}\n"
     ]
    }
   ],
   "source": [
    "origins = set()\n",
    "with open('cars.csv') as f:\n",
    "    next(f), next(f)\n",
    "    for row in f:\n",
    "        origin = row.strip('\\n').split(';')[-1]\n",
    "        origins.add(origin)\n",
    "print(origins)"
   ]
  },
  {
   "cell_type": "code",
   "execution_count": 40,
   "metadata": {},
   "outputs": [],
   "source": [
    "e = enumerate('Python rocks!')"
   ]
  },
  {
   "cell_type": "code",
   "execution_count": 41,
   "metadata": {},
   "outputs": [
    {
     "name": "stdout",
     "output_type": "stream",
     "text": [
      "True\n",
      "True\n"
     ]
    }
   ],
   "source": [
    "print('__iter__' in dir(e))\n",
    "print('__next__' in dir(e))"
   ]
  },
  {
   "cell_type": "code",
   "execution_count": 42,
   "metadata": {},
   "outputs": [
    {
     "data": {
      "text/plain": [
       "<enumerate at 0x1ad89105440>"
      ]
     },
     "execution_count": 42,
     "metadata": {},
     "output_type": "execute_result"
    }
   ],
   "source": [
    "iter(e)"
   ]
  },
  {
   "cell_type": "code",
   "execution_count": 43,
   "metadata": {},
   "outputs": [
    {
     "data": {
      "text/plain": [
       "<enumerate at 0x1ad89105440>"
      ]
     },
     "execution_count": 43,
     "metadata": {},
     "output_type": "execute_result"
    }
   ],
   "source": [
    "e"
   ]
  },
  {
   "cell_type": "code",
   "execution_count": 44,
   "metadata": {},
   "outputs": [
    {
     "data": {
      "text/plain": [
       "[(0, 'P'),\n",
       " (1, 'y'),\n",
       " (2, 't'),\n",
       " (3, 'h'),\n",
       " (4, 'o'),\n",
       " (5, 'n'),\n",
       " (6, ' '),\n",
       " (7, 'r'),\n",
       " (8, 'o'),\n",
       " (9, 'c'),\n",
       " (10, 'k'),\n",
       " (11, 's'),\n",
       " (12, '!')]"
      ]
     },
     "execution_count": 44,
     "metadata": {},
     "output_type": "execute_result"
    }
   ],
   "source": [
    "list(e)"
   ]
  },
  {
   "cell_type": "code",
   "execution_count": 45,
   "metadata": {},
   "outputs": [
    {
     "data": {
      "text/plain": [
       "[]"
      ]
     },
     "execution_count": 45,
     "metadata": {},
     "output_type": "execute_result"
    }
   ],
   "source": [
    "list(e)"
   ]
  },
  {
   "cell_type": "code",
   "execution_count": 46,
   "metadata": {},
   "outputs": [],
   "source": [
    "d = {'a': 1, 'b': 2}"
   ]
  },
  {
   "cell_type": "code",
   "execution_count": 47,
   "metadata": {},
   "outputs": [],
   "source": [
    "keys = d.keys()"
   ]
  },
  {
   "cell_type": "code",
   "execution_count": 48,
   "metadata": {},
   "outputs": [
    {
     "data": {
      "text/plain": [
       "(True, False)"
      ]
     },
     "execution_count": 48,
     "metadata": {},
     "output_type": "execute_result"
    }
   ],
   "source": [
    "'__iter__' in dir(keys), '__next__' in dir(keys)"
   ]
  },
  {
   "cell_type": "code",
   "execution_count": 49,
   "metadata": {},
   "outputs": [
    {
     "data": {
      "text/plain": [
       "False"
      ]
     },
     "execution_count": 49,
     "metadata": {},
     "output_type": "execute_result"
    }
   ],
   "source": [
    "iter(keys) is keys"
   ]
  },
  {
   "cell_type": "code",
   "execution_count": 50,
   "metadata": {},
   "outputs": [
    {
     "data": {
      "text/plain": [
       "False"
      ]
     },
     "execution_count": 50,
     "metadata": {},
     "output_type": "execute_result"
    }
   ],
   "source": [
    "values = d.values()\n",
    "iter(values) is values"
   ]
  },
  {
   "cell_type": "code",
   "execution_count": 51,
   "metadata": {},
   "outputs": [
    {
     "data": {
      "text/plain": [
       "False"
      ]
     },
     "execution_count": 51,
     "metadata": {},
     "output_type": "execute_result"
    }
   ],
   "source": [
    "items = d.items()\n",
    "iter(items) is items"
   ]
  },
  {
   "cell_type": "code",
   "execution_count": 52,
   "metadata": {},
   "outputs": [],
   "source": [
    "import random"
   ]
  },
  {
   "cell_type": "code",
   "execution_count": 53,
   "metadata": {},
   "outputs": [],
   "source": [
    "random.seed(0)"
   ]
  },
  {
   "cell_type": "code",
   "execution_count": 54,
   "metadata": {},
   "outputs": [
    {
     "name": "stdout",
     "output_type": "stream",
     "text": [
      "7\n",
      "7\n",
      "1\n",
      "5\n",
      "9\n",
      "8\n",
      "7\n",
      "5\n",
      "8\n",
      "6\n"
     ]
    }
   ],
   "source": [
    "for i in range(10):\n",
    "    print(random.randint(1, 10))"
   ]
  },
  {
   "cell_type": "code",
   "execution_count": 55,
   "metadata": {},
   "outputs": [],
   "source": [
    "import random\n",
    "\n",
    "class RandomInts:\n",
    "    def __init__(self, length, *, seed=0, lower=0, upper=10):\n",
    "        self.length = length\n",
    "        self.seed = seed\n",
    "        self.lower = lower\n",
    "        self.upper = upper\n",
    "        \n",
    "    def __len__(self):\n",
    "        return self.length\n",
    "    \n",
    "    def __iter__(self):\n",
    "        return self.RandomIterator(self.length, \n",
    "                                   seed = self.seed, \n",
    "                                   lower = self.lower,\n",
    "                                   upper=self.upper)\n",
    "    \n",
    "    \n",
    "    class RandomIterator:\n",
    "        def __init__(self, length, *, seed, lower, upper):\n",
    "            self.length = length\n",
    "            self.lower = lower\n",
    "            self.upper = upper\n",
    "            self.num_requests = 0\n",
    "            random.seed(seed)\n",
    "            \n",
    "        def __iter__(self):\n",
    "            return self\n",
    "        \n",
    "        def __next__(self):\n",
    "            if self.num_requests >= self.length:\n",
    "                raise StopIteration\n",
    "            else:\n",
    "                result = random.randint(self.lower, self.upper)\n",
    "                self.num_requests += 1\n",
    "                return result"
   ]
  },
  {
   "cell_type": "code",
   "execution_count": 56,
   "metadata": {},
   "outputs": [],
   "source": [
    "randoms = RandomInts(10)"
   ]
  },
  {
   "cell_type": "code",
   "execution_count": 57,
   "metadata": {},
   "outputs": [
    {
     "name": "stdout",
     "output_type": "stream",
     "text": [
      "6\n",
      "6\n",
      "0\n",
      "4\n",
      "8\n",
      "7\n",
      "6\n",
      "4\n",
      "7\n",
      "5\n"
     ]
    }
   ],
   "source": [
    "for num in randoms:\n",
    "    print(num)"
   ]
  },
  {
   "cell_type": "code",
   "execution_count": 58,
   "metadata": {},
   "outputs": [
    {
     "data": {
      "text/plain": [
       "[0, 4, 4, 5, 6, 6, 6, 7, 7, 8]"
      ]
     },
     "execution_count": 58,
     "metadata": {},
     "output_type": "execute_result"
    }
   ],
   "source": [
    "sorted(randoms)"
   ]
  },
  {
   "cell_type": "code",
   "execution_count": 59,
   "metadata": {},
   "outputs": [
    {
     "data": {
      "text/plain": [
       "[8, 7, 7, 6, 6, 6, 5, 4, 4, 0]"
      ]
     },
     "execution_count": 59,
     "metadata": {},
     "output_type": "execute_result"
    }
   ],
   "source": [
    "sorted(randoms, reverse=True)"
   ]
  },
  {
   "cell_type": "markdown",
   "metadata": {},
   "source": [
    "# The iter() Function"
   ]
  },
  {
   "cell_type": "code",
   "execution_count": 60,
   "metadata": {},
   "outputs": [],
   "source": [
    "l = [1, 2, 3, 4]"
   ]
  },
  {
   "cell_type": "code",
   "execution_count": 61,
   "metadata": {},
   "outputs": [],
   "source": [
    "l_iter = iter(l)"
   ]
  },
  {
   "cell_type": "code",
   "execution_count": 62,
   "metadata": {},
   "outputs": [
    {
     "data": {
      "text/plain": [
       "list_iterator"
      ]
     },
     "execution_count": 62,
     "metadata": {},
     "output_type": "execute_result"
    }
   ],
   "source": [
    "type(l_iter)"
   ]
  },
  {
   "cell_type": "code",
   "execution_count": 63,
   "metadata": {},
   "outputs": [
    {
     "data": {
      "text/plain": [
       "1"
      ]
     },
     "execution_count": 63,
     "metadata": {},
     "output_type": "execute_result"
    }
   ],
   "source": [
    "next(l_iter)"
   ]
  },
  {
   "cell_type": "code",
   "execution_count": 64,
   "metadata": {},
   "outputs": [
    {
     "data": {
      "text/plain": [
       "2"
      ]
     },
     "execution_count": 64,
     "metadata": {},
     "output_type": "execute_result"
    }
   ],
   "source": [
    "next(l_iter)\n"
   ]
  },
  {
   "cell_type": "code",
   "execution_count": 65,
   "metadata": {},
   "outputs": [
    {
     "data": {
      "text/plain": [
       "3"
      ]
     },
     "execution_count": 65,
     "metadata": {},
     "output_type": "execute_result"
    }
   ],
   "source": [
    "next(l_iter)"
   ]
  },
  {
   "cell_type": "code",
   "execution_count": 66,
   "metadata": {},
   "outputs": [
    {
     "data": {
      "text/plain": [
       "4"
      ]
     },
     "execution_count": 66,
     "metadata": {},
     "output_type": "execute_result"
    }
   ],
   "source": [
    "next(l_iter)"
   ]
  },
  {
   "cell_type": "code",
   "execution_count": 67,
   "metadata": {},
   "outputs": [
    {
     "ename": "StopIteration",
     "evalue": "",
     "output_type": "error",
     "traceback": [
      "\u001b[1;31m---------------------------------------------------------------------------\u001b[0m",
      "\u001b[1;31mStopIteration\u001b[0m                             Traceback (most recent call last)",
      "\u001b[1;32m~\\AppData\\Local\\Temp\\ipykernel_27308\\1183317915.py\u001b[0m in \u001b[0;36m<module>\u001b[1;34m\u001b[0m\n\u001b[1;32m----> 1\u001b[1;33m \u001b[0mnext\u001b[0m\u001b[1;33m(\u001b[0m\u001b[0ml_iter\u001b[0m\u001b[1;33m)\u001b[0m\u001b[1;33m\u001b[0m\u001b[1;33m\u001b[0m\u001b[0m\n\u001b[0m",
      "\u001b[1;31mStopIteration\u001b[0m: "
     ]
    }
   ],
   "source": [
    "next(l_iter)"
   ]
  },
  {
   "cell_type": "code",
   "execution_count": 68,
   "metadata": {},
   "outputs": [],
   "source": [
    "class Squares:\n",
    "    def __init__(self, n):\n",
    "        self._n = n\n",
    "    \n",
    "    def __len__(self):\n",
    "        return self._n\n",
    "    \n",
    "    def __getitem__(self, i):\n",
    "        if i >= self._n:\n",
    "            raise IndexError\n",
    "        else:\n",
    "            return i ** 2"
   ]
  },
  {
   "cell_type": "code",
   "execution_count": 69,
   "metadata": {},
   "outputs": [],
   "source": [
    "sq = Squares(5)\n"
   ]
  },
  {
   "cell_type": "code",
   "execution_count": 70,
   "metadata": {},
   "outputs": [
    {
     "name": "stdout",
     "output_type": "stream",
     "text": [
      "0\n",
      "1\n",
      "4\n",
      "9\n",
      "16\n"
     ]
    }
   ],
   "source": [
    "for i in sq:\n",
    "    print(i)"
   ]
  },
  {
   "cell_type": "code",
   "execution_count": 71,
   "metadata": {},
   "outputs": [],
   "source": [
    "sq_iter = iter(sq)"
   ]
  },
  {
   "cell_type": "code",
   "execution_count": 72,
   "metadata": {},
   "outputs": [
    {
     "data": {
      "text/plain": [
       "iterator"
      ]
     },
     "execution_count": 72,
     "metadata": {},
     "output_type": "execute_result"
    }
   ],
   "source": [
    "type(sq_iter)"
   ]
  },
  {
   "cell_type": "code",
   "execution_count": 73,
   "metadata": {},
   "outputs": [
    {
     "data": {
      "text/plain": [
       "True"
      ]
     },
     "execution_count": 73,
     "metadata": {},
     "output_type": "execute_result"
    }
   ],
   "source": [
    "'__next__' in dir(sq_iter)"
   ]
  },
  {
   "cell_type": "code",
   "execution_count": 74,
   "metadata": {},
   "outputs": [
    {
     "ename": "TypeError",
     "evalue": "'int' object is not iterable",
     "output_type": "error",
     "traceback": [
      "\u001b[1;31m---------------------------------------------------------------------------\u001b[0m",
      "\u001b[1;31mTypeError\u001b[0m                                 Traceback (most recent call last)",
      "\u001b[1;32m~\\AppData\\Local\\Temp\\ipykernel_27308\\676487075.py\u001b[0m in \u001b[0;36m<module>\u001b[1;34m\u001b[0m\n\u001b[1;32m----> 1\u001b[1;33m \u001b[1;32mfor\u001b[0m \u001b[0mi\u001b[0m \u001b[1;32min\u001b[0m \u001b[1;36m10\u001b[0m\u001b[1;33m:\u001b[0m\u001b[1;33m\u001b[0m\u001b[1;33m\u001b[0m\u001b[0m\n\u001b[0m\u001b[0;32m      2\u001b[0m     \u001b[0mprint\u001b[0m\u001b[1;33m(\u001b[0m\u001b[0mi\u001b[0m\u001b[1;33m)\u001b[0m\u001b[1;33m\u001b[0m\u001b[1;33m\u001b[0m\u001b[0m\n",
      "\u001b[1;31mTypeError\u001b[0m: 'int' object is not iterable"
     ]
    }
   ],
   "source": [
    "for i in 10:\n",
    "    print(i)"
   ]
  },
  {
   "cell_type": "code",
   "execution_count": 75,
   "metadata": {},
   "outputs": [],
   "source": [
    "class Squares:\n",
    "    def __init__(self, n):\n",
    "        self._n = n\n",
    "    \n",
    "    def __len__(self):\n",
    "        return self._n\n",
    "    \n",
    "    def __getitem__(self, i):\n",
    "        if i >= self._n:\n",
    "            raise IndexError\n",
    "        else:\n",
    "            return i ** 2"
   ]
  },
  {
   "cell_type": "code",
   "execution_count": 76,
   "metadata": {},
   "outputs": [],
   "source": [
    "class SquaresIterator:\n",
    "    def __init__(self, squares):\n",
    "        self._squares = squares\n",
    "        self._i = 0\n",
    "        \n",
    "    def __iter__(self):\n",
    "        return self\n",
    "    \n",
    "    def __next__(self):\n",
    "        if self._i >= len(self._squares):\n",
    "            raise StopIteration\n",
    "        else:\n",
    "            result = self._squares[self._i]\n",
    "            self._i += 1\n",
    "            return result"
   ]
  },
  {
   "cell_type": "code",
   "execution_count": 77,
   "metadata": {},
   "outputs": [],
   "source": [
    "sq = Squares(5)\n",
    "sq_iterator = SquaresIterator(sq)"
   ]
  },
  {
   "cell_type": "code",
   "execution_count": 78,
   "metadata": {},
   "outputs": [
    {
     "data": {
      "text/plain": [
       "__main__.SquaresIterator"
      ]
     },
     "execution_count": 78,
     "metadata": {},
     "output_type": "execute_result"
    }
   ],
   "source": [
    "type(sq_iterator)"
   ]
  },
  {
   "cell_type": "code",
   "execution_count": 79,
   "metadata": {},
   "outputs": [
    {
     "name": "stdout",
     "output_type": "stream",
     "text": [
      "0\n",
      "1\n",
      "4\n",
      "9\n",
      "16\n"
     ]
    }
   ],
   "source": [
    "print(next(sq_iterator))\n",
    "print(next(sq_iterator))\n",
    "print(next(sq_iterator))\n",
    "print(next(sq_iterator))\n",
    "print(next(sq_iterator))"
   ]
  },
  {
   "cell_type": "code",
   "execution_count": 80,
   "metadata": {},
   "outputs": [
    {
     "ename": "StopIteration",
     "evalue": "",
     "output_type": "error",
     "traceback": [
      "\u001b[1;31m---------------------------------------------------------------------------\u001b[0m",
      "\u001b[1;31mStopIteration\u001b[0m                             Traceback (most recent call last)",
      "\u001b[1;32m~\\AppData\\Local\\Temp\\ipykernel_27308\\1018191529.py\u001b[0m in \u001b[0;36m<module>\u001b[1;34m\u001b[0m\n\u001b[1;32m----> 1\u001b[1;33m \u001b[0mprint\u001b[0m\u001b[1;33m(\u001b[0m\u001b[0mnext\u001b[0m\u001b[1;33m(\u001b[0m\u001b[0msq_iterator\u001b[0m\u001b[1;33m)\u001b[0m\u001b[1;33m)\u001b[0m\u001b[1;33m\u001b[0m\u001b[1;33m\u001b[0m\u001b[0m\n\u001b[0m",
      "\u001b[1;32m~\\AppData\\Local\\Temp\\ipykernel_27308\\3351985018.py\u001b[0m in \u001b[0;36m__next__\u001b[1;34m(self)\u001b[0m\n\u001b[0;32m      9\u001b[0m     \u001b[1;32mdef\u001b[0m \u001b[0m__next__\u001b[0m\u001b[1;33m(\u001b[0m\u001b[0mself\u001b[0m\u001b[1;33m)\u001b[0m\u001b[1;33m:\u001b[0m\u001b[1;33m\u001b[0m\u001b[1;33m\u001b[0m\u001b[0m\n\u001b[0;32m     10\u001b[0m         \u001b[1;32mif\u001b[0m \u001b[0mself\u001b[0m\u001b[1;33m.\u001b[0m\u001b[0m_i\u001b[0m \u001b[1;33m>=\u001b[0m \u001b[0mlen\u001b[0m\u001b[1;33m(\u001b[0m\u001b[0mself\u001b[0m\u001b[1;33m.\u001b[0m\u001b[0m_squares\u001b[0m\u001b[1;33m)\u001b[0m\u001b[1;33m:\u001b[0m\u001b[1;33m\u001b[0m\u001b[1;33m\u001b[0m\u001b[0m\n\u001b[1;32m---> 11\u001b[1;33m             \u001b[1;32mraise\u001b[0m \u001b[0mStopIteration\u001b[0m\u001b[1;33m\u001b[0m\u001b[1;33m\u001b[0m\u001b[0m\n\u001b[0m\u001b[0;32m     12\u001b[0m         \u001b[1;32melse\u001b[0m\u001b[1;33m:\u001b[0m\u001b[1;33m\u001b[0m\u001b[1;33m\u001b[0m\u001b[0m\n\u001b[0;32m     13\u001b[0m             \u001b[0mresult\u001b[0m \u001b[1;33m=\u001b[0m \u001b[0mself\u001b[0m\u001b[1;33m.\u001b[0m\u001b[0m_squares\u001b[0m\u001b[1;33m[\u001b[0m\u001b[0mself\u001b[0m\u001b[1;33m.\u001b[0m\u001b[0m_i\u001b[0m\u001b[1;33m]\u001b[0m\u001b[1;33m\u001b[0m\u001b[1;33m\u001b[0m\u001b[0m\n",
      "\u001b[1;31mStopIteration\u001b[0m: "
     ]
    }
   ],
   "source": [
    "print(next(sq_iterator))"
   ]
  },
  {
   "cell_type": "code",
   "execution_count": 81,
   "metadata": {},
   "outputs": [],
   "source": [
    "class SquaresIterator:\n",
    "    def __init__(self, squares):\n",
    "        self._squares = squares\n",
    "        self._i = 0\n",
    "        \n",
    "    def __iter__(self):\n",
    "        return self\n",
    "    \n",
    "    def __next__(self):\n",
    "        try:\n",
    "            result = self._squares[self._i]\n",
    "            self._i += 1\n",
    "            return result\n",
    "        except IndexError:\n",
    "            raise StopIteration()"
   ]
  },
  {
   "cell_type": "code",
   "execution_count": 82,
   "metadata": {},
   "outputs": [],
   "source": [
    "sq_iterator = SquaresIterator(sq)\n"
   ]
  },
  {
   "cell_type": "code",
   "execution_count": 83,
   "metadata": {},
   "outputs": [
    {
     "name": "stdout",
     "output_type": "stream",
     "text": [
      "0\n",
      "1\n",
      "4\n",
      "9\n",
      "16\n"
     ]
    }
   ],
   "source": [
    "for i in sq_iterator:\n",
    "    print(i)"
   ]
  },
  {
   "cell_type": "code",
   "execution_count": 84,
   "metadata": {},
   "outputs": [],
   "source": [
    "class SimpleIter:\n",
    "    def __init__(self):\n",
    "        pass\n",
    "    \n",
    "    def __iter__(self):\n",
    "        return 'Nope'"
   ]
  },
  {
   "cell_type": "code",
   "execution_count": 85,
   "metadata": {},
   "outputs": [],
   "source": [
    "s = SimpleIter()"
   ]
  },
  {
   "cell_type": "code",
   "execution_count": 86,
   "metadata": {},
   "outputs": [
    {
     "data": {
      "text/plain": [
       "True"
      ]
     },
     "execution_count": 86,
     "metadata": {},
     "output_type": "execute_result"
    }
   ],
   "source": [
    "'__iter__' in dir(s)"
   ]
  },
  {
   "cell_type": "code",
   "execution_count": 87,
   "metadata": {},
   "outputs": [
    {
     "ename": "TypeError",
     "evalue": "iter() returned non-iterator of type 'str'",
     "output_type": "error",
     "traceback": [
      "\u001b[1;31m---------------------------------------------------------------------------\u001b[0m",
      "\u001b[1;31mTypeError\u001b[0m                                 Traceback (most recent call last)",
      "\u001b[1;32m~\\AppData\\Local\\Temp\\ipykernel_27308\\3735467495.py\u001b[0m in \u001b[0;36m<module>\u001b[1;34m\u001b[0m\n\u001b[1;32m----> 1\u001b[1;33m \u001b[0miter\u001b[0m\u001b[1;33m(\u001b[0m\u001b[0ms\u001b[0m\u001b[1;33m)\u001b[0m\u001b[1;33m\u001b[0m\u001b[1;33m\u001b[0m\u001b[0m\n\u001b[0m",
      "\u001b[1;31mTypeError\u001b[0m: iter() returned non-iterator of type 'str'"
     ]
    }
   ],
   "source": [
    "iter(s)"
   ]
  },
  {
   "cell_type": "code",
   "execution_count": 88,
   "metadata": {},
   "outputs": [],
   "source": [
    "def is_iterable(obj):\n",
    "    try:\n",
    "        iter(obj)\n",
    "        return True\n",
    "    except TypeError:\n",
    "        return False"
   ]
  },
  {
   "cell_type": "code",
   "execution_count": 89,
   "metadata": {},
   "outputs": [
    {
     "data": {
      "text/plain": [
       "False"
      ]
     },
     "execution_count": 89,
     "metadata": {},
     "output_type": "execute_result"
    }
   ],
   "source": [
    "is_iterable(SimpleIter())"
   ]
  },
  {
   "cell_type": "code",
   "execution_count": 90,
   "metadata": {},
   "outputs": [
    {
     "data": {
      "text/plain": [
       "True"
      ]
     },
     "execution_count": 90,
     "metadata": {},
     "output_type": "execute_result"
    }
   ],
   "source": [
    "is_iterable(Squares(5))"
   ]
  },
  {
   "cell_type": "code",
   "execution_count": 91,
   "metadata": {},
   "outputs": [
    {
     "name": "stdout",
     "output_type": "stream",
     "text": [
      "Error: obj is not iterable\n"
     ]
    }
   ],
   "source": [
    "obj = 100\n",
    "if is_iterable(obj):\n",
    "    for i in obj:\n",
    "        print(i)\n",
    "else:\n",
    "    print('Error: obj is not iterable')"
   ]
  },
  {
   "cell_type": "code",
   "execution_count": 92,
   "metadata": {},
   "outputs": [
    {
     "ename": "TypeError",
     "evalue": "'int' object is not iterable",
     "output_type": "error",
     "traceback": [
      "\u001b[1;31m---------------------------------------------------------------------------\u001b[0m",
      "\u001b[1;31mTypeError\u001b[0m                                 Traceback (most recent call last)",
      "\u001b[1;32m~\\AppData\\Local\\Temp\\ipykernel_27308\\1343382914.py\u001b[0m in \u001b[0;36m<module>\u001b[1;34m\u001b[0m\n\u001b[0;32m      1\u001b[0m \u001b[0mobj\u001b[0m \u001b[1;33m=\u001b[0m \u001b[1;36m100\u001b[0m\u001b[1;33m\u001b[0m\u001b[1;33m\u001b[0m\u001b[0m\n\u001b[1;32m----> 2\u001b[1;33m \u001b[1;32mfor\u001b[0m \u001b[0mi\u001b[0m \u001b[1;32min\u001b[0m \u001b[0mobj\u001b[0m\u001b[1;33m:\u001b[0m\u001b[1;33m\u001b[0m\u001b[1;33m\u001b[0m\u001b[0m\n\u001b[0m\u001b[0;32m      3\u001b[0m     \u001b[0mprint\u001b[0m\u001b[1;33m(\u001b[0m\u001b[0mi\u001b[0m\u001b[1;33m)\u001b[0m\u001b[1;33m\u001b[0m\u001b[1;33m\u001b[0m\u001b[0m\n",
      "\u001b[1;31mTypeError\u001b[0m: 'int' object is not iterable"
     ]
    }
   ],
   "source": [
    "obj = 100\n",
    "for i in obj:\n",
    "    print(i)"
   ]
  },
  {
   "cell_type": "code",
   "execution_count": 93,
   "metadata": {},
   "outputs": [
    {
     "name": "stdout",
     "output_type": "stream",
     "text": [
      "Error: obj is not iterable\n",
      "Taking some action as a consequence of this error\n"
     ]
    }
   ],
   "source": [
    "obj = 100\n",
    "if is_iterable(obj):\n",
    "    for i in obj:\n",
    "        print(i)\n",
    "else:\n",
    "    print('Error: obj is not iterable')\n",
    "    print('Taking some action as a consequence of this error')"
   ]
  },
  {
   "cell_type": "code",
   "execution_count": 94,
   "metadata": {},
   "outputs": [
    {
     "name": "stdout",
     "output_type": "stream",
     "text": [
      "Error: obj is not iterable\n",
      "Taking some action as a consequence of this error\n"
     ]
    }
   ],
   "source": [
    "obj = 100\n",
    "try:\n",
    "    for i in obj:\n",
    "        print(i)\n",
    "except TypeError:\n",
    "    print('Error: obj is not iterable')\n",
    "    print('Taking some action as a consequence of this error')"
   ]
  },
  {
   "cell_type": "markdown",
   "metadata": {},
   "source": [
    "### Iterables on Callables with sentinals"
   ]
  },
  {
   "cell_type": "code",
   "execution_count": 95,
   "metadata": {},
   "outputs": [],
   "source": [
    "def counter():\n",
    "    i = 0\n",
    "    \n",
    "    def inc():\n",
    "        nonlocal i\n",
    "        i += 1\n",
    "        return i\n",
    "    return inc"
   ]
  },
  {
   "cell_type": "code",
   "execution_count": 96,
   "metadata": {},
   "outputs": [],
   "source": [
    "cnt = counter()"
   ]
  },
  {
   "cell_type": "code",
   "execution_count": 97,
   "metadata": {},
   "outputs": [
    {
     "data": {
      "text/plain": [
       "1"
      ]
     },
     "execution_count": 97,
     "metadata": {},
     "output_type": "execute_result"
    }
   ],
   "source": [
    "cnt()"
   ]
  },
  {
   "cell_type": "code",
   "execution_count": 98,
   "metadata": {},
   "outputs": [
    {
     "data": {
      "text/plain": [
       "2"
      ]
     },
     "execution_count": 98,
     "metadata": {},
     "output_type": "execute_result"
    }
   ],
   "source": [
    "cnt()"
   ]
  },
  {
   "cell_type": "code",
   "execution_count": 99,
   "metadata": {},
   "outputs": [],
   "source": [
    "class CounterIterator:\n",
    "    def __init__(self, counter_callable):\n",
    "        self.counter_callable = counter_callable\n",
    "        \n",
    "    def __iter__(self):\n",
    "        return self\n",
    "    \n",
    "    def __next__(self):\n",
    "        return self.counter_callable()"
   ]
  },
  {
   "cell_type": "code",
   "execution_count": 100,
   "metadata": {},
   "outputs": [
    {
     "name": "stdout",
     "output_type": "stream",
     "text": [
      "1\n",
      "2\n",
      "3\n",
      "4\n",
      "5\n"
     ]
    }
   ],
   "source": [
    "cnt = counter()\n",
    "cnt_iter = CounterIterator(cnt)\n",
    "for _ in range(5):\n",
    "    print(next(cnt_iter))"
   ]
  },
  {
   "cell_type": "code",
   "execution_count": 101,
   "metadata": {},
   "outputs": [],
   "source": [
    "class CounterIterator:\n",
    "    def __init__(self, counter_callable, sentinel):\n",
    "        self.counter_callable = counter_callable\n",
    "        self.sentinel = sentinel\n",
    "        \n",
    "    def __iter__(self):\n",
    "        return self\n",
    "    \n",
    "    def __next__(self):\n",
    "        result = self.counter_callable()\n",
    "        if result == self.sentinel:\n",
    "            raise StopIteration\n",
    "        else:\n",
    "            return result"
   ]
  },
  {
   "cell_type": "code",
   "execution_count": 102,
   "metadata": {},
   "outputs": [
    {
     "name": "stdout",
     "output_type": "stream",
     "text": [
      "1\n",
      "2\n",
      "3\n",
      "4\n"
     ]
    }
   ],
   "source": [
    "cnt = counter()\n",
    "cnt_iter = CounterIterator(cnt, 5)\n",
    "for c in cnt_iter:\n",
    "    print(c)"
   ]
  },
  {
   "cell_type": "code",
   "execution_count": 103,
   "metadata": {},
   "outputs": [
    {
     "data": {
      "text/plain": [
       "6"
      ]
     },
     "execution_count": 103,
     "metadata": {},
     "output_type": "execute_result"
    }
   ],
   "source": [
    "next(cnt_iter)"
   ]
  },
  {
   "cell_type": "code",
   "execution_count": 104,
   "metadata": {},
   "outputs": [],
   "source": [
    "class CounterIterator:\n",
    "    def __init__(self, counter_callable, sentinel):\n",
    "        self.counter_callable = counter_callable\n",
    "        self.sentinel = sentinel\n",
    "        self.is_consumed = False\n",
    "        \n",
    "    def __iter__(self):\n",
    "        return self\n",
    "    \n",
    "    def __next__(self):\n",
    "        if self.is_consumed:\n",
    "            raise StopIteration\n",
    "        else:\n",
    "            result = self.counter_callable()\n",
    "            if result == self.sentinel:\n",
    "                self.is_consumed = True\n",
    "                raise StopIteration\n",
    "            else:\n",
    "                return result"
   ]
  },
  {
   "cell_type": "code",
   "execution_count": 105,
   "metadata": {},
   "outputs": [
    {
     "name": "stdout",
     "output_type": "stream",
     "text": [
      "1\n",
      "2\n",
      "3\n",
      "4\n"
     ]
    }
   ],
   "source": [
    "cnt = counter()\n",
    "cnt_iter = CounterIterator(cnt, 5)\n",
    "for c in cnt_iter:\n",
    "    print(c)"
   ]
  },
  {
   "cell_type": "code",
   "execution_count": 106,
   "metadata": {},
   "outputs": [
    {
     "ename": "StopIteration",
     "evalue": "",
     "output_type": "error",
     "traceback": [
      "\u001b[1;31m---------------------------------------------------------------------------\u001b[0m",
      "\u001b[1;31mStopIteration\u001b[0m                             Traceback (most recent call last)",
      "\u001b[1;32m~\\AppData\\Local\\Temp\\ipykernel_27308\\4114624902.py\u001b[0m in \u001b[0;36m<module>\u001b[1;34m\u001b[0m\n\u001b[1;32m----> 1\u001b[1;33m \u001b[0mnext\u001b[0m\u001b[1;33m(\u001b[0m\u001b[0mcnt_iter\u001b[0m\u001b[1;33m)\u001b[0m\u001b[1;33m\u001b[0m\u001b[1;33m\u001b[0m\u001b[0m\n\u001b[0m",
      "\u001b[1;32m~\\AppData\\Local\\Temp\\ipykernel_27308\\4029953143.py\u001b[0m in \u001b[0;36m__next__\u001b[1;34m(self)\u001b[0m\n\u001b[0;32m     10\u001b[0m     \u001b[1;32mdef\u001b[0m \u001b[0m__next__\u001b[0m\u001b[1;33m(\u001b[0m\u001b[0mself\u001b[0m\u001b[1;33m)\u001b[0m\u001b[1;33m:\u001b[0m\u001b[1;33m\u001b[0m\u001b[1;33m\u001b[0m\u001b[0m\n\u001b[0;32m     11\u001b[0m         \u001b[1;32mif\u001b[0m \u001b[0mself\u001b[0m\u001b[1;33m.\u001b[0m\u001b[0mis_consumed\u001b[0m\u001b[1;33m:\u001b[0m\u001b[1;33m\u001b[0m\u001b[1;33m\u001b[0m\u001b[0m\n\u001b[1;32m---> 12\u001b[1;33m             \u001b[1;32mraise\u001b[0m \u001b[0mStopIteration\u001b[0m\u001b[1;33m\u001b[0m\u001b[1;33m\u001b[0m\u001b[0m\n\u001b[0m\u001b[0;32m     13\u001b[0m         \u001b[1;32melse\u001b[0m\u001b[1;33m:\u001b[0m\u001b[1;33m\u001b[0m\u001b[1;33m\u001b[0m\u001b[0m\n\u001b[0;32m     14\u001b[0m             \u001b[0mresult\u001b[0m \u001b[1;33m=\u001b[0m \u001b[0mself\u001b[0m\u001b[1;33m.\u001b[0m\u001b[0mcounter_callable\u001b[0m\u001b[1;33m(\u001b[0m\u001b[1;33m)\u001b[0m\u001b[1;33m\u001b[0m\u001b[1;33m\u001b[0m\u001b[0m\n",
      "\u001b[1;31mStopIteration\u001b[0m: "
     ]
    }
   ],
   "source": [
    "next(cnt_iter)"
   ]
  },
  {
   "cell_type": "code",
   "execution_count": 107,
   "metadata": {},
   "outputs": [
    {
     "name": "stdout",
     "output_type": "stream",
     "text": [
      "Help on built-in function iter in module builtins:\n",
      "\n",
      "iter(...)\n",
      "    iter(iterable) -> iterator\n",
      "    iter(callable, sentinel) -> iterator\n",
      "    \n",
      "    Get an iterator from an object.  In the first form, the argument must\n",
      "    supply its own iterator, or be a sequence.\n",
      "    In the second form, the callable is called until it returns the sentinel.\n",
      "\n"
     ]
    }
   ],
   "source": [
    "help(iter)"
   ]
  },
  {
   "cell_type": "code",
   "execution_count": 108,
   "metadata": {},
   "outputs": [
    {
     "name": "stdout",
     "output_type": "stream",
     "text": [
      "1\n",
      "2\n",
      "3\n",
      "4\n"
     ]
    }
   ],
   "source": [
    "cnt = counter()\n",
    "cnt_iter = iter(cnt, 5)\n",
    "for c in cnt_iter:\n",
    "    print(c)"
   ]
  },
  {
   "cell_type": "code",
   "execution_count": 109,
   "metadata": {},
   "outputs": [
    {
     "ename": "StopIteration",
     "evalue": "",
     "output_type": "error",
     "traceback": [
      "\u001b[1;31m---------------------------------------------------------------------------\u001b[0m",
      "\u001b[1;31mStopIteration\u001b[0m                             Traceback (most recent call last)",
      "\u001b[1;32m~\\AppData\\Local\\Temp\\ipykernel_27308\\4114624902.py\u001b[0m in \u001b[0;36m<module>\u001b[1;34m\u001b[0m\n\u001b[1;32m----> 1\u001b[1;33m \u001b[0mnext\u001b[0m\u001b[1;33m(\u001b[0m\u001b[0mcnt_iter\u001b[0m\u001b[1;33m)\u001b[0m\u001b[1;33m\u001b[0m\u001b[1;33m\u001b[0m\u001b[0m\n\u001b[0m",
      "\u001b[1;31mStopIteration\u001b[0m: "
     ]
    }
   ],
   "source": [
    "next(cnt_iter)"
   ]
  },
  {
   "cell_type": "code",
   "execution_count": 110,
   "metadata": {},
   "outputs": [],
   "source": [
    "import random"
   ]
  },
  {
   "cell_type": "code",
   "execution_count": 111,
   "metadata": {},
   "outputs": [
    {
     "name": "stdout",
     "output_type": "stream",
     "text": [
      "0 6\n",
      "1 6\n",
      "2 0\n",
      "3 4\n",
      "4 8\n",
      "5 7\n",
      "6 6\n",
      "7 4\n",
      "8 7\n",
      "9 5\n"
     ]
    }
   ],
   "source": [
    "random.seed(0)\n",
    "for i in range(10):\n",
    "    print(i, random.randint(0, 10))"
   ]
  },
  {
   "cell_type": "code",
   "execution_count": 112,
   "metadata": {},
   "outputs": [],
   "source": [
    "random_iterator = iter(lambda : random.randint(0, 10), 8)"
   ]
  },
  {
   "cell_type": "code",
   "execution_count": 113,
   "metadata": {},
   "outputs": [
    {
     "name": "stdout",
     "output_type": "stream",
     "text": [
      "6\n",
      "6\n",
      "0\n",
      "4\n"
     ]
    }
   ],
   "source": [
    "random.seed(0)\n",
    "\n",
    "for num in random_iterator:\n",
    "    print(num)"
   ]
  },
  {
   "cell_type": "code",
   "execution_count": 114,
   "metadata": {},
   "outputs": [],
   "source": [
    "def countdown(start=10):\n",
    "    def run():\n",
    "        nonlocal start\n",
    "        start -= 1\n",
    "        return start\n",
    "    return run"
   ]
  },
  {
   "cell_type": "code",
   "execution_count": 115,
   "metadata": {},
   "outputs": [
    {
     "name": "stdout",
     "output_type": "stream",
     "text": [
      "9\n",
      "8\n",
      "7\n",
      "6\n",
      "5\n",
      "4\n",
      "3\n",
      "2\n",
      "1\n",
      "0\n",
      "-1\n",
      "-2\n",
      "-3\n",
      "-4\n",
      "-5\n"
     ]
    }
   ],
   "source": [
    "takeoff = countdown(10)\n",
    "for _ in range(15):\n",
    "    print(takeoff())"
   ]
  },
  {
   "cell_type": "code",
   "execution_count": 116,
   "metadata": {},
   "outputs": [],
   "source": [
    "takeoff  = countdown(10)\n",
    "takeoff_iter = iter(takeoff, -1)"
   ]
  },
  {
   "cell_type": "code",
   "execution_count": 117,
   "metadata": {},
   "outputs": [
    {
     "name": "stdout",
     "output_type": "stream",
     "text": [
      "9\n",
      "8\n",
      "7\n",
      "6\n",
      "5\n",
      "4\n",
      "3\n",
      "2\n",
      "1\n",
      "0\n"
     ]
    }
   ],
   "source": [
    "for val in takeoff_iter:\n",
    "    print(val)"
   ]
  },
  {
   "cell_type": "code",
   "execution_count": 118,
   "metadata": {},
   "outputs": [],
   "source": [
    "from collections import namedtuple\n",
    "\n",
    "Person = namedtuple('Person', 'first last')"
   ]
  },
  {
   "cell_type": "code",
   "execution_count": 119,
   "metadata": {},
   "outputs": [],
   "source": [
    "class PersonNames:\n",
    "    def __init__(self, persons):\n",
    "        try:\n",
    "            self._persons = [person.first.capitalize()\n",
    "                             + ' ' + person.last.capitalize()\n",
    "                            for person in persons]\n",
    "        except (TypeError, AttributeError):\n",
    "            self._persons = []"
   ]
  },
  {
   "cell_type": "code",
   "execution_count": 120,
   "metadata": {},
   "outputs": [],
   "source": [
    "persons = [Person('michaeL', 'paLin'), Person('eric', 'idLe'), \n",
    "           Person('john', 'cLeese')]"
   ]
  },
  {
   "cell_type": "code",
   "execution_count": 121,
   "metadata": {},
   "outputs": [],
   "source": [
    "person_names = PersonNames(persons)"
   ]
  },
  {
   "cell_type": "code",
   "execution_count": 122,
   "metadata": {},
   "outputs": [
    {
     "data": {
      "text/plain": [
       "['Michael Palin', 'Eric Idle', 'John Cleese']"
      ]
     },
     "execution_count": 122,
     "metadata": {},
     "output_type": "execute_result"
    }
   ],
   "source": [
    "person_names._persons"
   ]
  },
  {
   "cell_type": "code",
   "execution_count": 123,
   "metadata": {},
   "outputs": [],
   "source": [
    "class PersonNames:\n",
    "    def __init__(self, persons):\n",
    "        try:\n",
    "            self._persons = [person.first.capitalize()\n",
    "                             + ' ' + person.last.capitalize()\n",
    "                            for person in persons]\n",
    "        except TypeError:\n",
    "            self._persons = []\n",
    "    \n",
    "    def __iter__(self):\n",
    "        return iter(self._persons)"
   ]
  },
  {
   "cell_type": "code",
   "execution_count": 124,
   "metadata": {},
   "outputs": [],
   "source": [
    "persons = [Person('michaeL', 'paLin'), Person('eric', 'idLe'), \n",
    "           Person('john', 'cLeese')]\n",
    "person_names = PersonNames(persons)"
   ]
  },
  {
   "cell_type": "code",
   "execution_count": 125,
   "metadata": {},
   "outputs": [
    {
     "name": "stdout",
     "output_type": "stream",
     "text": [
      "Michael Palin\n",
      "Eric Idle\n",
      "John Cleese\n"
     ]
    }
   ],
   "source": [
    "for p in person_names:\n",
    "    print(p)"
   ]
  },
  {
   "cell_type": "code",
   "execution_count": 126,
   "metadata": {},
   "outputs": [
    {
     "name": "stdout",
     "output_type": "stream",
     "text": [
      "Michael Palin\n",
      "Eric Idle\n",
      "John Cleese\n"
     ]
    }
   ],
   "source": [
    "for p in person_names:\n",
    "    print(p)"
   ]
  },
  {
   "cell_type": "code",
   "execution_count": 127,
   "metadata": {},
   "outputs": [
    {
     "data": {
      "text/plain": [
       "[('Eric', 'Idle'), ('John', 'Cleese'), ('Michael', 'Palin')]"
      ]
     },
     "execution_count": 127,
     "metadata": {},
     "output_type": "execute_result"
    }
   ],
   "source": [
    "[tuple(person_name.split()) for person_name in sorted(person_names)]"
   ]
  },
  {
   "cell_type": "code",
   "execution_count": 128,
   "metadata": {},
   "outputs": [
    {
     "data": {
      "text/plain": [
       "['John Cleese', 'Eric Idle', 'Michael Palin']"
      ]
     },
     "execution_count": 128,
     "metadata": {},
     "output_type": "execute_result"
    }
   ],
   "source": [
    "sorted(person_names, key=lambda x: x.split()[1])"
   ]
  },
  {
   "cell_type": "code",
   "execution_count": 129,
   "metadata": {},
   "outputs": [],
   "source": [
    "_SUITS = ('Spades', 'Hearts', 'Diamonds', 'Clubs')\n",
    "_RANKS = tuple(range(2, 11) ) + tuple('JQKA')\n",
    "from collections import namedtuple\n",
    "\n",
    "Card = namedtuple('Card', 'rank suit')\n",
    "\n",
    "class CardDeck:\n",
    "    def __init__(self):\n",
    "        self.length = len(_SUITS) * len(_RANKS)\n",
    "\n",
    "    def __len__(self):\n",
    "        return self.length\n",
    "    \n",
    "    def __iter__(self):\n",
    "        return self.CardDeckIterator(self.length)\n",
    "        \n",
    "    class CardDeckIterator:\n",
    "        def __init__(self, length):\n",
    "            self.length = length\n",
    "            self.i = 0\n",
    "            \n",
    "        def __iter__(self):\n",
    "            return self\n",
    "        \n",
    "        def __next__(self):\n",
    "            if self.i >= self.length:\n",
    "                raise StopIteration\n",
    "            else:\n",
    "                suit = _SUITS[self.i // len(_RANKS)]\n",
    "                rank = _RANKS[self.i % len(_RANKS)]\n",
    "                self.i += 1\n",
    "                return Card(rank, suit)"
   ]
  },
  {
   "cell_type": "code",
   "execution_count": 130,
   "metadata": {},
   "outputs": [],
   "source": [
    "deck = CardDeck()"
   ]
  },
  {
   "cell_type": "code",
   "execution_count": 131,
   "metadata": {},
   "outputs": [
    {
     "name": "stdout",
     "output_type": "stream",
     "text": [
      "Card(rank=2, suit='Spades')\n",
      "Card(rank=3, suit='Spades')\n",
      "Card(rank=4, suit='Spades')\n",
      "Card(rank=5, suit='Spades')\n",
      "Card(rank=6, suit='Spades')\n",
      "Card(rank=7, suit='Spades')\n",
      "Card(rank=8, suit='Spades')\n",
      "Card(rank=9, suit='Spades')\n",
      "Card(rank=10, suit='Spades')\n",
      "Card(rank='J', suit='Spades')\n",
      "Card(rank='Q', suit='Spades')\n",
      "Card(rank='K', suit='Spades')\n",
      "Card(rank='A', suit='Spades')\n",
      "Card(rank=2, suit='Hearts')\n",
      "Card(rank=3, suit='Hearts')\n",
      "Card(rank=4, suit='Hearts')\n",
      "Card(rank=5, suit='Hearts')\n",
      "Card(rank=6, suit='Hearts')\n",
      "Card(rank=7, suit='Hearts')\n",
      "Card(rank=8, suit='Hearts')\n",
      "Card(rank=9, suit='Hearts')\n",
      "Card(rank=10, suit='Hearts')\n",
      "Card(rank='J', suit='Hearts')\n",
      "Card(rank='Q', suit='Hearts')\n",
      "Card(rank='K', suit='Hearts')\n",
      "Card(rank='A', suit='Hearts')\n",
      "Card(rank=2, suit='Diamonds')\n",
      "Card(rank=3, suit='Diamonds')\n",
      "Card(rank=4, suit='Diamonds')\n",
      "Card(rank=5, suit='Diamonds')\n",
      "Card(rank=6, suit='Diamonds')\n",
      "Card(rank=7, suit='Diamonds')\n",
      "Card(rank=8, suit='Diamonds')\n",
      "Card(rank=9, suit='Diamonds')\n",
      "Card(rank=10, suit='Diamonds')\n",
      "Card(rank='J', suit='Diamonds')\n",
      "Card(rank='Q', suit='Diamonds')\n",
      "Card(rank='K', suit='Diamonds')\n",
      "Card(rank='A', suit='Diamonds')\n",
      "Card(rank=2, suit='Clubs')\n",
      "Card(rank=3, suit='Clubs')\n",
      "Card(rank=4, suit='Clubs')\n",
      "Card(rank=5, suit='Clubs')\n",
      "Card(rank=6, suit='Clubs')\n",
      "Card(rank=7, suit='Clubs')\n",
      "Card(rank=8, suit='Clubs')\n",
      "Card(rank=9, suit='Clubs')\n",
      "Card(rank=10, suit='Clubs')\n",
      "Card(rank='J', suit='Clubs')\n",
      "Card(rank='Q', suit='Clubs')\n",
      "Card(rank='K', suit='Clubs')\n",
      "Card(rank='A', suit='Clubs')\n"
     ]
    }
   ],
   "source": [
    "for card in deck:\n",
    "    \n",
    "    print(card)"
   ]
  },
  {
   "cell_type": "code",
   "execution_count": 132,
   "metadata": {},
   "outputs": [],
   "source": [
    "deck = list(CardDeck())"
   ]
  },
  {
   "cell_type": "code",
   "execution_count": 133,
   "metadata": {},
   "outputs": [
    {
     "data": {
      "text/plain": [
       "[Card(rank='A', suit='Clubs'),\n",
       " Card(rank='K', suit='Clubs'),\n",
       " Card(rank='Q', suit='Clubs'),\n",
       " Card(rank='J', suit='Clubs'),\n",
       " Card(rank=10, suit='Clubs'),\n",
       " Card(rank=9, suit='Clubs'),\n",
       " Card(rank=8, suit='Clubs')]"
      ]
     },
     "execution_count": 133,
     "metadata": {},
     "output_type": "execute_result"
    }
   ],
   "source": [
    "deck[:-8:-1]"
   ]
  },
  {
   "cell_type": "code",
   "execution_count": 134,
   "metadata": {},
   "outputs": [
    {
     "name": "stdout",
     "output_type": "stream",
     "text": [
      "Card(rank='A', suit='Clubs')\n",
      "Card(rank='K', suit='Clubs')\n",
      "Card(rank='Q', suit='Clubs')\n",
      "Card(rank='J', suit='Clubs')\n",
      "Card(rank=10, suit='Clubs')\n",
      "Card(rank=9, suit='Clubs')\n",
      "Card(rank=8, suit='Clubs')\n",
      "Card(rank=7, suit='Clubs')\n",
      "Card(rank=6, suit='Clubs')\n",
      "Card(rank=5, suit='Clubs')\n",
      "Card(rank=4, suit='Clubs')\n",
      "Card(rank=3, suit='Clubs')\n",
      "Card(rank=2, suit='Clubs')\n",
      "Card(rank='A', suit='Diamonds')\n",
      "Card(rank='K', suit='Diamonds')\n",
      "Card(rank='Q', suit='Diamonds')\n",
      "Card(rank='J', suit='Diamonds')\n",
      "Card(rank=10, suit='Diamonds')\n",
      "Card(rank=9, suit='Diamonds')\n",
      "Card(rank=8, suit='Diamonds')\n",
      "Card(rank=7, suit='Diamonds')\n",
      "Card(rank=6, suit='Diamonds')\n",
      "Card(rank=5, suit='Diamonds')\n",
      "Card(rank=4, suit='Diamonds')\n",
      "Card(rank=3, suit='Diamonds')\n",
      "Card(rank=2, suit='Diamonds')\n",
      "Card(rank='A', suit='Hearts')\n",
      "Card(rank='K', suit='Hearts')\n",
      "Card(rank='Q', suit='Hearts')\n",
      "Card(rank='J', suit='Hearts')\n",
      "Card(rank=10, suit='Hearts')\n",
      "Card(rank=9, suit='Hearts')\n",
      "Card(rank=8, suit='Hearts')\n",
      "Card(rank=7, suit='Hearts')\n",
      "Card(rank=6, suit='Hearts')\n",
      "Card(rank=5, suit='Hearts')\n",
      "Card(rank=4, suit='Hearts')\n",
      "Card(rank=3, suit='Hearts')\n",
      "Card(rank=2, suit='Hearts')\n",
      "Card(rank='A', suit='Spades')\n",
      "Card(rank='K', suit='Spades')\n",
      "Card(rank='Q', suit='Spades')\n",
      "Card(rank='J', suit='Spades')\n",
      "Card(rank=10, suit='Spades')\n",
      "Card(rank=9, suit='Spades')\n",
      "Card(rank=8, suit='Spades')\n",
      "Card(rank=7, suit='Spades')\n",
      "Card(rank=6, suit='Spades')\n",
      "Card(rank=5, suit='Spades')\n",
      "Card(rank=4, suit='Spades')\n",
      "Card(rank=3, suit='Spades')\n",
      "Card(rank=2, suit='Spades')\n"
     ]
    }
   ],
   "source": [
    "deck = list(CardDeck())\n",
    "deck = deck[::-1]\n",
    "for card in deck:\n",
    "    print(card)"
   ]
  },
  {
   "cell_type": "code",
   "execution_count": 135,
   "metadata": {},
   "outputs": [],
   "source": [
    "deck = CardDeck()"
   ]
  },
  {
   "cell_type": "code",
   "execution_count": 136,
   "metadata": {},
   "outputs": [
    {
     "ename": "TypeError",
     "evalue": "'CardDeck' object is not reversible",
     "output_type": "error",
     "traceback": [
      "\u001b[1;31m---------------------------------------------------------------------------\u001b[0m",
      "\u001b[1;31mTypeError\u001b[0m                                 Traceback (most recent call last)",
      "\u001b[1;32m~\\AppData\\Local\\Temp\\ipykernel_27308\\1720283143.py\u001b[0m in \u001b[0;36m<module>\u001b[1;34m\u001b[0m\n\u001b[1;32m----> 1\u001b[1;33m \u001b[0mdeck\u001b[0m \u001b[1;33m=\u001b[0m \u001b[0mreversed\u001b[0m\u001b[1;33m(\u001b[0m\u001b[0mdeck\u001b[0m\u001b[1;33m)\u001b[0m\u001b[1;33m\u001b[0m\u001b[1;33m\u001b[0m\u001b[0m\n\u001b[0m",
      "\u001b[1;31mTypeError\u001b[0m: 'CardDeck' object is not reversible"
     ]
    }
   ],
   "source": [
    "deck = reversed(deck)"
   ]
  },
  {
   "cell_type": "code",
   "execution_count": 137,
   "metadata": {},
   "outputs": [],
   "source": [
    "_SUITS = ('Spades', 'Hearts', 'Diamonds', 'Clubs')\n",
    "_RANKS = tuple(range(2, 11) ) + ('J', 'Q', 'K', 'A')\n",
    "from collections import namedtuple\n",
    "\n",
    "Card = namedtuple('Card', 'rank suit')\n",
    "\n",
    "class CardDeck:\n",
    "    def __init__(self):\n",
    "        self.length = len(_SUITS) * len(_RANKS)\n",
    "\n",
    "    def __len__(self):\n",
    "        return self.length\n",
    "    \n",
    "    def __iter__(self):\n",
    "        return self.CardDeckIterator(self.length)\n",
    "        \n",
    "    def __reversed__(self):\n",
    "        return self.CardDeckIterator(self.length, reverse=True)\n",
    "    \n",
    "    class CardDeckIterator:\n",
    "        def __init__(self, length, *, reverse=False):\n",
    "            self.length = length\n",
    "            self.reverse = reverse\n",
    "            self.i = 0\n",
    "            \n",
    "        def __iter__(self):\n",
    "            return self\n",
    "        \n",
    "        def __next__(self):\n",
    "            if self.i >= self.length:\n",
    "                raise StopIteration\n",
    "            else:\n",
    "                if self.reverse:\n",
    "                    index = self.length -1 - self.i\n",
    "                else:\n",
    "                    index = self.i\n",
    "                suit = _SUITS[index // len(_RANKS)]\n",
    "                rank = _RANKS[index % len(_RANKS)]\n",
    "                self.i += 1\n",
    "                return Card(rank, suit)\n",
    "            \n"
   ]
  },
  {
   "cell_type": "code",
   "execution_count": 138,
   "metadata": {},
   "outputs": [],
   "source": [
    "deck = CardDeck()"
   ]
  },
  {
   "cell_type": "code",
   "execution_count": 139,
   "metadata": {},
   "outputs": [
    {
     "name": "stdout",
     "output_type": "stream",
     "text": [
      "Card(rank=2, suit='Spades')\n",
      "Card(rank=3, suit='Spades')\n",
      "Card(rank=4, suit='Spades')\n",
      "Card(rank=5, suit='Spades')\n",
      "Card(rank=6, suit='Spades')\n",
      "Card(rank=7, suit='Spades')\n",
      "Card(rank=8, suit='Spades')\n",
      "Card(rank=9, suit='Spades')\n",
      "Card(rank=10, suit='Spades')\n",
      "Card(rank='J', suit='Spades')\n",
      "Card(rank='Q', suit='Spades')\n",
      "Card(rank='K', suit='Spades')\n",
      "Card(rank='A', suit='Spades')\n",
      "Card(rank=2, suit='Hearts')\n",
      "Card(rank=3, suit='Hearts')\n",
      "Card(rank=4, suit='Hearts')\n",
      "Card(rank=5, suit='Hearts')\n",
      "Card(rank=6, suit='Hearts')\n",
      "Card(rank=7, suit='Hearts')\n",
      "Card(rank=8, suit='Hearts')\n",
      "Card(rank=9, suit='Hearts')\n",
      "Card(rank=10, suit='Hearts')\n",
      "Card(rank='J', suit='Hearts')\n",
      "Card(rank='Q', suit='Hearts')\n",
      "Card(rank='K', suit='Hearts')\n",
      "Card(rank='A', suit='Hearts')\n",
      "Card(rank=2, suit='Diamonds')\n",
      "Card(rank=3, suit='Diamonds')\n",
      "Card(rank=4, suit='Diamonds')\n",
      "Card(rank=5, suit='Diamonds')\n",
      "Card(rank=6, suit='Diamonds')\n",
      "Card(rank=7, suit='Diamonds')\n",
      "Card(rank=8, suit='Diamonds')\n",
      "Card(rank=9, suit='Diamonds')\n",
      "Card(rank=10, suit='Diamonds')\n",
      "Card(rank='J', suit='Diamonds')\n",
      "Card(rank='Q', suit='Diamonds')\n",
      "Card(rank='K', suit='Diamonds')\n",
      "Card(rank='A', suit='Diamonds')\n",
      "Card(rank=2, suit='Clubs')\n",
      "Card(rank=3, suit='Clubs')\n",
      "Card(rank=4, suit='Clubs')\n",
      "Card(rank=5, suit='Clubs')\n",
      "Card(rank=6, suit='Clubs')\n",
      "Card(rank=7, suit='Clubs')\n",
      "Card(rank=8, suit='Clubs')\n",
      "Card(rank=9, suit='Clubs')\n",
      "Card(rank=10, suit='Clubs')\n",
      "Card(rank='J', suit='Clubs')\n",
      "Card(rank='Q', suit='Clubs')\n",
      "Card(rank='K', suit='Clubs')\n",
      "Card(rank='A', suit='Clubs')\n"
     ]
    }
   ],
   "source": [
    "for card in deck:\n",
    "    print(card)"
   ]
  },
  {
   "cell_type": "code",
   "execution_count": 140,
   "metadata": {},
   "outputs": [
    {
     "name": "stdout",
     "output_type": "stream",
     "text": [
      "Card(rank='A', suit='Clubs')\n",
      "Card(rank='K', suit='Clubs')\n",
      "Card(rank='Q', suit='Clubs')\n",
      "Card(rank='J', suit='Clubs')\n",
      "Card(rank=10, suit='Clubs')\n",
      "Card(rank=9, suit='Clubs')\n",
      "Card(rank=8, suit='Clubs')\n",
      "Card(rank=7, suit='Clubs')\n",
      "Card(rank=6, suit='Clubs')\n",
      "Card(rank=5, suit='Clubs')\n",
      "Card(rank=4, suit='Clubs')\n",
      "Card(rank=3, suit='Clubs')\n",
      "Card(rank=2, suit='Clubs')\n",
      "Card(rank='A', suit='Diamonds')\n",
      "Card(rank='K', suit='Diamonds')\n",
      "Card(rank='Q', suit='Diamonds')\n",
      "Card(rank='J', suit='Diamonds')\n",
      "Card(rank=10, suit='Diamonds')\n",
      "Card(rank=9, suit='Diamonds')\n",
      "Card(rank=8, suit='Diamonds')\n",
      "Card(rank=7, suit='Diamonds')\n",
      "Card(rank=6, suit='Diamonds')\n",
      "Card(rank=5, suit='Diamonds')\n",
      "Card(rank=4, suit='Diamonds')\n",
      "Card(rank=3, suit='Diamonds')\n",
      "Card(rank=2, suit='Diamonds')\n",
      "Card(rank='A', suit='Hearts')\n",
      "Card(rank='K', suit='Hearts')\n",
      "Card(rank='Q', suit='Hearts')\n",
      "Card(rank='J', suit='Hearts')\n",
      "Card(rank=10, suit='Hearts')\n",
      "Card(rank=9, suit='Hearts')\n",
      "Card(rank=8, suit='Hearts')\n",
      "Card(rank=7, suit='Hearts')\n",
      "Card(rank=6, suit='Hearts')\n",
      "Card(rank=5, suit='Hearts')\n",
      "Card(rank=4, suit='Hearts')\n",
      "Card(rank=3, suit='Hearts')\n",
      "Card(rank=2, suit='Hearts')\n",
      "Card(rank='A', suit='Spades')\n",
      "Card(rank='K', suit='Spades')\n",
      "Card(rank='Q', suit='Spades')\n",
      "Card(rank='J', suit='Spades')\n",
      "Card(rank=10, suit='Spades')\n",
      "Card(rank=9, suit='Spades')\n",
      "Card(rank=8, suit='Spades')\n",
      "Card(rank=7, suit='Spades')\n",
      "Card(rank=6, suit='Spades')\n",
      "Card(rank=5, suit='Spades')\n",
      "Card(rank=4, suit='Spades')\n",
      "Card(rank=3, suit='Spades')\n",
      "Card(rank=2, suit='Spades')\n"
     ]
    }
   ],
   "source": [
    "deck = reversed(CardDeck())\n",
    "for card in deck:\n",
    "    print(card)"
   ]
  },
  {
   "cell_type": "code",
   "execution_count": 141,
   "metadata": {},
   "outputs": [],
   "source": [
    "class Squares:\n",
    "    def __init__(self, length):\n",
    "        self.squares = [i **2 for i in range(length)]\n",
    "        \n",
    "    def __len__(self):\n",
    "        return len(self.squares)\n",
    "    \n",
    "    def __getitem__(self, s):\n",
    "        return self.squares[s]"
   ]
  },
  {
   "cell_type": "code",
   "execution_count": 142,
   "metadata": {},
   "outputs": [],
   "source": [
    "sq = Squares(10)"
   ]
  },
  {
   "cell_type": "code",
   "execution_count": 143,
   "metadata": {},
   "outputs": [
    {
     "name": "stdout",
     "output_type": "stream",
     "text": [
      "0\n",
      "1\n",
      "4\n",
      "9\n",
      "16\n"
     ]
    }
   ],
   "source": [
    "for num in Squares(5):\n",
    "    print(num)"
   ]
  },
  {
   "cell_type": "code",
   "execution_count": 144,
   "metadata": {},
   "outputs": [
    {
     "name": "stdout",
     "output_type": "stream",
     "text": [
      "16\n",
      "9\n",
      "4\n",
      "1\n",
      "0\n"
     ]
    }
   ],
   "source": [
    "for num in reversed(Squares(5)):\n",
    "    print(num)"
   ]
  },
  {
   "cell_type": "code",
   "execution_count": 145,
   "metadata": {},
   "outputs": [],
   "source": [
    "class Squares:\n",
    "    def __init__(self, length):\n",
    "        self.squares = [i **2 for i in range(length)]\n",
    "        \n",
    "#     def __len__(self):\n",
    "#         return len(self.squares)\n",
    "    \n",
    "    def __getitem__(self, s):\n",
    "        return self.squares[s]"
   ]
  },
  {
   "cell_type": "code",
   "execution_count": 148,
   "metadata": {},
   "outputs": [
    {
     "ename": "TypeError",
     "evalue": "object of type 'Squares' has no len()",
     "output_type": "error",
     "traceback": [
      "\u001b[1;31m---------------------------------------------------------------------------\u001b[0m",
      "\u001b[1;31mTypeError\u001b[0m                                 Traceback (most recent call last)",
      "\u001b[1;32m~\\AppData\\Local\\Temp\\ipykernel_27308\\2526819940.py\u001b[0m in \u001b[0;36m<module>\u001b[1;34m\u001b[0m\n\u001b[1;32m----> 1\u001b[1;33m \u001b[1;32mfor\u001b[0m \u001b[0mnum\u001b[0m \u001b[1;32min\u001b[0m \u001b[0mreversed\u001b[0m\u001b[1;33m(\u001b[0m\u001b[0mSquares\u001b[0m\u001b[1;33m(\u001b[0m\u001b[1;36m5\u001b[0m\u001b[1;33m)\u001b[0m\u001b[1;33m)\u001b[0m\u001b[1;33m:\u001b[0m\u001b[1;33m\u001b[0m\u001b[1;33m\u001b[0m\u001b[0m\n\u001b[0m\u001b[0;32m      2\u001b[0m     \u001b[0mprint\u001b[0m\u001b[1;33m(\u001b[0m\u001b[0mnum\u001b[0m\u001b[1;33m)\u001b[0m\u001b[1;33m\u001b[0m\u001b[1;33m\u001b[0m\u001b[0m\n",
      "\u001b[1;31mTypeError\u001b[0m: object of type 'Squares' has no len()"
     ]
    }
   ],
   "source": [
    "for num in reversed(Squares(5)):\n",
    "    print(num)"
   ]
  },
  {
   "cell_type": "code",
   "execution_count": 149,
   "metadata": {},
   "outputs": [],
   "source": [
    "class Squares:\n",
    "    def __init__(self, length):\n",
    "        self.length = length\n",
    "        self.squares = [i **2 for i in range(length)]\n",
    "        \n",
    "    def __len__(self):\n",
    "        return len(self.squares)\n",
    "    \n",
    "    def __getitem__(self, s):\n",
    "        return self.squares[s]\n",
    "    \n",
    "    def __reversed__(self):\n",
    "        print('__reversed__ called')\n",
    "        return [i for i in range(self.length-1, -1, -1)]"
   ]
  },
  {
   "cell_type": "code",
   "execution_count": 150,
   "metadata": {},
   "outputs": [
    {
     "name": "stdout",
     "output_type": "stream",
     "text": [
      "0\n",
      "1\n",
      "4\n",
      "9\n",
      "16\n"
     ]
    }
   ],
   "source": [
    "for num in Squares(5):\n",
    "    print(num)"
   ]
  },
  {
   "cell_type": "code",
   "execution_count": 151,
   "metadata": {},
   "outputs": [
    {
     "name": "stdout",
     "output_type": "stream",
     "text": [
      "__reversed__ called\n",
      "4\n",
      "3\n",
      "2\n",
      "1\n",
      "0\n"
     ]
    }
   ],
   "source": [
    "for num in reversed(Squares(5)):\n",
    "    print(num)"
   ]
  },
  {
   "cell_type": "code",
   "execution_count": 152,
   "metadata": {},
   "outputs": [],
   "source": [
    "import random"
   ]
  },
  {
   "cell_type": "code",
   "execution_count": 153,
   "metadata": {},
   "outputs": [],
   "source": [
    "class Randoms:\n",
    "    def __init__(self, n):\n",
    "        self.n = n\n",
    "        self.i = 0\n",
    "        \n",
    "    def __iter__(self):\n",
    "        return self\n",
    "    \n",
    "    def __next__(self):\n",
    "        if self.i >= self.n:\n",
    "            raise StopIteration\n",
    "        else:\n",
    "            self.i += 1\n",
    "            return random.randint(0, 100)"
   ]
  },
  {
   "cell_type": "code",
   "execution_count": 154,
   "metadata": {},
   "outputs": [
    {
     "name": "stdout",
     "output_type": "stream",
     "text": [
      "[49, 97, 53, 5, 33, 65, 62, 51, 100, 38]\n"
     ]
    }
   ],
   "source": [
    "random.seed(0)\n",
    "l = list(Randoms(10))\n",
    "print(l)"
   ]
  },
  {
   "cell_type": "code",
   "execution_count": 155,
   "metadata": {},
   "outputs": [
    {
     "data": {
      "text/plain": [
       "(5, 100)"
      ]
     },
     "execution_count": 155,
     "metadata": {},
     "output_type": "execute_result"
    }
   ],
   "source": [
    "min(l), max(l)"
   ]
  },
  {
   "cell_type": "code",
   "execution_count": 156,
   "metadata": {},
   "outputs": [],
   "source": [
    "random.seed(0)\n",
    "l = Randoms(10)"
   ]
  },
  {
   "cell_type": "code",
   "execution_count": 157,
   "metadata": {},
   "outputs": [
    {
     "data": {
      "text/plain": [
       "5"
      ]
     },
     "execution_count": 157,
     "metadata": {},
     "output_type": "execute_result"
    }
   ],
   "source": [
    "min(l)"
   ]
  },
  {
   "cell_type": "code",
   "execution_count": 158,
   "metadata": {},
   "outputs": [
    {
     "ename": "ValueError",
     "evalue": "max() arg is an empty sequence",
     "output_type": "error",
     "traceback": [
      "\u001b[1;31m---------------------------------------------------------------------------\u001b[0m",
      "\u001b[1;31mValueError\u001b[0m                                Traceback (most recent call last)",
      "\u001b[1;32m~\\AppData\\Local\\Temp\\ipykernel_27308\\1790536805.py\u001b[0m in \u001b[0;36m<module>\u001b[1;34m\u001b[0m\n\u001b[1;32m----> 1\u001b[1;33m \u001b[0mmax\u001b[0m\u001b[1;33m(\u001b[0m\u001b[0ml\u001b[0m\u001b[1;33m)\u001b[0m\u001b[1;33m\u001b[0m\u001b[1;33m\u001b[0m\u001b[0m\n\u001b[0m",
      "\u001b[1;31mValueError\u001b[0m: max() arg is an empty sequence"
     ]
    }
   ],
   "source": [
    "max(l)"
   ]
  },
  {
   "cell_type": "code",
   "execution_count": 159,
   "metadata": {},
   "outputs": [
    {
     "name": "stdout",
     "output_type": "stream",
     "text": [
      "Car;MPG;Cylinders;Displacement;Horsepower;Weight;Acceleration;Model;Origin\n",
      "STRING;DOUBLE;INT;DOUBLE;DOUBLE;DOUBLE;DOUBLE;INT;CAT\n",
      "Chevrolet Chevelle Malibu;18.0;8;307.0;130.0;3504.;12.0;70;US\n",
      "Buick Skylark 320;15.0;8;350.0;165.0;3693.;11.5;70;US\n",
      "Plymouth Satellite;18.0;8;318.0;150.0;3436.;11.0;70;US\n",
      "AMC Rebel SST;16.0;8;304.0;150.0;3433.;12.0;70;US\n",
      "Ford Torino;17.0;8;302.0;140.0;3449.;10.5;70;US\n",
      "Ford Galaxie 500;15.0;8;429.0;198.0;4341.;10.0;70;US\n",
      "Chevrolet Impala;14.0;8;454.0;220.0;4354.;9.0;70;US\n",
      "Plymouth Fury iii;14.0;8;440.0;215.0;4312.;8.5;70;US\n",
      "Pontiac Catalina;14.0;8;455.0;225.0;4425.;10.0;70;US\n",
      "AMC Ambassador DPL;15.0;8;390.0;190.0;3850.;8.5;70;US\n",
      "Citroen DS-21 Pallas;0;4;133.0;115.0;3090.;17.5;70;Europe\n",
      "Chevrolet Chevelle Concours (sw);0;8;350.0;165.0;4142.;11.5;70;US\n",
      "Ford Torino (sw);0;8;351.0;153.0;4034.;11.0;70;US\n",
      "Plymouth Satellite (sw);0;8;383.0;175.0;4166.;10.5;70;US\n",
      "AMC Rebel SST (sw);0;8;360.0;175.0;3850.;11.0;70;US\n",
      "Dodge Challenger SE;15.0;8;383.0;170.0;3563.;10.0;70;US\n",
      "Plymouth 'Cuda 340;14.0;8;340.0;160.0;3609.;8.0;70;US\n",
      "Ford Mustang Boss 302;0;8;302.0;140.0;3353.;8.0;70;US\n",
      "Chevrolet Monte Carlo;15.0;8;400.0;150.0;3761.;9.5;70;US\n",
      "Buick Estate Wagon (sw);14.0;8;455.0;225.0;3086.;10.0;70;US\n",
      "Toyota Corolla Mark ii;24.0;4;113.0;95.00;2372.;15.0;70;Japan\n",
      "Plymouth Duster;22.0;6;198.0;95.00;2833.;15.5;70;US\n",
      "AMC Hornet;18.0;6;199.0;97.00;2774.;15.5;70;US\n",
      "Ford Maverick;21.0;6;200.0;85.00;2587.;16.0;70;US\n",
      "Datsun PL510;27.0;4;97.00;88.00;2130.;14.5;70;Japan\n",
      "Volkswagen 1131 Deluxe Sedan;26.0;4;97.00;46.00;1835.;20.5;70;Europe\n",
      "Peugeot 504;25.0;4;110.0;87.00;2672.;17.5;70;Europe\n",
      "Audi 100 LS;24.0;4;107.0;90.00;2430.;14.5;70;Europe\n",
      "Saab 99e;25.0;4;104.0;95.00;2375.;17.5;70;Europe\n",
      "BMW 2002;26.0;4;121.0;113.0;2234.;12.5;70;Europe\n",
      "AMC Gremlin;21.0;6;199.0;90.00;2648.;15.0;70;US\n",
      "Ford F250;10.0;8;360.0;215.0;4615.;14.0;70;US\n",
      "Chevy C20;10.0;8;307.0;200.0;4376.;15.0;70;US\n",
      "Dodge D200;11.0;8;318.0;210.0;4382.;13.5;70;US\n",
      "Hi 1200D;9.0;8;304.0;193.0;4732.;18.5;70;US\n",
      "Datsun PL510;27.0;4;97.00;88.00;2130.;14.5;71;Japan\n",
      "Chevrolet Vega 2300;28.0;4;140.0;90.00;2264.;15.5;71;US\n",
      "Toyota Corolla;25.0;4;113.0;95.00;2228.;14.0;71;Japan\n",
      "Ford Pinto;25.0;4;98.00;0;2046.;19.0;71;US\n",
      "Volkswagen Super Beetle 117;0;4;97.00;48.00;1978.;20.0;71;Europe\n",
      "AMC Gremlin;19.0;6;232.0;100.0;2634.;13.0;71;US\n",
      "Plymouth Satellite Custom;16.0;6;225.0;105.0;3439.;15.5;71;US\n",
      "Chevrolet Chevelle Malibu;17.0;6;250.0;100.0;3329.;15.5;71;US\n",
      "Ford Torino 500;19.0;6;250.0;88.00;3302.;15.5;71;US\n",
      "AMC Matador;18.0;6;232.0;100.0;3288.;15.5;71;US\n",
      "Chevrolet Impala;14.0;8;350.0;165.0;4209.;12.0;71;US\n",
      "Pontiac Catalina Brougham;14.0;8;400.0;175.0;4464.;11.5;71;US\n",
      "Ford Galaxie 500;14.0;8;351.0;153.0;4154.;13.5;71;US\n",
      "Plymouth Fury iii;14.0;8;318.0;150.0;4096.;13.0;71;US\n",
      "Dodge Monaco (sw);12.0;8;383.0;180.0;4955.;11.5;71;US\n",
      "Ford Country Squire (sw);13.0;8;400.0;170.0;4746.;12.0;71;US\n",
      "Pontiac Safari (sw);13.0;8;400.0;175.0;5140.;12.0;71;US\n",
      "AMC Hornet Sportabout (sw);18.0;6;258.0;110.0;2962.;13.5;71;US\n",
      "Chevrolet Vega (sw);22.0;4;140.0;72.00;2408.;19.0;71;US\n",
      "Pontiac Firebird;19.0;6;250.0;100.0;3282.;15.0;71;US\n",
      "Ford Mustang;18.0;6;250.0;88.00;3139.;14.5;71;US\n",
      "Mercury Capri 2000;23.0;4;122.0;86.00;2220.;14.0;71;US\n",
      "Opel 1900;28.0;4;116.0;90.00;2123.;14.0;71;Europe\n",
      "Peugeot 304;30.0;4;79.00;70.00;2074.;19.5;71;Europe\n",
      "Fiat 124B;30.0;4;88.00;76.00;2065.;14.5;71;Europe\n",
      "Toyota Corolla 1200;31.0;4;71.00;65.00;1773.;19.0;71;Japan\n",
      "Datsun 1200;35.0;4;72.00;69.00;1613.;18.0;71;Japan\n",
      "Volkswagen Model 111;27.0;4;97.00;60.00;1834.;19.0;71;Europe\n",
      "Plymouth Cricket;26.0;4;91.00;70.00;1955.;20.5;71;US\n",
      "Toyota Corolla Hardtop;24.0;4;113.0;95.00;2278.;15.5;72;Japan\n",
      "Dodge Colt Hardtop;25.0;4;97.50;80.00;2126.;17.0;72;US\n",
      "Volkswagen Type 3;23.0;4;97.00;54.00;2254.;23.5;72;Europe\n",
      "Chevrolet Vega;20.0;4;140.0;90.00;2408.;19.5;72;US\n",
      "Ford Pinto Runabout;21.0;4;122.0;86.00;2226.;16.5;72;US\n",
      "Chevrolet Impala;13.0;8;350.0;165.0;4274.;12.0;72;US\n",
      "Pontiac Catalina;14.0;8;400.0;175.0;4385.;12.0;72;US\n",
      "Plymouth Fury III;15.0;8;318.0;150.0;4135.;13.5;72;US\n",
      "Ford Galaxie 500;14.0;8;351.0;153.0;4129.;13.0;72;US\n",
      "AMC Ambassador SST;17.0;8;304.0;150.0;3672.;11.5;72;US\n",
      "Mercury Marquis;11.0;8;429.0;208.0;4633.;11.0;72;US\n",
      "Buick LeSabre Custom;13.0;8;350.0;155.0;4502.;13.5;72;US\n",
      "Oldsmobile Delta 88 Royale;12.0;8;350.0;160.0;4456.;13.5;72;US\n",
      "Chrysler Newport Royal;13.0;8;400.0;190.0;4422.;12.5;72;US\n",
      "Mazda RX2 Coupe;19.0;3;70.00;97.00;2330.;13.5;72;Japan\n",
      "AMC Matador (sw);15.0;8;304.0;150.0;3892.;12.5;72;US\n",
      "Chevrolet Chevelle Concours (sw);13.0;8;307.0;130.0;4098.;14.0;72;US\n",
      "Ford Gran Torino (sw);13.0;8;302.0;140.0;4294.;16.0;72;US\n",
      "Plymouth Satellite Custom (sw);14.0;8;318.0;150.0;4077.;14.0;72;US\n",
      "Volvo 145e (sw);18.0;4;121.0;112.0;2933.;14.5;72;Europe\n",
      "Volkswagen 411 (sw);22.0;4;121.0;76.00;2511.;18.0;72;Europe\n",
      "Peugeot 504 (sw);21.0;4;120.0;87.00;2979.;19.5;72;Europe\n",
      "Renault 12 (sw);26.0;4;96.00;69.00;2189.;18.0;72;Europe\n",
      "Ford Pinto (sw);22.0;4;122.0;86.00;2395.;16.0;72;US\n",
      "Datsun 510 (sw);28.0;4;97.00;92.00;2288.;17.0;72;Japan\n",
      "Toyota Corolla Mark II (sw);23.0;4;120.0;97.00;2506.;14.5;72;Japan\n",
      "Dodge Colt (sw);28.0;4;98.00;80.00;2164.;15.0;72;US\n",
      "Toyota Corolla 1600 (sw);27.0;4;97.00;88.00;2100.;16.5;72;Japan\n",
      "Buick Century 350;13.0;8;350.0;175.0;4100.;13.0;73;US\n",
      "AMC Matador;14.0;8;304.0;150.0;3672.;11.5;73;US\n",
      "Chevrolet Malibu;13.0;8;350.0;145.0;3988.;13.0;73;US\n",
      "Ford Gran Torino;14.0;8;302.0;137.0;4042.;14.5;73;US\n",
      "Dodge Coronet Custom;15.0;8;318.0;150.0;3777.;12.5;73;US\n",
      "Mercury Marquis Brougham;12.0;8;429.0;198.0;4952.;11.5;73;US\n",
      "Chevrolet Caprice Classic;13.0;8;400.0;150.0;4464.;12.0;73;US\n",
      "Ford LTD;13.0;8;351.0;158.0;4363.;13.0;73;US\n",
      "Plymouth Fury Gran Sedan;14.0;8;318.0;150.0;4237.;14.5;73;US\n",
      "Chrysler New Yorker Brougham;13.0;8;440.0;215.0;4735.;11.0;73;US\n",
      "Buick Electra 225 Custom;12.0;8;455.0;225.0;4951.;11.0;73;US\n",
      "AMC Ambassador Brougham;13.0;8;360.0;175.0;3821.;11.0;73;US\n",
      "Plymouth Valiant;18.0;6;225.0;105.0;3121.;16.5;73;US\n",
      "Chevrolet Nova Custom;16.0;6;250.0;100.0;3278.;18.0;73;US\n",
      "AMC Hornet;18.0;6;232.0;100.0;2945.;16.0;73;US\n",
      "Ford Maverick;18.0;6;250.0;88.00;3021.;16.5;73;US\n",
      "Plymouth Duster;23.0;6;198.0;95.00;2904.;16.0;73;US\n",
      "Volkswagen Super Beetle;26.0;4;97.00;46.00;1950.;21.0;73;Europe\n",
      "Chevrolet Impala;11.0;8;400.0;150.0;4997.;14.0;73;US\n",
      "Ford Country;12.0;8;400.0;167.0;4906.;12.5;73;US\n",
      "Plymouth Custom Suburb;13.0;8;360.0;170.0;4654.;13.0;73;US\n",
      "Oldsmobile Vista Cruiser;12.0;8;350.0;180.0;4499.;12.5;73;US\n",
      "AMC Gremlin;18.0;6;232.0;100.0;2789.;15.0;73;US\n",
      "Toyota Camry;20.0;4;97.00;88.00;2279.;19.0;73;Japan\n",
      "Chevrolet Vega;21.0;4;140.0;72.00;2401.;19.5;73;US\n",
      "Datsun 610;22.0;4;108.0;94.00;2379.;16.5;73;Japan\n",
      "Mazda RX3;18.0;3;70.00;90.00;2124.;13.5;73;Japan\n",
      "Ford Pinto;19.0;4;122.0;85.00;2310.;18.5;73;US\n",
      "Mercury Capri v6;21.0;6;155.0;107.0;2472.;14.0;73;US\n",
      "Fiat 124 Sport Coupe;26.0;4;98.00;90.00;2265.;15.5;73;Europe\n",
      "Chevrolet Monte Carlo S;15.0;8;350.0;145.0;4082.;13.0;73;US\n",
      "Pontiac Grand Prix;16.0;8;400.0;230.0;4278.;9.50;73;US\n",
      "Fiat 128;29.0;4;68.00;49.00;1867.;19.5;73;Europe\n",
      "Opel Manta;24.0;4;116.0;75.00;2158.;15.5;73;Europe\n",
      "Audi 100LS;20.0;4;114.0;91.00;2582.;14.0;73;Europe\n",
      "Volvo 144ea;19.0;4;121.0;112.0;2868.;15.5;73;Europe\n",
      "Dodge Dart Custom;15.0;8;318.0;150.0;3399.;11.0;73;US\n",
      "Saab 99le;24.0;4;121.0;110.0;2660.;14.0;73;Europe\n",
      "Toyota Mark II;20.0;6;156.0;122.0;2807.;13.5;73;Japan\n",
      "Oldsmobile Omega;11.0;8;350.0;180.0;3664.;11.0;73;US\n",
      "Plymouth Duster;20.0;6;198.0;95.00;3102.;16.5;74;US\n",
      "Ford Maverick;21.0;6;200.0;0;2875.;17.0;74;US\n",
      "AMC Hornet;19.0;6;232.0;100.0;2901.;16.0;74;US\n",
      "Chevrolet Nova;15.0;6;250.0;100.0;3336.;17.0;74;US\n",
      "Datsun B210;31.0;4;79.00;67.00;1950.;19.0;74;Japan\n",
      "Ford Pinto;26.0;4;122.0;80.00;2451.;16.5;74;US\n",
      "Toyota Corolla 1200;32.0;4;71.00;65.00;1836.;21.0;74;Japan\n",
      "Chevrolet Vega;25.0;4;140.0;75.00;2542.;17.0;74;US\n",
      "Chevrolet Chevelle Malibu Classic;16.0;6;250.0;100.0;3781.;17.0;74;US\n",
      "AMC Matador;16.0;6;258.0;110.0;3632.;18.0;74;US\n",
      "Plymouth Satellite Sebring;18.0;6;225.0;105.0;3613.;16.5;74;US\n",
      "Ford Gran Torino;16.0;8;302.0;140.0;4141.;14.0;74;US\n",
      "Buick Century Luxus (sw);13.0;8;350.0;150.0;4699.;14.5;74;US\n",
      "Dodge Coronet Custom (sw);14.0;8;318.0;150.0;4457.;13.5;74;US\n",
      "Ford Gran Torino (sw);14.0;8;302.0;140.0;4638.;16.0;74;US\n",
      "AMC Matador (sw);14.0;8;304.0;150.0;4257.;15.5;74;US\n",
      "Audi Fox;29.0;4;98.00;83.00;2219.;16.5;74;Europe\n",
      "Volkswagen Dasher;26.0;4;79.00;67.00;1963.;15.5;74;Europe\n",
      "Opel Manta;26.0;4;97.00;78.00;2300.;14.5;74;Europe\n",
      "Toyota Corolla;31.0;4;76.00;52.00;1649.;16.5;74;Japan\n",
      "Datsun 710;32.0;4;83.00;61.00;2003.;19.0;74;Japan\n",
      "Dodge Colt;28.0;4;90.00;75.00;2125.;14.5;74;US\n",
      "Fiat 128;24.0;4;90.00;75.00;2108.;15.5;74;Europe\n",
      "Fiat 124 TC;26.0;4;116.0;75.00;2246.;14.0;74;Europe\n",
      "Honda Civic;24.0;4;120.0;97.00;2489.;15.0;74;Japan\n",
      "Subaru;26.0;4;108.0;93.00;2391.;15.5;74;Japan\n",
      "Fiat x1.9;31.0;4;79.00;67.00;2000.;16.0;74;Europe\n",
      "Plymouth Valiant Custom;19.0;6;225.0;95.00;3264.;16.0;75;US\n",
      "Chevrolet Nova;18.0;6;250.0;105.0;3459.;16.0;75;US\n",
      "Mercury Monarch;15.0;6;250.0;72.00;3432.;21.0;75;US\n",
      "Ford Maverick;15.0;6;250.0;72.00;3158.;19.5;75;US\n",
      "Pontiac Catalina;16.0;8;400.0;170.0;4668.;11.5;75;US\n",
      "Chevrolet Bel Air;15.0;8;350.0;145.0;4440.;14.0;75;US\n",
      "Plymouth Grand Fury;16.0;8;318.0;150.0;4498.;14.5;75;US\n",
      "Ford LTD;14.0;8;351.0;148.0;4657.;13.5;75;US\n",
      "Buick Century;17.0;6;231.0;110.0;3907.;21.0;75;US\n",
      "Chevrolete Chevelle Malibu;16.0;6;250.0;105.0;3897.;18.5;75;US\n",
      "AMC Matador;15.0;6;258.0;110.0;3730.;19.0;75;US\n",
      "Plymouth Fury;18.0;6;225.0;95.00;3785.;19.0;75;US\n",
      "Buick Skyhawk;21.0;6;231.0;110.0;3039.;15.0;75;US\n",
      "Chevrolet Monza 2+2;20.0;8;262.0;110.0;3221.;13.5;75;US\n",
      "Ford Mustang II;13.0;8;302.0;129.0;3169.;12.0;75;US\n",
      "Toyota Corolla;29.0;4;97.00;75.00;2171.;16.0;75;Japan\n",
      "Ford Pinto;23.0;4;140.0;83.00;2639.;17.0;75;US\n",
      "AMC Gremlin;20.0;6;232.0;100.0;2914.;16.0;75;US\n",
      "Pontiac Astro;23.0;4;140.0;78.00;2592.;18.5;75;US\n",
      "Toyota Corolla;24.0;4;134.0;96.00;2702.;13.5;75;Japan\n",
      "Volkswagen Dasher;25.0;4;90.00;71.00;2223.;16.5;75;Europe\n",
      "Datsun 710;24.0;4;119.0;97.00;2545.;17.0;75;Japan\n",
      "Ford Pinto;18.0;6;171.0;97.00;2984.;14.5;75;US\n",
      "Volkswagen Rabbit;29.0;4;90.00;70.00;1937.;14.0;75;Europe\n",
      "AMC Pacer;19.0;6;232.0;90.00;3211.;17.0;75;US\n",
      "Audi 100LS;23.0;4;115.0;95.00;2694.;15.0;75;Europe\n",
      "Peugeot 504;23.0;4;120.0;88.00;2957.;17.0;75;Europe\n",
      "Volvo 244DL;22.0;4;121.0;98.00;2945.;14.5;75;Europe\n",
      "Saab 99LE;25.0;4;121.0;115.0;2671.;13.5;75;Europe\n",
      "Honda Civic CVCC;33.0;4;91.00;53.00;1795.;17.5;75;Japan\n",
      "Fiat 131;28.0;4;107.0;86.00;2464.;15.5;76;Europe\n",
      "Opel 1900;25.0;4;116.0;81.00;2220.;16.9;76;Europe\n",
      "Capri ii;25.0;4;140.0;92.00;2572.;14.9;76;US\n",
      "Dodge Colt;26.0;4;98.00;79.00;2255.;17.7;76;US\n",
      "Renault 12tl;27.0;4;101.0;83.00;2202.;15.3;76;Europe\n",
      "Chevrolet Chevelle Malibu Classic;17.5;8;305.0;140.0;4215.;13.0;76;US\n",
      "Dodge Coronet Brougham;16.0;8;318.0;150.0;4190.;13.0;76;US\n",
      "AMC Matador;15.5;8;304.0;120.0;3962.;13.9;76;US\n",
      "Ford Gran Torino;14.5;8;351.0;152.0;4215.;12.8;76;US\n",
      "Plymouth Valiant;22.0;6;225.0;100.0;3233.;15.4;76;US\n",
      "Chevrolet Nova;22.0;6;250.0;105.0;3353.;14.5;76;US\n",
      "Ford Maverick;24.0;6;200.0;81.00;3012.;17.6;76;US\n",
      "AMC Hornet;22.5;6;232.0;90.00;3085.;17.6;76;US\n",
      "Chevrolet Chevette;29.0;4;85.00;52.00;2035.;22.2;76;US\n",
      "Chevrolet Woody;24.5;4;98.00;60.00;2164.;22.1;76;US\n",
      "Volkswagen Rabbit;29.0;4;90.00;70.00;1937.;14.2;76;Europe\n",
      "Honda Civic;33.0;4;91.00;53.00;1795.;17.4;76;Japan\n",
      "Dodge Aspen SE;20.0;6;225.0;100.0;3651.;17.7;76;US\n",
      "Ford Grenada ghia;18.0;6;250.0;78.00;3574.;21.0;76;US\n",
      "Pontiac Ventura SJ;18.5;6;250.0;110.0;3645.;16.2;76;US\n",
      "AMC Pacer d/l;17.5;6;258.0;95.00;3193.;17.8;76;US\n",
      "Volkswagen Rabbit;29.5;4;97.00;71.00;1825.;12.2;76;Europe\n",
      "Datsun B-210;32.0;4;85.00;70.00;1990.;17.0;76;Japan\n",
      "Toyota Corolla;28.0;4;97.00;75.00;2155.;16.4;76;Japan\n",
      "Ford Pinto;26.5;4;140.0;72.00;2565.;13.6;76;US\n",
      "Volvo 245;20.0;4;130.0;102.0;3150.;15.7;76;Europe\n",
      "Plymouth Volare Premier v8;13.0;8;318.0;150.0;3940.;13.2;76;US\n",
      "Peugeot 504;19.0;4;120.0;88.00;3270.;21.9;76;Europe\n",
      "Toyota Mark II;19.0;6;156.0;108.0;2930.;15.5;76;Japan\n",
      "Mercedes-Benz 280s;16.5;6;168.0;120.0;3820.;16.7;76;Europe\n",
      "Cadillac Seville;16.5;8;350.0;180.0;4380.;12.1;76;US\n",
      "Chevrolet C10;13.0;8;350.0;145.0;4055.;12.0;76;US\n",
      "Ford F108;13.0;8;302.0;130.0;3870.;15.0;76;US\n",
      "Dodge D100;13.0;8;318.0;150.0;3755.;14.0;76;US\n",
      "Honda Accord CVCC;31.5;4;98.00;68.00;2045.;18.5;77;Japan\n",
      "Buick Opel Isuzu Deluxe;30.0;4;111.0;80.00;2155.;14.8;77;US\n",
      "Renault 5 GTL;36.0;4;79.00;58.00;1825.;18.6;77;Europe\n",
      "Plymouth Arrow GS;25.5;4;122.0;96.00;2300.;15.5;77;US\n",
      "Datsun F-10 Hatchback;33.5;4;85.00;70.00;1945.;16.8;77;Japan\n",
      "Chevrolet Caprice Classic;17.5;8;305.0;145.0;3880.;12.5;77;US\n",
      "Oldsmobile Cutlass Supreme;17.0;8;260.0;110.0;4060.;19.0;77;US\n",
      "Dodge Monaco Brougham;15.5;8;318.0;145.0;4140.;13.7;77;US\n",
      "Mercury Cougar Brougham;15.0;8;302.0;130.0;4295.;14.9;77;US\n",
      "Chevrolet Concours;17.5;6;250.0;110.0;3520.;16.4;77;US\n",
      "Buick Skylark;20.5;6;231.0;105.0;3425.;16.9;77;US\n",
      "Plymouth Volare Custom;19.0;6;225.0;100.0;3630.;17.7;77;US\n",
      "Ford Grenada;18.5;6;250.0;98.00;3525.;19.0;77;US\n",
      "Pontiac Grand Prix LJ;16.0;8;400.0;180.0;4220.;11.1;77;US\n",
      "Chevrolet Monte Carlo Landau;15.5;8;350.0;170.0;4165.;11.4;77;US\n",
      "Chrysler Cordoba;15.5;8;400.0;190.0;4325.;12.2;77;US\n",
      "Ford Thunderbird;16.0;8;351.0;149.0;4335.;14.5;77;US\n",
      "Volkswagen Rabbit Custom;29.0;4;97.00;78.00;1940.;14.5;77;Europe\n",
      "Pontiac Sunbird Coupe;24.5;4;151.0;88.00;2740.;16.0;77;US\n",
      "Toyota Corolla Liftback;26.0;4;97.00;75.00;2265.;18.2;77;Japan\n",
      "Ford Mustang II 2+2;25.5;4;140.0;89.00;2755.;15.8;77;US\n",
      "Chevrolet Chevette;30.5;4;98.00;63.00;2051.;17.0;77;US\n",
      "Dodge Colt m/m;33.5;4;98.00;83.00;2075.;15.9;77;US\n",
      "Subaru DL;30.0;4;97.00;67.00;1985.;16.4;77;Japan\n",
      "Volkswagen Dasher;30.5;4;97.00;78.00;2190.;14.1;77;Europe\n",
      "Datsun 810;22.0;6;146.0;97.00;2815.;14.5;77;Japan\n",
      "BMW 320i;21.5;4;121.0;110.0;2600.;12.8;77;Europe\n",
      "Mazda RX-4;21.5;3;80.00;110.0;2720.;13.5;77;Japan\n",
      "Volkswagen Rabbit Custom Diesel;43.1;4;90.00;48.00;1985.;21.5;78;Europe\n",
      "Ford Fiesta;36.1;4;98.00;66.00;1800.;14.4;78;US\n",
      "Mazda GLC Deluxe;32.8;4;78.00;52.00;1985.;19.4;78;Japan\n",
      "Datsun B210 GX;39.4;4;85.00;70.00;2070.;18.6;78;Japan\n",
      "Honda Civic CVCC;36.1;4;91.00;60.00;1800.;16.4;78;Japan\n",
      "Oldsmobile Cutlass Salon Brougham;19.9;8;260.0;110.0;3365.;15.5;78;US\n",
      "Dodge Diplomat;19.4;8;318.0;140.0;3735.;13.2;78;US\n",
      "Mercury Monarch ghia;20.2;8;302.0;139.0;3570.;12.8;78;US\n",
      "Pontiac Phoenix LJ;19.2;6;231.0;105.0;3535.;19.2;78;US\n",
      "Chevrolet Malibu;20.5;6;200.0;95.00;3155.;18.2;78;US\n",
      "Ford Fairmont (auto);20.2;6;200.0;85.00;2965.;15.8;78;US\n",
      "Ford Fairmont (man);25.1;4;140.0;88.00;2720.;15.4;78;US\n",
      "Plymouth Volare;20.5;6;225.0;100.0;3430.;17.2;78;US\n",
      "AMC Concord;19.4;6;232.0;90.00;3210.;17.2;78;US\n",
      "Buick Century Special;20.6;6;231.0;105.0;3380.;15.8;78;US\n",
      "Mercury Zephyr;20.8;6;200.0;85.00;3070.;16.7;78;US\n",
      "Dodge Aspen;18.6;6;225.0;110.0;3620.;18.7;78;US\n",
      "AMC Concord d/l;18.1;6;258.0;120.0;3410.;15.1;78;US\n",
      "Chevrolet Monte Carlo Landau;19.2;8;305.0;145.0;3425.;13.2;78;US\n",
      "Buick Regal Sport Coupe (turbo);17.7;6;231.0;165.0;3445.;13.4;78;US\n",
      "Ford Futura;18.1;8;302.0;139.0;3205.;11.2;78;US\n",
      "Dodge Magnum XE;17.5;8;318.0;140.0;4080.;13.7;78;US\n",
      "Chevrolet Chevette;30.0;4;98.00;68.00;2155.;16.5;78;US\n",
      "Toyota Corolla;27.5;4;134.0;95.00;2560.;14.2;78;Japan\n",
      "Datsun 510;27.2;4;119.0;97.00;2300.;14.7;78;Japan\n",
      "Dodge Omni;30.9;4;105.0;75.00;2230.;14.5;78;US\n",
      "Toyota Celica GT Liftback;21.1;4;134.0;95.00;2515.;14.8;78;Japan\n",
      "Plymouth Sapporo;23.2;4;156.0;105.0;2745.;16.7;78;US\n",
      "Oldsmobile Starfire SX;23.8;4;151.0;85.00;2855.;17.6;78;US\n",
      "Datsun 200-SX;23.9;4;119.0;97.00;2405.;14.9;78;Japan\n",
      "Audi 5000;20.3;5;131.0;103.0;2830.;15.9;78;Europe\n",
      "Volvo 264gl;17.0;6;163.0;125.0;3140.;13.6;78;Europe\n",
      "Saab 99gle;21.6;4;121.0;115.0;2795.;15.7;78;Europe\n",
      "Peugeot 604sl;16.2;6;163.0;133.0;3410.;15.8;78;Europe\n",
      "Volkswagen Scirocco;31.5;4;89.00;71.00;1990.;14.9;78;Europe\n",
      "Honda Accord LX;29.5;4;98.00;68.00;2135.;16.6;78;Japan\n",
      "Pontiac Lemans V6;21.5;6;231.0;115.0;3245.;15.4;79;US\n",
      "Mercury Zephyr 6;19.8;6;200.0;85.00;2990.;18.2;79;US\n",
      "Ford Fairmont 4;22.3;4;140.0;88.00;2890.;17.3;79;US\n",
      "AMC Concord DL 6;20.2;6;232.0;90.00;3265.;18.2;79;US\n",
      "Dodge Aspen 6;20.6;6;225.0;110.0;3360.;16.6;79;US\n",
      "Chevrolet Caprice Classic;17.0;8;305.0;130.0;3840.;15.4;79;US\n",
      "Ford LTD Landau;17.6;8;302.0;129.0;3725.;13.4;79;US\n",
      "Mercury Grand Marquis;16.5;8;351.0;138.0;3955.;13.2;79;US\n",
      "Dodge St. Regis;18.2;8;318.0;135.0;3830.;15.2;79;US\n",
      "Buick Estate Wagon (sw);16.9;8;350.0;155.0;4360.;14.9;79;US\n",
      "Ford Country Squire (sw);15.5;8;351.0;142.0;4054.;14.3;79;US\n",
      "Chevrolet Malibu Classic (sw);19.2;8;267.0;125.0;3605.;15.0;79;US\n",
      "Chrysler Lebaron Town @ Country (sw);18.5;8;360.0;150.0;3940.;13.0;79;US\n",
      "Volkswagen Rabbit Custom;31.9;4;89.00;71.00;1925.;14.0;79;Europe\n",
      "Mazda GLC Deluxe;34.1;4;86.00;65.00;1975.;15.2;79;Japan\n",
      "Dodge Colt Hatchback Custom;35.7;4;98.00;80.00;1915.;14.4;79;US\n",
      "AMC Spirit DL;27.4;4;121.0;80.00;2670.;15.0;79;US\n",
      "Mercedes Benz 300d;25.4;5;183.0;77.00;3530.;20.1;79;Europe\n",
      "Cadillac Eldorado;23.0;8;350.0;125.0;3900.;17.4;79;US\n",
      "Peugeot 504;27.2;4;141.0;71.00;3190.;24.8;79;Europe\n",
      "Oldsmobile Cutlass Salon Brougham;23.9;8;260.0;90.00;3420.;22.2;79;US\n",
      "Plymouth Horizon;34.2;4;105.0;70.00;2200.;13.2;79;US\n",
      "Plymouth Horizon TC3;34.5;4;105.0;70.00;2150.;14.9;79;US\n",
      "Datsun 210;31.8;4;85.00;65.00;2020.;19.2;79;Japan\n",
      "Fiat Strada Custom;37.3;4;91.00;69.00;2130.;14.7;79;Europe\n",
      "Buick Skylark Limited;28.4;4;151.0;90.00;2670.;16.0;79;US\n",
      "Chevrolet Citation;28.8;6;173.0;115.0;2595.;11.3;79;US\n",
      "Oldsmobile Omega Brougham;26.8;6;173.0;115.0;2700.;12.9;79;US\n",
      "Pontiac Phoenix;33.5;4;151.0;90.00;2556.;13.2;79;US\n",
      "Volkswagen Rabbit;41.5;4;98.00;76.00;2144.;14.7;80;Europe\n",
      "Toyota Corolla Tercel;38.1;4;89.00;60.00;1968.;18.8;80;Japan\n",
      "Chevrolet Chevette;32.1;4;98.00;70.00;2120.;15.5;80;US\n",
      "Datsun 310;37.2;4;86.00;65.00;2019.;16.4;80;Japan\n",
      "Chevrolet Citation;28.0;4;151.0;90.00;2678.;16.5;80;US\n",
      "Ford Fairmont;26.4;4;140.0;88.00;2870.;18.1;80;US\n",
      "AMC Concord;24.3;4;151.0;90.00;3003.;20.1;80;US\n",
      "Dodge Aspen;19.1;6;225.0;90.00;3381.;18.7;80;US\n",
      "Audi 4000;34.3;4;97.00;78.00;2188.;15.8;80;Europe\n",
      "Toyota Corolla Liftback;29.8;4;134.0;90.00;2711.;15.5;80;Japan\n",
      "Mazda 626;31.3;4;120.0;75.00;2542.;17.5;80;Japan\n",
      "Datsun 510 Hatchback;37.0;4;119.0;92.00;2434.;15.0;80;Japan\n",
      "Toyota Corolla;32.2;4;108.0;75.00;2265.;15.2;80;Japan\n",
      "Mazda GLC;46.6;4;86.00;65.00;2110.;17.9;80;Japan\n",
      "Dodge Colt;27.9;4;156.0;105.0;2800.;14.4;80;US\n",
      "Datsun 210;40.8;4;85.00;65.00;2110.;19.2;80;Japan\n",
      "Volkswagen Rabbit C (Diesel);44.3;4;90.00;48.00;2085.;21.7;80;Europe\n",
      "Volkswagen Dasher (diesel);43.4;4;90.00;48.00;2335.;23.7;80;Europe\n",
      "Audi 5000s (diesel);36.4;5;121.0;67.00;2950.;19.9;80;Europe\n",
      "Mercedes-Benz 240d;30.0;4;146.0;67.00;3250.;21.8;80;Europe\n",
      "Honda Civic 1500 gl;44.6;4;91.00;67.00;1850.;13.8;80;Japan\n",
      "Renault Lecar Deluxe;40.9;4;85.00;0;1835.;17.3;80;Europe\n",
      "Subaru DL;33.8;4;97.00;67.00;2145.;18.0;80;Japan\n",
      "Volkswagen Rabbit;29.8;4;89.00;62.00;1845.;15.3;80;Europe\n",
      "Datsun 280-ZX;32.7;6;168.0;132.0;2910.;11.4;80;Japan\n",
      "Mazda RX-7 GS;23.7;3;70.00;100.0;2420.;12.5;80;Japan\n",
      "Triumph TR7 Coupe;35.0;4;122.0;88.00;2500.;15.1;80;Europe\n",
      "Ford Mustang Cobra;23.6;4;140.0;0;2905.;14.3;80;US\n",
      "Honda Accord;32.4;4;107.0;72.00;2290.;17.0;80;Japan\n",
      "Plymouth Reliant;27.2;4;135.0;84.00;2490.;15.7;81;US\n",
      "Buick Skylark;26.6;4;151.0;84.00;2635.;16.4;81;US\n",
      "Dodge Aries Wagon (sw);25.8;4;156.0;92.00;2620.;14.4;81;US\n",
      "Chevrolet Citation;23.5;6;173.0;110.0;2725.;12.6;81;US\n",
      "Plymouth Reliant;30.0;4;135.0;84.00;2385.;12.9;81;US\n",
      "Toyota Starlet;39.1;4;79.00;58.00;1755.;16.9;81;Japan\n",
      "Plymouth Champ;39.0;4;86.00;64.00;1875.;16.4;81;US\n",
      "Honda Civic 1300;35.1;4;81.00;60.00;1760.;16.1;81;Japan\n",
      "Subaru;32.3;4;97.00;67.00;2065.;17.8;81;Japan\n",
      "Datsun 210 MPG;37.0;4;85.00;65.00;1975.;19.4;81;Japan\n",
      "Toyota Tercel;37.7;4;89.00;62.00;2050.;17.3;81;Japan\n",
      "Mazda GLC 4;34.1;4;91.00;68.00;1985.;16.0;81;Japan\n",
      "Plymouth Horizon 4;34.7;4;105.0;63.00;2215.;14.9;81;US\n",
      "Ford Escort 4W;34.4;4;98.00;65.00;2045.;16.2;81;US\n",
      "Ford Escort 2H;29.9;4;98.00;65.00;2380.;20.7;81;US\n",
      "Volkswagen Jetta;33.0;4;105.0;74.00;2190.;14.2;81;Europe\n",
      "Renault 18i;34.5;4;100.0;0;2320.;15.8;81;Europe\n",
      "Honda Prelude;33.7;4;107.0;75.00;2210.;14.4;81;Japan\n",
      "Toyota Corolla;32.4;4;108.0;75.00;2350.;16.8;81;Japan\n",
      "Datsun 200SX;32.9;4;119.0;100.0;2615.;14.8;81;Japan\n",
      "Mazda 626;31.6;4;120.0;74.00;2635.;18.3;81;Japan\n",
      "Peugeot 505s Turbo Diesel;28.1;4;141.0;80.00;3230.;20.4;81;Europe\n",
      "Saab 900s;0;4;121.0;110.0;2800.;15.4;81;Europe\n",
      "Volvo Diesel;30.7;6;145.0;76.00;3160.;19.6;81;Europe\n",
      "Toyota Cressida;25.4;6;168.0;116.0;2900.;12.6;81;Japan\n",
      "Datsun 810 Maxima;24.2;6;146.0;120.0;2930.;13.8;81;Japan\n",
      "Buick Century;22.4;6;231.0;110.0;3415.;15.8;81;US\n",
      "Oldsmobile Cutlass LS;26.6;8;350.0;105.0;3725.;19.0;81;US\n",
      "Ford Grenada gl;20.2;6;200.0;88.00;3060.;17.1;81;US\n",
      "Chrysler Lebaron Salon;17.6;6;225.0;85.00;3465.;16.6;81;US\n",
      "Chevrolet Cavalier;28.0;4;112.0;88.00;2605.;19.6;82;US\n",
      "Chevrolet Cavalier Wagon;27.0;4;112.0;88.00;2640.;18.6;82;US\n",
      "Chevrolet Cavalier 2-door;34.0;4;112.0;88.00;2395.;18.0;82;US\n",
      "Pontiac J2000 SE Hatchback;31.0;4;112.0;85.00;2575.;16.2;82;US\n",
      "Dodge Aries SE;29.0;4;135.0;84.00;2525.;16.0;82;US\n",
      "Pontiac Phoenix;27.0;4;151.0;90.00;2735.;18.0;82;US\n",
      "Ford Fairmont Futura;24.0;4;140.0;92.00;2865.;16.4;82;US\n",
      "AMC Concord DL;23.0;4;151.0;0;3035.;20.5;82;US\n",
      "Volkswagen Rabbit l;36.0;4;105.0;74.00;1980.;15.3;82;Europe\n",
      "Mazda GLC Custom l;37.0;4;91.00;68.00;2025.;18.2;82;Japan\n",
      "Mazda GLC Custom;31.0;4;91.00;68.00;1970.;17.6;82;Japan\n",
      "Plymouth Horizon Miser;38.0;4;105.0;63.00;2125.;14.7;82;US\n",
      "Mercury Lynx l;36.0;4;98.00;70.00;2125.;17.3;82;US\n",
      "Nissan Stanza XE;36.0;4;120.0;88.00;2160.;14.5;82;Japan\n",
      "Honda Accord;36.0;4;107.0;75.00;2205.;14.5;82;Japan\n",
      "Toyota Corolla;34.0;4;108.0;70.00;2245;16.9;82;Japan\n",
      "Honda Civic;38.0;4;91.00;67.00;1965.;15.0;82;Japan\n",
      "Honda Civic (auto);32.0;4;91.00;67.00;1965.;15.7;82;Japan\n",
      "Datsun 310 GX;38.0;4;91.00;67.00;1995.;16.2;82;Japan\n",
      "Buick Century Limited;25.0;6;181.0;110.0;2945.;16.4;82;US\n",
      "Oldsmobile Cutlass Ciera (diesel);38.0;6;262.0;85.00;3015.;17.0;82;US\n",
      "Chrysler Lebaron Medallion;26.0;4;156.0;92.00;2585.;14.5;82;US\n",
      "Ford Grenada l;22.0;6;232.0;112.0;2835;14.7;82;US\n",
      "Toyota Celica GT;32.0;4;144.0;96.00;2665.;13.9;82;Japan\n",
      "Dodge Charger 2.2;36.0;4;135.0;84.00;2370.;13.0;82;US\n",
      "Chevrolet Camaro;27.0;4;151.0;90.00;2950.;17.3;82;US\n",
      "Ford Mustang GL;27.0;4;140.0;86.00;2790.;15.6;82;US\n",
      "Volkswagen Pickup;44.0;4;97.00;52.00;2130.;24.6;82;Europe\n",
      "Dodge Rampage;32.0;4;135.0;84.00;2295.;11.6;82;US\n",
      "Ford Ranger;28.0;4;120.0;79.00;2625.;18.6;82;US\n",
      "Chevy S-10;31.0;4;119.0;82.00;2720.;19.4;82;US\n"
     ]
    }
   ],
   "source": [
    "f = open('cars.csv')\n",
    "for row in f:\n",
    "    print(row, end='')\n",
    "f.close()    "
   ]
  },
  {
   "cell_type": "code",
   "execution_count": 160,
   "metadata": {},
   "outputs": [],
   "source": [
    "def parse_data_row(row):\n",
    "    row = row.strip('\\n').split(';')\n",
    "    return row[0], float(row[1])\n",
    "\n",
    "def max_mpg(data):\n",
    "    # get an iterator for data (which should be an iterable of some kind)\n",
    "    max_mpg = 0\n",
    "    for row in data:\n",
    "        _, mpg = parse_data_row(row)\n",
    "        if mpg > max_mpg:\n",
    "            max_mpg = mpg\n",
    "    return max_mpg"
   ]
  },
  {
   "cell_type": "code",
   "execution_count": 161,
   "metadata": {},
   "outputs": [
    {
     "name": "stdout",
     "output_type": "stream",
     "text": [
      "46.6\n"
     ]
    }
   ],
   "source": [
    "f = open('cars.csv')\n",
    "next(f)\n",
    "next(f)\n",
    "print(max_mpg(f))\n",
    "f.close()"
   ]
  },
  {
   "cell_type": "code",
   "execution_count": 162,
   "metadata": {},
   "outputs": [],
   "source": [
    "def list_data(data, mpg_max):\n",
    "    for row in data:\n",
    "        car, mpg = parse_data_row(row)\n",
    "        mpg_perc = mpg / mpg_max * 100\n",
    "        print(f'{car}: {mpg_perc:.2f}%')"
   ]
  },
  {
   "cell_type": "code",
   "execution_count": 163,
   "metadata": {},
   "outputs": [
    {
     "name": "stdout",
     "output_type": "stream",
     "text": [
      "Chevrolet Chevelle Malibu: 38.63%\n",
      "Buick Skylark 320: 32.19%\n",
      "Plymouth Satellite: 38.63%\n",
      "AMC Rebel SST: 34.33%\n",
      "Ford Torino: 36.48%\n",
      "Ford Galaxie 500: 32.19%\n",
      "Chevrolet Impala: 30.04%\n",
      "Plymouth Fury iii: 30.04%\n",
      "Pontiac Catalina: 30.04%\n",
      "AMC Ambassador DPL: 32.19%\n",
      "Citroen DS-21 Pallas: 0.00%\n",
      "Chevrolet Chevelle Concours (sw): 0.00%\n",
      "Ford Torino (sw): 0.00%\n",
      "Plymouth Satellite (sw): 0.00%\n",
      "AMC Rebel SST (sw): 0.00%\n",
      "Dodge Challenger SE: 32.19%\n",
      "Plymouth 'Cuda 340: 30.04%\n",
      "Ford Mustang Boss 302: 0.00%\n",
      "Chevrolet Monte Carlo: 32.19%\n",
      "Buick Estate Wagon (sw): 30.04%\n",
      "Toyota Corolla Mark ii: 51.50%\n",
      "Plymouth Duster: 47.21%\n",
      "AMC Hornet: 38.63%\n",
      "Ford Maverick: 45.06%\n",
      "Datsun PL510: 57.94%\n",
      "Volkswagen 1131 Deluxe Sedan: 55.79%\n",
      "Peugeot 504: 53.65%\n",
      "Audi 100 LS: 51.50%\n",
      "Saab 99e: 53.65%\n",
      "BMW 2002: 55.79%\n",
      "AMC Gremlin: 45.06%\n",
      "Ford F250: 21.46%\n",
      "Chevy C20: 21.46%\n",
      "Dodge D200: 23.61%\n",
      "Hi 1200D: 19.31%\n",
      "Datsun PL510: 57.94%\n",
      "Chevrolet Vega 2300: 60.09%\n",
      "Toyota Corolla: 53.65%\n",
      "Ford Pinto: 53.65%\n",
      "Volkswagen Super Beetle 117: 0.00%\n",
      "AMC Gremlin: 40.77%\n",
      "Plymouth Satellite Custom: 34.33%\n",
      "Chevrolet Chevelle Malibu: 36.48%\n",
      "Ford Torino 500: 40.77%\n",
      "AMC Matador: 38.63%\n",
      "Chevrolet Impala: 30.04%\n",
      "Pontiac Catalina Brougham: 30.04%\n",
      "Ford Galaxie 500: 30.04%\n",
      "Plymouth Fury iii: 30.04%\n",
      "Dodge Monaco (sw): 25.75%\n",
      "Ford Country Squire (sw): 27.90%\n",
      "Pontiac Safari (sw): 27.90%\n",
      "AMC Hornet Sportabout (sw): 38.63%\n",
      "Chevrolet Vega (sw): 47.21%\n",
      "Pontiac Firebird: 40.77%\n",
      "Ford Mustang: 38.63%\n",
      "Mercury Capri 2000: 49.36%\n",
      "Opel 1900: 60.09%\n",
      "Peugeot 304: 64.38%\n",
      "Fiat 124B: 64.38%\n",
      "Toyota Corolla 1200: 66.52%\n",
      "Datsun 1200: 75.11%\n",
      "Volkswagen Model 111: 57.94%\n",
      "Plymouth Cricket: 55.79%\n",
      "Toyota Corolla Hardtop: 51.50%\n",
      "Dodge Colt Hardtop: 53.65%\n",
      "Volkswagen Type 3: 49.36%\n",
      "Chevrolet Vega: 42.92%\n",
      "Ford Pinto Runabout: 45.06%\n",
      "Chevrolet Impala: 27.90%\n",
      "Pontiac Catalina: 30.04%\n",
      "Plymouth Fury III: 32.19%\n",
      "Ford Galaxie 500: 30.04%\n",
      "AMC Ambassador SST: 36.48%\n",
      "Mercury Marquis: 23.61%\n",
      "Buick LeSabre Custom: 27.90%\n",
      "Oldsmobile Delta 88 Royale: 25.75%\n",
      "Chrysler Newport Royal: 27.90%\n",
      "Mazda RX2 Coupe: 40.77%\n",
      "AMC Matador (sw): 32.19%\n",
      "Chevrolet Chevelle Concours (sw): 27.90%\n",
      "Ford Gran Torino (sw): 27.90%\n",
      "Plymouth Satellite Custom (sw): 30.04%\n",
      "Volvo 145e (sw): 38.63%\n",
      "Volkswagen 411 (sw): 47.21%\n",
      "Peugeot 504 (sw): 45.06%\n",
      "Renault 12 (sw): 55.79%\n",
      "Ford Pinto (sw): 47.21%\n",
      "Datsun 510 (sw): 60.09%\n",
      "Toyota Corolla Mark II (sw): 49.36%\n",
      "Dodge Colt (sw): 60.09%\n",
      "Toyota Corolla 1600 (sw): 57.94%\n",
      "Buick Century 350: 27.90%\n",
      "AMC Matador: 30.04%\n",
      "Chevrolet Malibu: 27.90%\n",
      "Ford Gran Torino: 30.04%\n",
      "Dodge Coronet Custom: 32.19%\n",
      "Mercury Marquis Brougham: 25.75%\n",
      "Chevrolet Caprice Classic: 27.90%\n",
      "Ford LTD: 27.90%\n",
      "Plymouth Fury Gran Sedan: 30.04%\n",
      "Chrysler New Yorker Brougham: 27.90%\n",
      "Buick Electra 225 Custom: 25.75%\n",
      "AMC Ambassador Brougham: 27.90%\n",
      "Plymouth Valiant: 38.63%\n",
      "Chevrolet Nova Custom: 34.33%\n",
      "AMC Hornet: 38.63%\n",
      "Ford Maverick: 38.63%\n",
      "Plymouth Duster: 49.36%\n",
      "Volkswagen Super Beetle: 55.79%\n",
      "Chevrolet Impala: 23.61%\n",
      "Ford Country: 25.75%\n",
      "Plymouth Custom Suburb: 27.90%\n",
      "Oldsmobile Vista Cruiser: 25.75%\n",
      "AMC Gremlin: 38.63%\n",
      "Toyota Camry: 42.92%\n",
      "Chevrolet Vega: 45.06%\n",
      "Datsun 610: 47.21%\n",
      "Mazda RX3: 38.63%\n",
      "Ford Pinto: 40.77%\n",
      "Mercury Capri v6: 45.06%\n",
      "Fiat 124 Sport Coupe: 55.79%\n",
      "Chevrolet Monte Carlo S: 32.19%\n",
      "Pontiac Grand Prix: 34.33%\n",
      "Fiat 128: 62.23%\n",
      "Opel Manta: 51.50%\n",
      "Audi 100LS: 42.92%\n",
      "Volvo 144ea: 40.77%\n",
      "Dodge Dart Custom: 32.19%\n",
      "Saab 99le: 51.50%\n",
      "Toyota Mark II: 42.92%\n",
      "Oldsmobile Omega: 23.61%\n",
      "Plymouth Duster: 42.92%\n",
      "Ford Maverick: 45.06%\n",
      "AMC Hornet: 40.77%\n",
      "Chevrolet Nova: 32.19%\n",
      "Datsun B210: 66.52%\n",
      "Ford Pinto: 55.79%\n",
      "Toyota Corolla 1200: 68.67%\n",
      "Chevrolet Vega: 53.65%\n",
      "Chevrolet Chevelle Malibu Classic: 34.33%\n",
      "AMC Matador: 34.33%\n",
      "Plymouth Satellite Sebring: 38.63%\n",
      "Ford Gran Torino: 34.33%\n",
      "Buick Century Luxus (sw): 27.90%\n",
      "Dodge Coronet Custom (sw): 30.04%\n",
      "Ford Gran Torino (sw): 30.04%\n",
      "AMC Matador (sw): 30.04%\n",
      "Audi Fox: 62.23%\n",
      "Volkswagen Dasher: 55.79%\n",
      "Opel Manta: 55.79%\n",
      "Toyota Corolla: 66.52%\n",
      "Datsun 710: 68.67%\n",
      "Dodge Colt: 60.09%\n",
      "Fiat 128: 51.50%\n",
      "Fiat 124 TC: 55.79%\n",
      "Honda Civic: 51.50%\n",
      "Subaru: 55.79%\n",
      "Fiat x1.9: 66.52%\n",
      "Plymouth Valiant Custom: 40.77%\n",
      "Chevrolet Nova: 38.63%\n",
      "Mercury Monarch: 32.19%\n",
      "Ford Maverick: 32.19%\n",
      "Pontiac Catalina: 34.33%\n",
      "Chevrolet Bel Air: 32.19%\n",
      "Plymouth Grand Fury: 34.33%\n",
      "Ford LTD: 30.04%\n",
      "Buick Century: 36.48%\n",
      "Chevrolete Chevelle Malibu: 34.33%\n",
      "AMC Matador: 32.19%\n",
      "Plymouth Fury: 38.63%\n",
      "Buick Skyhawk: 45.06%\n",
      "Chevrolet Monza 2+2: 42.92%\n",
      "Ford Mustang II: 27.90%\n",
      "Toyota Corolla: 62.23%\n",
      "Ford Pinto: 49.36%\n",
      "AMC Gremlin: 42.92%\n",
      "Pontiac Astro: 49.36%\n",
      "Toyota Corolla: 51.50%\n",
      "Volkswagen Dasher: 53.65%\n",
      "Datsun 710: 51.50%\n",
      "Ford Pinto: 38.63%\n",
      "Volkswagen Rabbit: 62.23%\n",
      "AMC Pacer: 40.77%\n",
      "Audi 100LS: 49.36%\n",
      "Peugeot 504: 49.36%\n",
      "Volvo 244DL: 47.21%\n",
      "Saab 99LE: 53.65%\n",
      "Honda Civic CVCC: 70.82%\n",
      "Fiat 131: 60.09%\n",
      "Opel 1900: 53.65%\n",
      "Capri ii: 53.65%\n",
      "Dodge Colt: 55.79%\n",
      "Renault 12tl: 57.94%\n",
      "Chevrolet Chevelle Malibu Classic: 37.55%\n",
      "Dodge Coronet Brougham: 34.33%\n",
      "AMC Matador: 33.26%\n",
      "Ford Gran Torino: 31.12%\n",
      "Plymouth Valiant: 47.21%\n",
      "Chevrolet Nova: 47.21%\n",
      "Ford Maverick: 51.50%\n",
      "AMC Hornet: 48.28%\n",
      "Chevrolet Chevette: 62.23%\n",
      "Chevrolet Woody: 52.58%\n",
      "Volkswagen Rabbit: 62.23%\n",
      "Honda Civic: 70.82%\n",
      "Dodge Aspen SE: 42.92%\n",
      "Ford Grenada ghia: 38.63%\n",
      "Pontiac Ventura SJ: 39.70%\n",
      "AMC Pacer d/l: 37.55%\n",
      "Volkswagen Rabbit: 63.30%\n",
      "Datsun B-210: 68.67%\n",
      "Toyota Corolla: 60.09%\n",
      "Ford Pinto: 56.87%\n",
      "Volvo 245: 42.92%\n",
      "Plymouth Volare Premier v8: 27.90%\n",
      "Peugeot 504: 40.77%\n",
      "Toyota Mark II: 40.77%\n",
      "Mercedes-Benz 280s: 35.41%\n",
      "Cadillac Seville: 35.41%\n",
      "Chevrolet C10: 27.90%\n",
      "Ford F108: 27.90%\n",
      "Dodge D100: 27.90%\n",
      "Honda Accord CVCC: 67.60%\n",
      "Buick Opel Isuzu Deluxe: 64.38%\n",
      "Renault 5 GTL: 77.25%\n",
      "Plymouth Arrow GS: 54.72%\n",
      "Datsun F-10 Hatchback: 71.89%\n",
      "Chevrolet Caprice Classic: 37.55%\n",
      "Oldsmobile Cutlass Supreme: 36.48%\n",
      "Dodge Monaco Brougham: 33.26%\n",
      "Mercury Cougar Brougham: 32.19%\n",
      "Chevrolet Concours: 37.55%\n",
      "Buick Skylark: 43.99%\n",
      "Plymouth Volare Custom: 40.77%\n",
      "Ford Grenada: 39.70%\n",
      "Pontiac Grand Prix LJ: 34.33%\n",
      "Chevrolet Monte Carlo Landau: 33.26%\n",
      "Chrysler Cordoba: 33.26%\n",
      "Ford Thunderbird: 34.33%\n",
      "Volkswagen Rabbit Custom: 62.23%\n",
      "Pontiac Sunbird Coupe: 52.58%\n",
      "Toyota Corolla Liftback: 55.79%\n",
      "Ford Mustang II 2+2: 54.72%\n",
      "Chevrolet Chevette: 65.45%\n",
      "Dodge Colt m/m: 71.89%\n",
      "Subaru DL: 64.38%\n",
      "Volkswagen Dasher: 65.45%\n",
      "Datsun 810: 47.21%\n",
      "BMW 320i: 46.14%\n",
      "Mazda RX-4: 46.14%\n",
      "Volkswagen Rabbit Custom Diesel: 92.49%\n",
      "Ford Fiesta: 77.47%\n",
      "Mazda GLC Deluxe: 70.39%\n",
      "Datsun B210 GX: 84.55%\n",
      "Honda Civic CVCC: 77.47%\n",
      "Oldsmobile Cutlass Salon Brougham: 42.70%\n",
      "Dodge Diplomat: 41.63%\n",
      "Mercury Monarch ghia: 43.35%\n",
      "Pontiac Phoenix LJ: 41.20%\n",
      "Chevrolet Malibu: 43.99%\n",
      "Ford Fairmont (auto): 43.35%\n",
      "Ford Fairmont (man): 53.86%\n",
      "Plymouth Volare: 43.99%\n",
      "AMC Concord: 41.63%\n",
      "Buick Century Special: 44.21%\n",
      "Mercury Zephyr: 44.64%\n",
      "Dodge Aspen: 39.91%\n",
      "AMC Concord d/l: 38.84%\n",
      "Chevrolet Monte Carlo Landau: 41.20%\n",
      "Buick Regal Sport Coupe (turbo): 37.98%\n",
      "Ford Futura: 38.84%\n",
      "Dodge Magnum XE: 37.55%\n",
      "Chevrolet Chevette: 64.38%\n",
      "Toyota Corolla: 59.01%\n",
      "Datsun 510: 58.37%\n",
      "Dodge Omni: 66.31%\n",
      "Toyota Celica GT Liftback: 45.28%\n",
      "Plymouth Sapporo: 49.79%\n",
      "Oldsmobile Starfire SX: 51.07%\n",
      "Datsun 200-SX: 51.29%\n",
      "Audi 5000: 43.56%\n",
      "Volvo 264gl: 36.48%\n",
      "Saab 99gle: 46.35%\n",
      "Peugeot 604sl: 34.76%\n",
      "Volkswagen Scirocco: 67.60%\n",
      "Honda Accord LX: 63.30%\n",
      "Pontiac Lemans V6: 46.14%\n",
      "Mercury Zephyr 6: 42.49%\n",
      "Ford Fairmont 4: 47.85%\n",
      "AMC Concord DL 6: 43.35%\n",
      "Dodge Aspen 6: 44.21%\n",
      "Chevrolet Caprice Classic: 36.48%\n",
      "Ford LTD Landau: 37.77%\n",
      "Mercury Grand Marquis: 35.41%\n",
      "Dodge St. Regis: 39.06%\n",
      "Buick Estate Wagon (sw): 36.27%\n",
      "Ford Country Squire (sw): 33.26%\n",
      "Chevrolet Malibu Classic (sw): 41.20%\n",
      "Chrysler Lebaron Town @ Country (sw): 39.70%\n",
      "Volkswagen Rabbit Custom: 68.45%\n",
      "Mazda GLC Deluxe: 73.18%\n",
      "Dodge Colt Hatchback Custom: 76.61%\n",
      "AMC Spirit DL: 58.80%\n",
      "Mercedes Benz 300d: 54.51%\n",
      "Cadillac Eldorado: 49.36%\n",
      "Peugeot 504: 58.37%\n",
      "Oldsmobile Cutlass Salon Brougham: 51.29%\n",
      "Plymouth Horizon: 73.39%\n",
      "Plymouth Horizon TC3: 74.03%\n",
      "Datsun 210: 68.24%\n",
      "Fiat Strada Custom: 80.04%\n",
      "Buick Skylark Limited: 60.94%\n",
      "Chevrolet Citation: 61.80%\n",
      "Oldsmobile Omega Brougham: 57.51%\n",
      "Pontiac Phoenix: 71.89%\n",
      "Volkswagen Rabbit: 89.06%\n",
      "Toyota Corolla Tercel: 81.76%\n",
      "Chevrolet Chevette: 68.88%\n",
      "Datsun 310: 79.83%\n",
      "Chevrolet Citation: 60.09%\n",
      "Ford Fairmont: 56.65%\n",
      "AMC Concord: 52.15%\n",
      "Dodge Aspen: 40.99%\n",
      "Audi 4000: 73.61%\n",
      "Toyota Corolla Liftback: 63.95%\n",
      "Mazda 626: 67.17%\n",
      "Datsun 510 Hatchback: 79.40%\n",
      "Toyota Corolla: 69.10%\n",
      "Mazda GLC: 100.00%\n",
      "Dodge Colt: 59.87%\n",
      "Datsun 210: 87.55%\n",
      "Volkswagen Rabbit C (Diesel): 95.06%\n",
      "Volkswagen Dasher (diesel): 93.13%\n",
      "Audi 5000s (diesel): 78.11%\n",
      "Mercedes-Benz 240d: 64.38%\n",
      "Honda Civic 1500 gl: 95.71%\n",
      "Renault Lecar Deluxe: 87.77%\n",
      "Subaru DL: 72.53%\n",
      "Volkswagen Rabbit: 63.95%\n",
      "Datsun 280-ZX: 70.17%\n",
      "Mazda RX-7 GS: 50.86%\n",
      "Triumph TR7 Coupe: 75.11%\n",
      "Ford Mustang Cobra: 50.64%\n",
      "Honda Accord: 69.53%\n",
      "Plymouth Reliant: 58.37%\n",
      "Buick Skylark: 57.08%\n",
      "Dodge Aries Wagon (sw): 55.36%\n",
      "Chevrolet Citation: 50.43%\n",
      "Plymouth Reliant: 64.38%\n",
      "Toyota Starlet: 83.91%\n",
      "Plymouth Champ: 83.69%\n",
      "Honda Civic 1300: 75.32%\n",
      "Subaru: 69.31%\n",
      "Datsun 210 MPG: 79.40%\n",
      "Toyota Tercel: 80.90%\n",
      "Mazda GLC 4: 73.18%\n",
      "Plymouth Horizon 4: 74.46%\n",
      "Ford Escort 4W: 73.82%\n",
      "Ford Escort 2H: 64.16%\n",
      "Volkswagen Jetta: 70.82%\n",
      "Renault 18i: 74.03%\n",
      "Honda Prelude: 72.32%\n",
      "Toyota Corolla: 69.53%\n",
      "Datsun 200SX: 70.60%\n",
      "Mazda 626: 67.81%\n",
      "Peugeot 505s Turbo Diesel: 60.30%\n",
      "Saab 900s: 0.00%\n",
      "Volvo Diesel: 65.88%\n",
      "Toyota Cressida: 54.51%\n",
      "Datsun 810 Maxima: 51.93%\n",
      "Buick Century: 48.07%\n",
      "Oldsmobile Cutlass LS: 57.08%\n",
      "Ford Grenada gl: 43.35%\n",
      "Chrysler Lebaron Salon: 37.77%\n",
      "Chevrolet Cavalier: 60.09%\n",
      "Chevrolet Cavalier Wagon: 57.94%\n",
      "Chevrolet Cavalier 2-door: 72.96%\n",
      "Pontiac J2000 SE Hatchback: 66.52%\n",
      "Dodge Aries SE: 62.23%\n",
      "Pontiac Phoenix: 57.94%\n",
      "Ford Fairmont Futura: 51.50%\n",
      "AMC Concord DL: 49.36%\n",
      "Volkswagen Rabbit l: 77.25%\n",
      "Mazda GLC Custom l: 79.40%\n",
      "Mazda GLC Custom: 66.52%\n",
      "Plymouth Horizon Miser: 81.55%\n",
      "Mercury Lynx l: 77.25%\n",
      "Nissan Stanza XE: 77.25%\n",
      "Honda Accord: 77.25%\n",
      "Toyota Corolla: 72.96%\n",
      "Honda Civic: 81.55%\n",
      "Honda Civic (auto): 68.67%\n",
      "Datsun 310 GX: 81.55%\n",
      "Buick Century Limited: 53.65%\n",
      "Oldsmobile Cutlass Ciera (diesel): 81.55%\n",
      "Chrysler Lebaron Medallion: 55.79%\n",
      "Ford Grenada l: 47.21%\n",
      "Toyota Celica GT: 68.67%\n",
      "Dodge Charger 2.2: 77.25%\n",
      "Chevrolet Camaro: 57.94%\n",
      "Ford Mustang GL: 57.94%\n",
      "Volkswagen Pickup: 94.42%\n",
      "Dodge Rampage: 68.67%\n",
      "Ford Ranger: 60.09%\n",
      "Chevy S-10: 66.52%\n"
     ]
    }
   ],
   "source": [
    "f = open('cars.csv')\n",
    "next(f), next(f)\n",
    "list_data(f, 46.6)\n",
    "f.close()"
   ]
  },
  {
   "cell_type": "code",
   "execution_count": 164,
   "metadata": {},
   "outputs": [
    {
     "name": "stdout",
     "output_type": "stream",
     "text": [
      "max=46.6\n"
     ]
    }
   ],
   "source": [
    "with open('cars.csv') as f:\n",
    "    next(f)\n",
    "    next(f)\n",
    "    max_ = max_mpg(f)\n",
    "    print(f'max={max_}')\n",
    "    list_data(f, max_)"
   ]
  },
  {
   "cell_type": "code",
   "execution_count": 165,
   "metadata": {},
   "outputs": [
    {
     "name": "stdout",
     "output_type": "stream",
     "text": [
      "Chevrolet Chevelle Malibu: 38.63%\n",
      "Buick Skylark 320: 32.19%\n",
      "Plymouth Satellite: 38.63%\n",
      "AMC Rebel SST: 34.33%\n",
      "Ford Torino: 36.48%\n",
      "Ford Galaxie 500: 32.19%\n",
      "Chevrolet Impala: 30.04%\n",
      "Plymouth Fury iii: 30.04%\n",
      "Pontiac Catalina: 30.04%\n",
      "AMC Ambassador DPL: 32.19%\n",
      "Citroen DS-21 Pallas: 0.00%\n",
      "Chevrolet Chevelle Concours (sw): 0.00%\n",
      "Ford Torino (sw): 0.00%\n",
      "Plymouth Satellite (sw): 0.00%\n",
      "AMC Rebel SST (sw): 0.00%\n",
      "Dodge Challenger SE: 32.19%\n",
      "Plymouth 'Cuda 340: 30.04%\n",
      "Ford Mustang Boss 302: 0.00%\n",
      "Chevrolet Monte Carlo: 32.19%\n",
      "Buick Estate Wagon (sw): 30.04%\n",
      "Toyota Corolla Mark ii: 51.50%\n",
      "Plymouth Duster: 47.21%\n",
      "AMC Hornet: 38.63%\n",
      "Ford Maverick: 45.06%\n",
      "Datsun PL510: 57.94%\n",
      "Volkswagen 1131 Deluxe Sedan: 55.79%\n",
      "Peugeot 504: 53.65%\n",
      "Audi 100 LS: 51.50%\n",
      "Saab 99e: 53.65%\n",
      "BMW 2002: 55.79%\n",
      "AMC Gremlin: 45.06%\n",
      "Ford F250: 21.46%\n",
      "Chevy C20: 21.46%\n",
      "Dodge D200: 23.61%\n",
      "Hi 1200D: 19.31%\n",
      "Datsun PL510: 57.94%\n",
      "Chevrolet Vega 2300: 60.09%\n",
      "Toyota Corolla: 53.65%\n",
      "Ford Pinto: 53.65%\n",
      "Volkswagen Super Beetle 117: 0.00%\n",
      "AMC Gremlin: 40.77%\n",
      "Plymouth Satellite Custom: 34.33%\n",
      "Chevrolet Chevelle Malibu: 36.48%\n",
      "Ford Torino 500: 40.77%\n",
      "AMC Matador: 38.63%\n",
      "Chevrolet Impala: 30.04%\n",
      "Pontiac Catalina Brougham: 30.04%\n",
      "Ford Galaxie 500: 30.04%\n",
      "Plymouth Fury iii: 30.04%\n",
      "Dodge Monaco (sw): 25.75%\n",
      "Ford Country Squire (sw): 27.90%\n",
      "Pontiac Safari (sw): 27.90%\n",
      "AMC Hornet Sportabout (sw): 38.63%\n",
      "Chevrolet Vega (sw): 47.21%\n",
      "Pontiac Firebird: 40.77%\n",
      "Ford Mustang: 38.63%\n",
      "Mercury Capri 2000: 49.36%\n",
      "Opel 1900: 60.09%\n",
      "Peugeot 304: 64.38%\n",
      "Fiat 124B: 64.38%\n",
      "Toyota Corolla 1200: 66.52%\n",
      "Datsun 1200: 75.11%\n",
      "Volkswagen Model 111: 57.94%\n",
      "Plymouth Cricket: 55.79%\n",
      "Toyota Corolla Hardtop: 51.50%\n",
      "Dodge Colt Hardtop: 53.65%\n",
      "Volkswagen Type 3: 49.36%\n",
      "Chevrolet Vega: 42.92%\n",
      "Ford Pinto Runabout: 45.06%\n",
      "Chevrolet Impala: 27.90%\n",
      "Pontiac Catalina: 30.04%\n",
      "Plymouth Fury III: 32.19%\n",
      "Ford Galaxie 500: 30.04%\n",
      "AMC Ambassador SST: 36.48%\n",
      "Mercury Marquis: 23.61%\n",
      "Buick LeSabre Custom: 27.90%\n",
      "Oldsmobile Delta 88 Royale: 25.75%\n",
      "Chrysler Newport Royal: 27.90%\n",
      "Mazda RX2 Coupe: 40.77%\n",
      "AMC Matador (sw): 32.19%\n",
      "Chevrolet Chevelle Concours (sw): 27.90%\n",
      "Ford Gran Torino (sw): 27.90%\n",
      "Plymouth Satellite Custom (sw): 30.04%\n",
      "Volvo 145e (sw): 38.63%\n",
      "Volkswagen 411 (sw): 47.21%\n",
      "Peugeot 504 (sw): 45.06%\n",
      "Renault 12 (sw): 55.79%\n",
      "Ford Pinto (sw): 47.21%\n",
      "Datsun 510 (sw): 60.09%\n",
      "Toyota Corolla Mark II (sw): 49.36%\n",
      "Dodge Colt (sw): 60.09%\n",
      "Toyota Corolla 1600 (sw): 57.94%\n",
      "Buick Century 350: 27.90%\n",
      "AMC Matador: 30.04%\n",
      "Chevrolet Malibu: 27.90%\n",
      "Ford Gran Torino: 30.04%\n",
      "Dodge Coronet Custom: 32.19%\n",
      "Mercury Marquis Brougham: 25.75%\n",
      "Chevrolet Caprice Classic: 27.90%\n",
      "Ford LTD: 27.90%\n",
      "Plymouth Fury Gran Sedan: 30.04%\n",
      "Chrysler New Yorker Brougham: 27.90%\n",
      "Buick Electra 225 Custom: 25.75%\n",
      "AMC Ambassador Brougham: 27.90%\n",
      "Plymouth Valiant: 38.63%\n",
      "Chevrolet Nova Custom: 34.33%\n",
      "AMC Hornet: 38.63%\n",
      "Ford Maverick: 38.63%\n",
      "Plymouth Duster: 49.36%\n",
      "Volkswagen Super Beetle: 55.79%\n",
      "Chevrolet Impala: 23.61%\n",
      "Ford Country: 25.75%\n",
      "Plymouth Custom Suburb: 27.90%\n",
      "Oldsmobile Vista Cruiser: 25.75%\n",
      "AMC Gremlin: 38.63%\n",
      "Toyota Camry: 42.92%\n",
      "Chevrolet Vega: 45.06%\n",
      "Datsun 610: 47.21%\n",
      "Mazda RX3: 38.63%\n",
      "Ford Pinto: 40.77%\n",
      "Mercury Capri v6: 45.06%\n",
      "Fiat 124 Sport Coupe: 55.79%\n",
      "Chevrolet Monte Carlo S: 32.19%\n",
      "Pontiac Grand Prix: 34.33%\n",
      "Fiat 128: 62.23%\n",
      "Opel Manta: 51.50%\n",
      "Audi 100LS: 42.92%\n",
      "Volvo 144ea: 40.77%\n",
      "Dodge Dart Custom: 32.19%\n",
      "Saab 99le: 51.50%\n",
      "Toyota Mark II: 42.92%\n",
      "Oldsmobile Omega: 23.61%\n",
      "Plymouth Duster: 42.92%\n",
      "Ford Maverick: 45.06%\n",
      "AMC Hornet: 40.77%\n",
      "Chevrolet Nova: 32.19%\n",
      "Datsun B210: 66.52%\n",
      "Ford Pinto: 55.79%\n",
      "Toyota Corolla 1200: 68.67%\n",
      "Chevrolet Vega: 53.65%\n",
      "Chevrolet Chevelle Malibu Classic: 34.33%\n",
      "AMC Matador: 34.33%\n",
      "Plymouth Satellite Sebring: 38.63%\n",
      "Ford Gran Torino: 34.33%\n",
      "Buick Century Luxus (sw): 27.90%\n",
      "Dodge Coronet Custom (sw): 30.04%\n",
      "Ford Gran Torino (sw): 30.04%\n",
      "AMC Matador (sw): 30.04%\n",
      "Audi Fox: 62.23%\n",
      "Volkswagen Dasher: 55.79%\n",
      "Opel Manta: 55.79%\n",
      "Toyota Corolla: 66.52%\n",
      "Datsun 710: 68.67%\n",
      "Dodge Colt: 60.09%\n",
      "Fiat 128: 51.50%\n",
      "Fiat 124 TC: 55.79%\n",
      "Honda Civic: 51.50%\n",
      "Subaru: 55.79%\n",
      "Fiat x1.9: 66.52%\n",
      "Plymouth Valiant Custom: 40.77%\n",
      "Chevrolet Nova: 38.63%\n",
      "Mercury Monarch: 32.19%\n",
      "Ford Maverick: 32.19%\n",
      "Pontiac Catalina: 34.33%\n",
      "Chevrolet Bel Air: 32.19%\n",
      "Plymouth Grand Fury: 34.33%\n",
      "Ford LTD: 30.04%\n",
      "Buick Century: 36.48%\n",
      "Chevrolete Chevelle Malibu: 34.33%\n",
      "AMC Matador: 32.19%\n",
      "Plymouth Fury: 38.63%\n",
      "Buick Skyhawk: 45.06%\n",
      "Chevrolet Monza 2+2: 42.92%\n",
      "Ford Mustang II: 27.90%\n",
      "Toyota Corolla: 62.23%\n",
      "Ford Pinto: 49.36%\n",
      "AMC Gremlin: 42.92%\n",
      "Pontiac Astro: 49.36%\n",
      "Toyota Corolla: 51.50%\n",
      "Volkswagen Dasher: 53.65%\n",
      "Datsun 710: 51.50%\n",
      "Ford Pinto: 38.63%\n",
      "Volkswagen Rabbit: 62.23%\n",
      "AMC Pacer: 40.77%\n",
      "Audi 100LS: 49.36%\n",
      "Peugeot 504: 49.36%\n",
      "Volvo 244DL: 47.21%\n",
      "Saab 99LE: 53.65%\n",
      "Honda Civic CVCC: 70.82%\n",
      "Fiat 131: 60.09%\n",
      "Opel 1900: 53.65%\n",
      "Capri ii: 53.65%\n",
      "Dodge Colt: 55.79%\n",
      "Renault 12tl: 57.94%\n",
      "Chevrolet Chevelle Malibu Classic: 37.55%\n",
      "Dodge Coronet Brougham: 34.33%\n",
      "AMC Matador: 33.26%\n",
      "Ford Gran Torino: 31.12%\n",
      "Plymouth Valiant: 47.21%\n",
      "Chevrolet Nova: 47.21%\n",
      "Ford Maverick: 51.50%\n",
      "AMC Hornet: 48.28%\n",
      "Chevrolet Chevette: 62.23%\n",
      "Chevrolet Woody: 52.58%\n",
      "Volkswagen Rabbit: 62.23%\n",
      "Honda Civic: 70.82%\n",
      "Dodge Aspen SE: 42.92%\n",
      "Ford Grenada ghia: 38.63%\n",
      "Pontiac Ventura SJ: 39.70%\n",
      "AMC Pacer d/l: 37.55%\n",
      "Volkswagen Rabbit: 63.30%\n",
      "Datsun B-210: 68.67%\n",
      "Toyota Corolla: 60.09%\n",
      "Ford Pinto: 56.87%\n",
      "Volvo 245: 42.92%\n",
      "Plymouth Volare Premier v8: 27.90%\n",
      "Peugeot 504: 40.77%\n",
      "Toyota Mark II: 40.77%\n",
      "Mercedes-Benz 280s: 35.41%\n",
      "Cadillac Seville: 35.41%\n",
      "Chevrolet C10: 27.90%\n",
      "Ford F108: 27.90%\n",
      "Dodge D100: 27.90%\n",
      "Honda Accord CVCC: 67.60%\n",
      "Buick Opel Isuzu Deluxe: 64.38%\n",
      "Renault 5 GTL: 77.25%\n",
      "Plymouth Arrow GS: 54.72%\n",
      "Datsun F-10 Hatchback: 71.89%\n",
      "Chevrolet Caprice Classic: 37.55%\n",
      "Oldsmobile Cutlass Supreme: 36.48%\n",
      "Dodge Monaco Brougham: 33.26%\n",
      "Mercury Cougar Brougham: 32.19%\n",
      "Chevrolet Concours: 37.55%\n",
      "Buick Skylark: 43.99%\n",
      "Plymouth Volare Custom: 40.77%\n",
      "Ford Grenada: 39.70%\n",
      "Pontiac Grand Prix LJ: 34.33%\n",
      "Chevrolet Monte Carlo Landau: 33.26%\n",
      "Chrysler Cordoba: 33.26%\n",
      "Ford Thunderbird: 34.33%\n",
      "Volkswagen Rabbit Custom: 62.23%\n",
      "Pontiac Sunbird Coupe: 52.58%\n",
      "Toyota Corolla Liftback: 55.79%\n",
      "Ford Mustang II 2+2: 54.72%\n",
      "Chevrolet Chevette: 65.45%\n",
      "Dodge Colt m/m: 71.89%\n",
      "Subaru DL: 64.38%\n",
      "Volkswagen Dasher: 65.45%\n",
      "Datsun 810: 47.21%\n",
      "BMW 320i: 46.14%\n",
      "Mazda RX-4: 46.14%\n",
      "Volkswagen Rabbit Custom Diesel: 92.49%\n",
      "Ford Fiesta: 77.47%\n",
      "Mazda GLC Deluxe: 70.39%\n",
      "Datsun B210 GX: 84.55%\n",
      "Honda Civic CVCC: 77.47%\n",
      "Oldsmobile Cutlass Salon Brougham: 42.70%\n",
      "Dodge Diplomat: 41.63%\n",
      "Mercury Monarch ghia: 43.35%\n",
      "Pontiac Phoenix LJ: 41.20%\n",
      "Chevrolet Malibu: 43.99%\n",
      "Ford Fairmont (auto): 43.35%\n",
      "Ford Fairmont (man): 53.86%\n",
      "Plymouth Volare: 43.99%\n",
      "AMC Concord: 41.63%\n",
      "Buick Century Special: 44.21%\n",
      "Mercury Zephyr: 44.64%\n",
      "Dodge Aspen: 39.91%\n",
      "AMC Concord d/l: 38.84%\n",
      "Chevrolet Monte Carlo Landau: 41.20%\n",
      "Buick Regal Sport Coupe (turbo): 37.98%\n",
      "Ford Futura: 38.84%\n",
      "Dodge Magnum XE: 37.55%\n",
      "Chevrolet Chevette: 64.38%\n",
      "Toyota Corolla: 59.01%\n",
      "Datsun 510: 58.37%\n",
      "Dodge Omni: 66.31%\n",
      "Toyota Celica GT Liftback: 45.28%\n",
      "Plymouth Sapporo: 49.79%\n",
      "Oldsmobile Starfire SX: 51.07%\n",
      "Datsun 200-SX: 51.29%\n",
      "Audi 5000: 43.56%\n",
      "Volvo 264gl: 36.48%\n",
      "Saab 99gle: 46.35%\n",
      "Peugeot 604sl: 34.76%\n",
      "Volkswagen Scirocco: 67.60%\n",
      "Honda Accord LX: 63.30%\n",
      "Pontiac Lemans V6: 46.14%\n",
      "Mercury Zephyr 6: 42.49%\n",
      "Ford Fairmont 4: 47.85%\n",
      "AMC Concord DL 6: 43.35%\n",
      "Dodge Aspen 6: 44.21%\n",
      "Chevrolet Caprice Classic: 36.48%\n",
      "Ford LTD Landau: 37.77%\n",
      "Mercury Grand Marquis: 35.41%\n",
      "Dodge St. Regis: 39.06%\n",
      "Buick Estate Wagon (sw): 36.27%\n",
      "Ford Country Squire (sw): 33.26%\n",
      "Chevrolet Malibu Classic (sw): 41.20%\n",
      "Chrysler Lebaron Town @ Country (sw): 39.70%\n",
      "Volkswagen Rabbit Custom: 68.45%\n",
      "Mazda GLC Deluxe: 73.18%\n",
      "Dodge Colt Hatchback Custom: 76.61%\n",
      "AMC Spirit DL: 58.80%\n",
      "Mercedes Benz 300d: 54.51%\n",
      "Cadillac Eldorado: 49.36%\n",
      "Peugeot 504: 58.37%\n",
      "Oldsmobile Cutlass Salon Brougham: 51.29%\n",
      "Plymouth Horizon: 73.39%\n",
      "Plymouth Horizon TC3: 74.03%\n",
      "Datsun 210: 68.24%\n",
      "Fiat Strada Custom: 80.04%\n",
      "Buick Skylark Limited: 60.94%\n",
      "Chevrolet Citation: 61.80%\n",
      "Oldsmobile Omega Brougham: 57.51%\n",
      "Pontiac Phoenix: 71.89%\n",
      "Volkswagen Rabbit: 89.06%\n",
      "Toyota Corolla Tercel: 81.76%\n",
      "Chevrolet Chevette: 68.88%\n",
      "Datsun 310: 79.83%\n",
      "Chevrolet Citation: 60.09%\n",
      "Ford Fairmont: 56.65%\n",
      "AMC Concord: 52.15%\n",
      "Dodge Aspen: 40.99%\n",
      "Audi 4000: 73.61%\n",
      "Toyota Corolla Liftback: 63.95%\n",
      "Mazda 626: 67.17%\n",
      "Datsun 510 Hatchback: 79.40%\n",
      "Toyota Corolla: 69.10%\n",
      "Mazda GLC: 100.00%\n",
      "Dodge Colt: 59.87%\n",
      "Datsun 210: 87.55%\n",
      "Volkswagen Rabbit C (Diesel): 95.06%\n",
      "Volkswagen Dasher (diesel): 93.13%\n",
      "Audi 5000s (diesel): 78.11%\n",
      "Mercedes-Benz 240d: 64.38%\n",
      "Honda Civic 1500 gl: 95.71%\n",
      "Renault Lecar Deluxe: 87.77%\n",
      "Subaru DL: 72.53%\n",
      "Volkswagen Rabbit: 63.95%\n",
      "Datsun 280-ZX: 70.17%\n",
      "Mazda RX-7 GS: 50.86%\n",
      "Triumph TR7 Coupe: 75.11%\n",
      "Ford Mustang Cobra: 50.64%\n",
      "Honda Accord: 69.53%\n",
      "Plymouth Reliant: 58.37%\n",
      "Buick Skylark: 57.08%\n",
      "Dodge Aries Wagon (sw): 55.36%\n",
      "Chevrolet Citation: 50.43%\n",
      "Plymouth Reliant: 64.38%\n",
      "Toyota Starlet: 83.91%\n",
      "Plymouth Champ: 83.69%\n",
      "Honda Civic 1300: 75.32%\n",
      "Subaru: 69.31%\n",
      "Datsun 210 MPG: 79.40%\n",
      "Toyota Tercel: 80.90%\n",
      "Mazda GLC 4: 73.18%\n",
      "Plymouth Horizon 4: 74.46%\n",
      "Ford Escort 4W: 73.82%\n",
      "Ford Escort 2H: 64.16%\n",
      "Volkswagen Jetta: 70.82%\n",
      "Renault 18i: 74.03%\n",
      "Honda Prelude: 72.32%\n",
      "Toyota Corolla: 69.53%\n",
      "Datsun 200SX: 70.60%\n",
      "Mazda 626: 67.81%\n",
      "Peugeot 505s Turbo Diesel: 60.30%\n",
      "Saab 900s: 0.00%\n",
      "Volvo Diesel: 65.88%\n",
      "Toyota Cressida: 54.51%\n",
      "Datsun 810 Maxima: 51.93%\n",
      "Buick Century: 48.07%\n",
      "Oldsmobile Cutlass LS: 57.08%\n",
      "Ford Grenada gl: 43.35%\n",
      "Chrysler Lebaron Salon: 37.77%\n",
      "Chevrolet Cavalier: 60.09%\n",
      "Chevrolet Cavalier Wagon: 57.94%\n",
      "Chevrolet Cavalier 2-door: 72.96%\n",
      "Pontiac J2000 SE Hatchback: 66.52%\n",
      "Dodge Aries SE: 62.23%\n",
      "Pontiac Phoenix: 57.94%\n",
      "Ford Fairmont Futura: 51.50%\n",
      "AMC Concord DL: 49.36%\n",
      "Volkswagen Rabbit l: 77.25%\n",
      "Mazda GLC Custom l: 79.40%\n",
      "Mazda GLC Custom: 66.52%\n",
      "Plymouth Horizon Miser: 81.55%\n",
      "Mercury Lynx l: 77.25%\n",
      "Nissan Stanza XE: 77.25%\n",
      "Honda Accord: 77.25%\n",
      "Toyota Corolla: 72.96%\n",
      "Honda Civic: 81.55%\n",
      "Honda Civic (auto): 68.67%\n",
      "Datsun 310 GX: 81.55%\n",
      "Buick Century Limited: 53.65%\n",
      "Oldsmobile Cutlass Ciera (diesel): 81.55%\n",
      "Chrysler Lebaron Medallion: 55.79%\n",
      "Ford Grenada l: 47.21%\n",
      "Toyota Celica GT: 68.67%\n",
      "Dodge Charger 2.2: 77.25%\n",
      "Chevrolet Camaro: 57.94%\n",
      "Ford Mustang GL: 57.94%\n",
      "Volkswagen Pickup: 94.42%\n",
      "Dodge Rampage: 68.67%\n",
      "Ford Ranger: 60.09%\n",
      "Chevy S-10: 66.52%\n"
     ]
    }
   ],
   "source": [
    "with open('cars.csv') as f:\n",
    "    next(f), next(f)\n",
    "    max_ = max_mpg(f)\n",
    "    \n",
    "with open('cars.csv') as f:\n",
    "    next(f), next(f)\n",
    "    list_data(f, max_)"
   ]
  },
  {
   "cell_type": "code",
   "execution_count": 166,
   "metadata": {},
   "outputs": [],
   "source": [
    "with open('cars.csv') as f:\n",
    "    data = [row for row in f][2:]"
   ]
  },
  {
   "cell_type": "code",
   "execution_count": 167,
   "metadata": {},
   "outputs": [],
   "source": [
    "with open('cars.csv') as f:\n",
    "    data = f.readlines()[2:]"
   ]
  },
  {
   "cell_type": "code",
   "execution_count": 168,
   "metadata": {},
   "outputs": [
    {
     "name": "stdout",
     "output_type": "stream",
     "text": [
      "Chevrolet Chevelle Malibu: 38.63%\n",
      "Buick Skylark 320: 32.19%\n",
      "Plymouth Satellite: 38.63%\n",
      "AMC Rebel SST: 34.33%\n",
      "Ford Torino: 36.48%\n",
      "Ford Galaxie 500: 32.19%\n",
      "Chevrolet Impala: 30.04%\n",
      "Plymouth Fury iii: 30.04%\n",
      "Pontiac Catalina: 30.04%\n",
      "AMC Ambassador DPL: 32.19%\n",
      "Citroen DS-21 Pallas: 0.00%\n",
      "Chevrolet Chevelle Concours (sw): 0.00%\n",
      "Ford Torino (sw): 0.00%\n",
      "Plymouth Satellite (sw): 0.00%\n",
      "AMC Rebel SST (sw): 0.00%\n",
      "Dodge Challenger SE: 32.19%\n",
      "Plymouth 'Cuda 340: 30.04%\n",
      "Ford Mustang Boss 302: 0.00%\n",
      "Chevrolet Monte Carlo: 32.19%\n",
      "Buick Estate Wagon (sw): 30.04%\n",
      "Toyota Corolla Mark ii: 51.50%\n",
      "Plymouth Duster: 47.21%\n",
      "AMC Hornet: 38.63%\n",
      "Ford Maverick: 45.06%\n",
      "Datsun PL510: 57.94%\n",
      "Volkswagen 1131 Deluxe Sedan: 55.79%\n",
      "Peugeot 504: 53.65%\n",
      "Audi 100 LS: 51.50%\n",
      "Saab 99e: 53.65%\n",
      "BMW 2002: 55.79%\n",
      "AMC Gremlin: 45.06%\n",
      "Ford F250: 21.46%\n",
      "Chevy C20: 21.46%\n",
      "Dodge D200: 23.61%\n",
      "Hi 1200D: 19.31%\n",
      "Datsun PL510: 57.94%\n",
      "Chevrolet Vega 2300: 60.09%\n",
      "Toyota Corolla: 53.65%\n",
      "Ford Pinto: 53.65%\n",
      "Volkswagen Super Beetle 117: 0.00%\n",
      "AMC Gremlin: 40.77%\n",
      "Plymouth Satellite Custom: 34.33%\n",
      "Chevrolet Chevelle Malibu: 36.48%\n",
      "Ford Torino 500: 40.77%\n",
      "AMC Matador: 38.63%\n",
      "Chevrolet Impala: 30.04%\n",
      "Pontiac Catalina Brougham: 30.04%\n",
      "Ford Galaxie 500: 30.04%\n",
      "Plymouth Fury iii: 30.04%\n",
      "Dodge Monaco (sw): 25.75%\n",
      "Ford Country Squire (sw): 27.90%\n",
      "Pontiac Safari (sw): 27.90%\n",
      "AMC Hornet Sportabout (sw): 38.63%\n",
      "Chevrolet Vega (sw): 47.21%\n",
      "Pontiac Firebird: 40.77%\n",
      "Ford Mustang: 38.63%\n",
      "Mercury Capri 2000: 49.36%\n",
      "Opel 1900: 60.09%\n",
      "Peugeot 304: 64.38%\n",
      "Fiat 124B: 64.38%\n",
      "Toyota Corolla 1200: 66.52%\n",
      "Datsun 1200: 75.11%\n",
      "Volkswagen Model 111: 57.94%\n",
      "Plymouth Cricket: 55.79%\n",
      "Toyota Corolla Hardtop: 51.50%\n",
      "Dodge Colt Hardtop: 53.65%\n",
      "Volkswagen Type 3: 49.36%\n",
      "Chevrolet Vega: 42.92%\n",
      "Ford Pinto Runabout: 45.06%\n",
      "Chevrolet Impala: 27.90%\n",
      "Pontiac Catalina: 30.04%\n",
      "Plymouth Fury III: 32.19%\n",
      "Ford Galaxie 500: 30.04%\n",
      "AMC Ambassador SST: 36.48%\n",
      "Mercury Marquis: 23.61%\n",
      "Buick LeSabre Custom: 27.90%\n",
      "Oldsmobile Delta 88 Royale: 25.75%\n",
      "Chrysler Newport Royal: 27.90%\n",
      "Mazda RX2 Coupe: 40.77%\n",
      "AMC Matador (sw): 32.19%\n",
      "Chevrolet Chevelle Concours (sw): 27.90%\n",
      "Ford Gran Torino (sw): 27.90%\n",
      "Plymouth Satellite Custom (sw): 30.04%\n",
      "Volvo 145e (sw): 38.63%\n",
      "Volkswagen 411 (sw): 47.21%\n",
      "Peugeot 504 (sw): 45.06%\n",
      "Renault 12 (sw): 55.79%\n",
      "Ford Pinto (sw): 47.21%\n",
      "Datsun 510 (sw): 60.09%\n",
      "Toyota Corolla Mark II (sw): 49.36%\n",
      "Dodge Colt (sw): 60.09%\n",
      "Toyota Corolla 1600 (sw): 57.94%\n",
      "Buick Century 350: 27.90%\n",
      "AMC Matador: 30.04%\n",
      "Chevrolet Malibu: 27.90%\n",
      "Ford Gran Torino: 30.04%\n",
      "Dodge Coronet Custom: 32.19%\n",
      "Mercury Marquis Brougham: 25.75%\n",
      "Chevrolet Caprice Classic: 27.90%\n",
      "Ford LTD: 27.90%\n",
      "Plymouth Fury Gran Sedan: 30.04%\n",
      "Chrysler New Yorker Brougham: 27.90%\n",
      "Buick Electra 225 Custom: 25.75%\n",
      "AMC Ambassador Brougham: 27.90%\n",
      "Plymouth Valiant: 38.63%\n",
      "Chevrolet Nova Custom: 34.33%\n",
      "AMC Hornet: 38.63%\n",
      "Ford Maverick: 38.63%\n",
      "Plymouth Duster: 49.36%\n",
      "Volkswagen Super Beetle: 55.79%\n",
      "Chevrolet Impala: 23.61%\n",
      "Ford Country: 25.75%\n",
      "Plymouth Custom Suburb: 27.90%\n",
      "Oldsmobile Vista Cruiser: 25.75%\n",
      "AMC Gremlin: 38.63%\n",
      "Toyota Camry: 42.92%\n",
      "Chevrolet Vega: 45.06%\n",
      "Datsun 610: 47.21%\n",
      "Mazda RX3: 38.63%\n",
      "Ford Pinto: 40.77%\n",
      "Mercury Capri v6: 45.06%\n",
      "Fiat 124 Sport Coupe: 55.79%\n",
      "Chevrolet Monte Carlo S: 32.19%\n",
      "Pontiac Grand Prix: 34.33%\n",
      "Fiat 128: 62.23%\n",
      "Opel Manta: 51.50%\n",
      "Audi 100LS: 42.92%\n",
      "Volvo 144ea: 40.77%\n",
      "Dodge Dart Custom: 32.19%\n",
      "Saab 99le: 51.50%\n",
      "Toyota Mark II: 42.92%\n",
      "Oldsmobile Omega: 23.61%\n",
      "Plymouth Duster: 42.92%\n",
      "Ford Maverick: 45.06%\n",
      "AMC Hornet: 40.77%\n",
      "Chevrolet Nova: 32.19%\n",
      "Datsun B210: 66.52%\n",
      "Ford Pinto: 55.79%\n",
      "Toyota Corolla 1200: 68.67%\n",
      "Chevrolet Vega: 53.65%\n",
      "Chevrolet Chevelle Malibu Classic: 34.33%\n",
      "AMC Matador: 34.33%\n",
      "Plymouth Satellite Sebring: 38.63%\n",
      "Ford Gran Torino: 34.33%\n",
      "Buick Century Luxus (sw): 27.90%\n",
      "Dodge Coronet Custom (sw): 30.04%\n",
      "Ford Gran Torino (sw): 30.04%\n",
      "AMC Matador (sw): 30.04%\n",
      "Audi Fox: 62.23%\n",
      "Volkswagen Dasher: 55.79%\n",
      "Opel Manta: 55.79%\n",
      "Toyota Corolla: 66.52%\n",
      "Datsun 710: 68.67%\n",
      "Dodge Colt: 60.09%\n",
      "Fiat 128: 51.50%\n",
      "Fiat 124 TC: 55.79%\n",
      "Honda Civic: 51.50%\n",
      "Subaru: 55.79%\n",
      "Fiat x1.9: 66.52%\n",
      "Plymouth Valiant Custom: 40.77%\n",
      "Chevrolet Nova: 38.63%\n",
      "Mercury Monarch: 32.19%\n",
      "Ford Maverick: 32.19%\n",
      "Pontiac Catalina: 34.33%\n",
      "Chevrolet Bel Air: 32.19%\n",
      "Plymouth Grand Fury: 34.33%\n",
      "Ford LTD: 30.04%\n",
      "Buick Century: 36.48%\n",
      "Chevrolete Chevelle Malibu: 34.33%\n",
      "AMC Matador: 32.19%\n",
      "Plymouth Fury: 38.63%\n",
      "Buick Skyhawk: 45.06%\n",
      "Chevrolet Monza 2+2: 42.92%\n",
      "Ford Mustang II: 27.90%\n",
      "Toyota Corolla: 62.23%\n",
      "Ford Pinto: 49.36%\n",
      "AMC Gremlin: 42.92%\n",
      "Pontiac Astro: 49.36%\n",
      "Toyota Corolla: 51.50%\n",
      "Volkswagen Dasher: 53.65%\n",
      "Datsun 710: 51.50%\n",
      "Ford Pinto: 38.63%\n",
      "Volkswagen Rabbit: 62.23%\n",
      "AMC Pacer: 40.77%\n",
      "Audi 100LS: 49.36%\n",
      "Peugeot 504: 49.36%\n",
      "Volvo 244DL: 47.21%\n",
      "Saab 99LE: 53.65%\n",
      "Honda Civic CVCC: 70.82%\n",
      "Fiat 131: 60.09%\n",
      "Opel 1900: 53.65%\n",
      "Capri ii: 53.65%\n",
      "Dodge Colt: 55.79%\n",
      "Renault 12tl: 57.94%\n",
      "Chevrolet Chevelle Malibu Classic: 37.55%\n",
      "Dodge Coronet Brougham: 34.33%\n",
      "AMC Matador: 33.26%\n",
      "Ford Gran Torino: 31.12%\n",
      "Plymouth Valiant: 47.21%\n",
      "Chevrolet Nova: 47.21%\n",
      "Ford Maverick: 51.50%\n",
      "AMC Hornet: 48.28%\n",
      "Chevrolet Chevette: 62.23%\n",
      "Chevrolet Woody: 52.58%\n",
      "Volkswagen Rabbit: 62.23%\n",
      "Honda Civic: 70.82%\n",
      "Dodge Aspen SE: 42.92%\n",
      "Ford Grenada ghia: 38.63%\n",
      "Pontiac Ventura SJ: 39.70%\n",
      "AMC Pacer d/l: 37.55%\n",
      "Volkswagen Rabbit: 63.30%\n",
      "Datsun B-210: 68.67%\n",
      "Toyota Corolla: 60.09%\n",
      "Ford Pinto: 56.87%\n",
      "Volvo 245: 42.92%\n",
      "Plymouth Volare Premier v8: 27.90%\n",
      "Peugeot 504: 40.77%\n",
      "Toyota Mark II: 40.77%\n",
      "Mercedes-Benz 280s: 35.41%\n",
      "Cadillac Seville: 35.41%\n",
      "Chevrolet C10: 27.90%\n",
      "Ford F108: 27.90%\n",
      "Dodge D100: 27.90%\n",
      "Honda Accord CVCC: 67.60%\n",
      "Buick Opel Isuzu Deluxe: 64.38%\n",
      "Renault 5 GTL: 77.25%\n",
      "Plymouth Arrow GS: 54.72%\n",
      "Datsun F-10 Hatchback: 71.89%\n",
      "Chevrolet Caprice Classic: 37.55%\n",
      "Oldsmobile Cutlass Supreme: 36.48%\n",
      "Dodge Monaco Brougham: 33.26%\n",
      "Mercury Cougar Brougham: 32.19%\n",
      "Chevrolet Concours: 37.55%\n",
      "Buick Skylark: 43.99%\n",
      "Plymouth Volare Custom: 40.77%\n",
      "Ford Grenada: 39.70%\n",
      "Pontiac Grand Prix LJ: 34.33%\n",
      "Chevrolet Monte Carlo Landau: 33.26%\n",
      "Chrysler Cordoba: 33.26%\n",
      "Ford Thunderbird: 34.33%\n",
      "Volkswagen Rabbit Custom: 62.23%\n",
      "Pontiac Sunbird Coupe: 52.58%\n",
      "Toyota Corolla Liftback: 55.79%\n",
      "Ford Mustang II 2+2: 54.72%\n",
      "Chevrolet Chevette: 65.45%\n",
      "Dodge Colt m/m: 71.89%\n",
      "Subaru DL: 64.38%\n",
      "Volkswagen Dasher: 65.45%\n",
      "Datsun 810: 47.21%\n",
      "BMW 320i: 46.14%\n",
      "Mazda RX-4: 46.14%\n",
      "Volkswagen Rabbit Custom Diesel: 92.49%\n",
      "Ford Fiesta: 77.47%\n",
      "Mazda GLC Deluxe: 70.39%\n",
      "Datsun B210 GX: 84.55%\n",
      "Honda Civic CVCC: 77.47%\n",
      "Oldsmobile Cutlass Salon Brougham: 42.70%\n",
      "Dodge Diplomat: 41.63%\n",
      "Mercury Monarch ghia: 43.35%\n",
      "Pontiac Phoenix LJ: 41.20%\n",
      "Chevrolet Malibu: 43.99%\n",
      "Ford Fairmont (auto): 43.35%\n",
      "Ford Fairmont (man): 53.86%\n",
      "Plymouth Volare: 43.99%\n",
      "AMC Concord: 41.63%\n",
      "Buick Century Special: 44.21%\n",
      "Mercury Zephyr: 44.64%\n",
      "Dodge Aspen: 39.91%\n",
      "AMC Concord d/l: 38.84%\n",
      "Chevrolet Monte Carlo Landau: 41.20%\n",
      "Buick Regal Sport Coupe (turbo): 37.98%\n",
      "Ford Futura: 38.84%\n",
      "Dodge Magnum XE: 37.55%\n",
      "Chevrolet Chevette: 64.38%\n",
      "Toyota Corolla: 59.01%\n",
      "Datsun 510: 58.37%\n",
      "Dodge Omni: 66.31%\n",
      "Toyota Celica GT Liftback: 45.28%\n",
      "Plymouth Sapporo: 49.79%\n",
      "Oldsmobile Starfire SX: 51.07%\n",
      "Datsun 200-SX: 51.29%\n",
      "Audi 5000: 43.56%\n",
      "Volvo 264gl: 36.48%\n",
      "Saab 99gle: 46.35%\n",
      "Peugeot 604sl: 34.76%\n",
      "Volkswagen Scirocco: 67.60%\n",
      "Honda Accord LX: 63.30%\n",
      "Pontiac Lemans V6: 46.14%\n",
      "Mercury Zephyr 6: 42.49%\n",
      "Ford Fairmont 4: 47.85%\n",
      "AMC Concord DL 6: 43.35%\n",
      "Dodge Aspen 6: 44.21%\n",
      "Chevrolet Caprice Classic: 36.48%\n",
      "Ford LTD Landau: 37.77%\n",
      "Mercury Grand Marquis: 35.41%\n",
      "Dodge St. Regis: 39.06%\n",
      "Buick Estate Wagon (sw): 36.27%\n",
      "Ford Country Squire (sw): 33.26%\n",
      "Chevrolet Malibu Classic (sw): 41.20%\n",
      "Chrysler Lebaron Town @ Country (sw): 39.70%\n",
      "Volkswagen Rabbit Custom: 68.45%\n",
      "Mazda GLC Deluxe: 73.18%\n",
      "Dodge Colt Hatchback Custom: 76.61%\n",
      "AMC Spirit DL: 58.80%\n",
      "Mercedes Benz 300d: 54.51%\n",
      "Cadillac Eldorado: 49.36%\n",
      "Peugeot 504: 58.37%\n",
      "Oldsmobile Cutlass Salon Brougham: 51.29%\n",
      "Plymouth Horizon: 73.39%\n",
      "Plymouth Horizon TC3: 74.03%\n",
      "Datsun 210: 68.24%\n",
      "Fiat Strada Custom: 80.04%\n",
      "Buick Skylark Limited: 60.94%\n",
      "Chevrolet Citation: 61.80%\n",
      "Oldsmobile Omega Brougham: 57.51%\n",
      "Pontiac Phoenix: 71.89%\n",
      "Volkswagen Rabbit: 89.06%\n",
      "Toyota Corolla Tercel: 81.76%\n",
      "Chevrolet Chevette: 68.88%\n",
      "Datsun 310: 79.83%\n",
      "Chevrolet Citation: 60.09%\n",
      "Ford Fairmont: 56.65%\n",
      "AMC Concord: 52.15%\n",
      "Dodge Aspen: 40.99%\n",
      "Audi 4000: 73.61%\n",
      "Toyota Corolla Liftback: 63.95%\n",
      "Mazda 626: 67.17%\n",
      "Datsun 510 Hatchback: 79.40%\n",
      "Toyota Corolla: 69.10%\n",
      "Mazda GLC: 100.00%\n",
      "Dodge Colt: 59.87%\n",
      "Datsun 210: 87.55%\n",
      "Volkswagen Rabbit C (Diesel): 95.06%\n",
      "Volkswagen Dasher (diesel): 93.13%\n",
      "Audi 5000s (diesel): 78.11%\n",
      "Mercedes-Benz 240d: 64.38%\n",
      "Honda Civic 1500 gl: 95.71%\n",
      "Renault Lecar Deluxe: 87.77%\n",
      "Subaru DL: 72.53%\n",
      "Volkswagen Rabbit: 63.95%\n",
      "Datsun 280-ZX: 70.17%\n",
      "Mazda RX-7 GS: 50.86%\n",
      "Triumph TR7 Coupe: 75.11%\n",
      "Ford Mustang Cobra: 50.64%\n",
      "Honda Accord: 69.53%\n",
      "Plymouth Reliant: 58.37%\n",
      "Buick Skylark: 57.08%\n",
      "Dodge Aries Wagon (sw): 55.36%\n",
      "Chevrolet Citation: 50.43%\n",
      "Plymouth Reliant: 64.38%\n",
      "Toyota Starlet: 83.91%\n",
      "Plymouth Champ: 83.69%\n",
      "Honda Civic 1300: 75.32%\n",
      "Subaru: 69.31%\n",
      "Datsun 210 MPG: 79.40%\n",
      "Toyota Tercel: 80.90%\n",
      "Mazda GLC 4: 73.18%\n",
      "Plymouth Horizon 4: 74.46%\n",
      "Ford Escort 4W: 73.82%\n",
      "Ford Escort 2H: 64.16%\n",
      "Volkswagen Jetta: 70.82%\n",
      "Renault 18i: 74.03%\n",
      "Honda Prelude: 72.32%\n",
      "Toyota Corolla: 69.53%\n",
      "Datsun 200SX: 70.60%\n",
      "Mazda 626: 67.81%\n",
      "Peugeot 505s Turbo Diesel: 60.30%\n",
      "Saab 900s: 0.00%\n",
      "Volvo Diesel: 65.88%\n",
      "Toyota Cressida: 54.51%\n",
      "Datsun 810 Maxima: 51.93%\n",
      "Buick Century: 48.07%\n",
      "Oldsmobile Cutlass LS: 57.08%\n",
      "Ford Grenada gl: 43.35%\n",
      "Chrysler Lebaron Salon: 37.77%\n",
      "Chevrolet Cavalier: 60.09%\n",
      "Chevrolet Cavalier Wagon: 57.94%\n",
      "Chevrolet Cavalier 2-door: 72.96%\n",
      "Pontiac J2000 SE Hatchback: 66.52%\n",
      "Dodge Aries SE: 62.23%\n",
      "Pontiac Phoenix: 57.94%\n",
      "Ford Fairmont Futura: 51.50%\n",
      "AMC Concord DL: 49.36%\n",
      "Volkswagen Rabbit l: 77.25%\n",
      "Mazda GLC Custom l: 79.40%\n",
      "Mazda GLC Custom: 66.52%\n",
      "Plymouth Horizon Miser: 81.55%\n",
      "Mercury Lynx l: 77.25%\n",
      "Nissan Stanza XE: 77.25%\n",
      "Honda Accord: 77.25%\n",
      "Toyota Corolla: 72.96%\n",
      "Honda Civic: 81.55%\n",
      "Honda Civic (auto): 68.67%\n",
      "Datsun 310 GX: 81.55%\n",
      "Buick Century Limited: 53.65%\n",
      "Oldsmobile Cutlass Ciera (diesel): 81.55%\n",
      "Chrysler Lebaron Medallion: 55.79%\n",
      "Ford Grenada l: 47.21%\n",
      "Toyota Celica GT: 68.67%\n",
      "Dodge Charger 2.2: 77.25%\n",
      "Chevrolet Camaro: 57.94%\n",
      "Ford Mustang GL: 57.94%\n",
      "Volkswagen Pickup: 94.42%\n",
      "Dodge Rampage: 68.67%\n",
      "Ford Ranger: 60.09%\n",
      "Chevy S-10: 66.52%\n"
     ]
    }
   ],
   "source": [
    "max_ = max_mpg(data)\n",
    "list_data(data, max_)"
   ]
  },
  {
   "cell_type": "code",
   "execution_count": 169,
   "metadata": {},
   "outputs": [],
   "source": [
    "def list_data(data):\n",
    "    max_mpg = 0\n",
    "    for row in data:\n",
    "        _, mpg = parse_data_row(row)\n",
    "        if mpg > max_mpg:\n",
    "            max_mpg = mpg\n",
    "    \n",
    "    for row in data:\n",
    "        car, mpg = parse_data_row(row)\n",
    "        mpg_perc = mpg / max_mpg * 100\n",
    "        print(f'{car}: {mpg_perc:.2f}%')"
   ]
  },
  {
   "cell_type": "code",
   "execution_count": 170,
   "metadata": {},
   "outputs": [],
   "source": [
    "def list_data(data):\n",
    "    if iter(data) is data:\n",
    "        raise ValueError('data cannot be an iterator.')\n",
    "    max_mpg = 0\n",
    "    for row in data:\n",
    "        _, mpg = parse_data_row(row)\n",
    "        if mpg > max_mpg:\n",
    "            max_mpg = mpg\n",
    "    \n",
    "    for row in data:\n",
    "        car, mpg = parse_data_row(row)\n",
    "        mpg_perc = mpg / max_mpg * 100\n",
    "        print(f'{car}: {mpg_perc:.2f}%')"
   ]
  },
  {
   "cell_type": "code",
   "execution_count": 171,
   "metadata": {},
   "outputs": [
    {
     "ename": "ValueError",
     "evalue": "data cannot be an iterator.",
     "output_type": "error",
     "traceback": [
      "\u001b[1;31m---------------------------------------------------------------------------\u001b[0m",
      "\u001b[1;31mValueError\u001b[0m                                Traceback (most recent call last)",
      "\u001b[1;32m~\\AppData\\Local\\Temp\\ipykernel_27308\\53126283.py\u001b[0m in \u001b[0;36m<module>\u001b[1;34m\u001b[0m\n\u001b[0;32m      2\u001b[0m     \u001b[0mnext\u001b[0m\u001b[1;33m(\u001b[0m\u001b[0mf\u001b[0m\u001b[1;33m)\u001b[0m\u001b[1;33m\u001b[0m\u001b[1;33m\u001b[0m\u001b[0m\n\u001b[0;32m      3\u001b[0m     \u001b[0mnext\u001b[0m\u001b[1;33m(\u001b[0m\u001b[0mf\u001b[0m\u001b[1;33m)\u001b[0m\u001b[1;33m\u001b[0m\u001b[1;33m\u001b[0m\u001b[0m\n\u001b[1;32m----> 4\u001b[1;33m     \u001b[0mlist_data\u001b[0m\u001b[1;33m(\u001b[0m\u001b[0mf\u001b[0m\u001b[1;33m)\u001b[0m\u001b[1;33m\u001b[0m\u001b[1;33m\u001b[0m\u001b[0m\n\u001b[0m",
      "\u001b[1;32m~\\AppData\\Local\\Temp\\ipykernel_27308\\3789476260.py\u001b[0m in \u001b[0;36mlist_data\u001b[1;34m(data)\u001b[0m\n\u001b[0;32m      1\u001b[0m \u001b[1;32mdef\u001b[0m \u001b[0mlist_data\u001b[0m\u001b[1;33m(\u001b[0m\u001b[0mdata\u001b[0m\u001b[1;33m)\u001b[0m\u001b[1;33m:\u001b[0m\u001b[1;33m\u001b[0m\u001b[1;33m\u001b[0m\u001b[0m\n\u001b[0;32m      2\u001b[0m     \u001b[1;32mif\u001b[0m \u001b[0miter\u001b[0m\u001b[1;33m(\u001b[0m\u001b[0mdata\u001b[0m\u001b[1;33m)\u001b[0m \u001b[1;32mis\u001b[0m \u001b[0mdata\u001b[0m\u001b[1;33m:\u001b[0m\u001b[1;33m\u001b[0m\u001b[1;33m\u001b[0m\u001b[0m\n\u001b[1;32m----> 3\u001b[1;33m         \u001b[1;32mraise\u001b[0m \u001b[0mValueError\u001b[0m\u001b[1;33m(\u001b[0m\u001b[1;34m'data cannot be an iterator.'\u001b[0m\u001b[1;33m)\u001b[0m\u001b[1;33m\u001b[0m\u001b[1;33m\u001b[0m\u001b[0m\n\u001b[0m\u001b[0;32m      4\u001b[0m     \u001b[0mmax_mpg\u001b[0m \u001b[1;33m=\u001b[0m \u001b[1;36m0\u001b[0m\u001b[1;33m\u001b[0m\u001b[1;33m\u001b[0m\u001b[0m\n\u001b[0;32m      5\u001b[0m     \u001b[1;32mfor\u001b[0m \u001b[0mrow\u001b[0m \u001b[1;32min\u001b[0m \u001b[0mdata\u001b[0m\u001b[1;33m:\u001b[0m\u001b[1;33m\u001b[0m\u001b[1;33m\u001b[0m\u001b[0m\n",
      "\u001b[1;31mValueError\u001b[0m: data cannot be an iterator."
     ]
    }
   ],
   "source": [
    "with open('cars.csv') as f:\n",
    "    next(f)\n",
    "    next(f)\n",
    "    list_data(f)"
   ]
  },
  {
   "cell_type": "code",
   "execution_count": 172,
   "metadata": {},
   "outputs": [],
   "source": [
    "def list_data(data):\n",
    "    if iter(data) is data:\n",
    "        data = list(data)\n",
    "    \n",
    "    max_mpg = 0\n",
    "    for row in data:\n",
    "        _, mpg = parse_data_row(row)\n",
    "        if mpg > max_mpg:\n",
    "            max_mpg = mpg\n",
    "    \n",
    "    for row in data:\n",
    "        car, mpg = parse_data_row(row)\n",
    "        mpg_perc = mpg / max_mpg * 100\n",
    "        print(f'{car}: {mpg_perc:.2f}%')"
   ]
  },
  {
   "cell_type": "code",
   "execution_count": 173,
   "metadata": {},
   "outputs": [
    {
     "name": "stdout",
     "output_type": "stream",
     "text": [
      "Chevrolet Chevelle Malibu: 38.63%\n",
      "Buick Skylark 320: 32.19%\n",
      "Plymouth Satellite: 38.63%\n",
      "AMC Rebel SST: 34.33%\n",
      "Ford Torino: 36.48%\n",
      "Ford Galaxie 500: 32.19%\n",
      "Chevrolet Impala: 30.04%\n",
      "Plymouth Fury iii: 30.04%\n",
      "Pontiac Catalina: 30.04%\n",
      "AMC Ambassador DPL: 32.19%\n",
      "Citroen DS-21 Pallas: 0.00%\n",
      "Chevrolet Chevelle Concours (sw): 0.00%\n",
      "Ford Torino (sw): 0.00%\n",
      "Plymouth Satellite (sw): 0.00%\n",
      "AMC Rebel SST (sw): 0.00%\n",
      "Dodge Challenger SE: 32.19%\n",
      "Plymouth 'Cuda 340: 30.04%\n",
      "Ford Mustang Boss 302: 0.00%\n",
      "Chevrolet Monte Carlo: 32.19%\n",
      "Buick Estate Wagon (sw): 30.04%\n",
      "Toyota Corolla Mark ii: 51.50%\n",
      "Plymouth Duster: 47.21%\n",
      "AMC Hornet: 38.63%\n",
      "Ford Maverick: 45.06%\n",
      "Datsun PL510: 57.94%\n",
      "Volkswagen 1131 Deluxe Sedan: 55.79%\n",
      "Peugeot 504: 53.65%\n",
      "Audi 100 LS: 51.50%\n",
      "Saab 99e: 53.65%\n",
      "BMW 2002: 55.79%\n",
      "AMC Gremlin: 45.06%\n",
      "Ford F250: 21.46%\n",
      "Chevy C20: 21.46%\n",
      "Dodge D200: 23.61%\n",
      "Hi 1200D: 19.31%\n",
      "Datsun PL510: 57.94%\n",
      "Chevrolet Vega 2300: 60.09%\n",
      "Toyota Corolla: 53.65%\n",
      "Ford Pinto: 53.65%\n",
      "Volkswagen Super Beetle 117: 0.00%\n",
      "AMC Gremlin: 40.77%\n",
      "Plymouth Satellite Custom: 34.33%\n",
      "Chevrolet Chevelle Malibu: 36.48%\n",
      "Ford Torino 500: 40.77%\n",
      "AMC Matador: 38.63%\n",
      "Chevrolet Impala: 30.04%\n",
      "Pontiac Catalina Brougham: 30.04%\n",
      "Ford Galaxie 500: 30.04%\n",
      "Plymouth Fury iii: 30.04%\n",
      "Dodge Monaco (sw): 25.75%\n",
      "Ford Country Squire (sw): 27.90%\n",
      "Pontiac Safari (sw): 27.90%\n",
      "AMC Hornet Sportabout (sw): 38.63%\n",
      "Chevrolet Vega (sw): 47.21%\n",
      "Pontiac Firebird: 40.77%\n",
      "Ford Mustang: 38.63%\n",
      "Mercury Capri 2000: 49.36%\n",
      "Opel 1900: 60.09%\n",
      "Peugeot 304: 64.38%\n",
      "Fiat 124B: 64.38%\n",
      "Toyota Corolla 1200: 66.52%\n",
      "Datsun 1200: 75.11%\n",
      "Volkswagen Model 111: 57.94%\n",
      "Plymouth Cricket: 55.79%\n",
      "Toyota Corolla Hardtop: 51.50%\n",
      "Dodge Colt Hardtop: 53.65%\n",
      "Volkswagen Type 3: 49.36%\n",
      "Chevrolet Vega: 42.92%\n",
      "Ford Pinto Runabout: 45.06%\n",
      "Chevrolet Impala: 27.90%\n",
      "Pontiac Catalina: 30.04%\n",
      "Plymouth Fury III: 32.19%\n",
      "Ford Galaxie 500: 30.04%\n",
      "AMC Ambassador SST: 36.48%\n",
      "Mercury Marquis: 23.61%\n",
      "Buick LeSabre Custom: 27.90%\n",
      "Oldsmobile Delta 88 Royale: 25.75%\n",
      "Chrysler Newport Royal: 27.90%\n",
      "Mazda RX2 Coupe: 40.77%\n",
      "AMC Matador (sw): 32.19%\n",
      "Chevrolet Chevelle Concours (sw): 27.90%\n",
      "Ford Gran Torino (sw): 27.90%\n",
      "Plymouth Satellite Custom (sw): 30.04%\n",
      "Volvo 145e (sw): 38.63%\n",
      "Volkswagen 411 (sw): 47.21%\n",
      "Peugeot 504 (sw): 45.06%\n",
      "Renault 12 (sw): 55.79%\n",
      "Ford Pinto (sw): 47.21%\n",
      "Datsun 510 (sw): 60.09%\n",
      "Toyota Corolla Mark II (sw): 49.36%\n",
      "Dodge Colt (sw): 60.09%\n",
      "Toyota Corolla 1600 (sw): 57.94%\n",
      "Buick Century 350: 27.90%\n",
      "AMC Matador: 30.04%\n",
      "Chevrolet Malibu: 27.90%\n",
      "Ford Gran Torino: 30.04%\n",
      "Dodge Coronet Custom: 32.19%\n",
      "Mercury Marquis Brougham: 25.75%\n",
      "Chevrolet Caprice Classic: 27.90%\n",
      "Ford LTD: 27.90%\n",
      "Plymouth Fury Gran Sedan: 30.04%\n",
      "Chrysler New Yorker Brougham: 27.90%\n",
      "Buick Electra 225 Custom: 25.75%\n",
      "AMC Ambassador Brougham: 27.90%\n",
      "Plymouth Valiant: 38.63%\n",
      "Chevrolet Nova Custom: 34.33%\n",
      "AMC Hornet: 38.63%\n",
      "Ford Maverick: 38.63%\n",
      "Plymouth Duster: 49.36%\n",
      "Volkswagen Super Beetle: 55.79%\n",
      "Chevrolet Impala: 23.61%\n",
      "Ford Country: 25.75%\n",
      "Plymouth Custom Suburb: 27.90%\n",
      "Oldsmobile Vista Cruiser: 25.75%\n",
      "AMC Gremlin: 38.63%\n",
      "Toyota Camry: 42.92%\n",
      "Chevrolet Vega: 45.06%\n",
      "Datsun 610: 47.21%\n",
      "Mazda RX3: 38.63%\n",
      "Ford Pinto: 40.77%\n",
      "Mercury Capri v6: 45.06%\n",
      "Fiat 124 Sport Coupe: 55.79%\n",
      "Chevrolet Monte Carlo S: 32.19%\n",
      "Pontiac Grand Prix: 34.33%\n",
      "Fiat 128: 62.23%\n",
      "Opel Manta: 51.50%\n",
      "Audi 100LS: 42.92%\n",
      "Volvo 144ea: 40.77%\n",
      "Dodge Dart Custom: 32.19%\n",
      "Saab 99le: 51.50%\n",
      "Toyota Mark II: 42.92%\n",
      "Oldsmobile Omega: 23.61%\n",
      "Plymouth Duster: 42.92%\n",
      "Ford Maverick: 45.06%\n",
      "AMC Hornet: 40.77%\n",
      "Chevrolet Nova: 32.19%\n",
      "Datsun B210: 66.52%\n",
      "Ford Pinto: 55.79%\n",
      "Toyota Corolla 1200: 68.67%\n",
      "Chevrolet Vega: 53.65%\n",
      "Chevrolet Chevelle Malibu Classic: 34.33%\n",
      "AMC Matador: 34.33%\n",
      "Plymouth Satellite Sebring: 38.63%\n",
      "Ford Gran Torino: 34.33%\n",
      "Buick Century Luxus (sw): 27.90%\n",
      "Dodge Coronet Custom (sw): 30.04%\n",
      "Ford Gran Torino (sw): 30.04%\n",
      "AMC Matador (sw): 30.04%\n",
      "Audi Fox: 62.23%\n",
      "Volkswagen Dasher: 55.79%\n",
      "Opel Manta: 55.79%\n",
      "Toyota Corolla: 66.52%\n",
      "Datsun 710: 68.67%\n",
      "Dodge Colt: 60.09%\n",
      "Fiat 128: 51.50%\n",
      "Fiat 124 TC: 55.79%\n",
      "Honda Civic: 51.50%\n",
      "Subaru: 55.79%\n",
      "Fiat x1.9: 66.52%\n",
      "Plymouth Valiant Custom: 40.77%\n",
      "Chevrolet Nova: 38.63%\n",
      "Mercury Monarch: 32.19%\n",
      "Ford Maverick: 32.19%\n",
      "Pontiac Catalina: 34.33%\n",
      "Chevrolet Bel Air: 32.19%\n",
      "Plymouth Grand Fury: 34.33%\n",
      "Ford LTD: 30.04%\n",
      "Buick Century: 36.48%\n",
      "Chevrolete Chevelle Malibu: 34.33%\n",
      "AMC Matador: 32.19%\n",
      "Plymouth Fury: 38.63%\n",
      "Buick Skyhawk: 45.06%\n",
      "Chevrolet Monza 2+2: 42.92%\n",
      "Ford Mustang II: 27.90%\n",
      "Toyota Corolla: 62.23%\n",
      "Ford Pinto: 49.36%\n",
      "AMC Gremlin: 42.92%\n",
      "Pontiac Astro: 49.36%\n",
      "Toyota Corolla: 51.50%\n",
      "Volkswagen Dasher: 53.65%\n",
      "Datsun 710: 51.50%\n",
      "Ford Pinto: 38.63%\n",
      "Volkswagen Rabbit: 62.23%\n",
      "AMC Pacer: 40.77%\n",
      "Audi 100LS: 49.36%\n",
      "Peugeot 504: 49.36%\n",
      "Volvo 244DL: 47.21%\n",
      "Saab 99LE: 53.65%\n",
      "Honda Civic CVCC: 70.82%\n",
      "Fiat 131: 60.09%\n",
      "Opel 1900: 53.65%\n",
      "Capri ii: 53.65%\n",
      "Dodge Colt: 55.79%\n",
      "Renault 12tl: 57.94%\n",
      "Chevrolet Chevelle Malibu Classic: 37.55%\n",
      "Dodge Coronet Brougham: 34.33%\n",
      "AMC Matador: 33.26%\n",
      "Ford Gran Torino: 31.12%\n",
      "Plymouth Valiant: 47.21%\n",
      "Chevrolet Nova: 47.21%\n",
      "Ford Maverick: 51.50%\n",
      "AMC Hornet: 48.28%\n",
      "Chevrolet Chevette: 62.23%\n",
      "Chevrolet Woody: 52.58%\n",
      "Volkswagen Rabbit: 62.23%\n",
      "Honda Civic: 70.82%\n",
      "Dodge Aspen SE: 42.92%\n",
      "Ford Grenada ghia: 38.63%\n",
      "Pontiac Ventura SJ: 39.70%\n",
      "AMC Pacer d/l: 37.55%\n",
      "Volkswagen Rabbit: 63.30%\n",
      "Datsun B-210: 68.67%\n",
      "Toyota Corolla: 60.09%\n",
      "Ford Pinto: 56.87%\n",
      "Volvo 245: 42.92%\n",
      "Plymouth Volare Premier v8: 27.90%\n",
      "Peugeot 504: 40.77%\n",
      "Toyota Mark II: 40.77%\n",
      "Mercedes-Benz 280s: 35.41%\n",
      "Cadillac Seville: 35.41%\n",
      "Chevrolet C10: 27.90%\n",
      "Ford F108: 27.90%\n",
      "Dodge D100: 27.90%\n",
      "Honda Accord CVCC: 67.60%\n",
      "Buick Opel Isuzu Deluxe: 64.38%\n",
      "Renault 5 GTL: 77.25%\n",
      "Plymouth Arrow GS: 54.72%\n",
      "Datsun F-10 Hatchback: 71.89%\n",
      "Chevrolet Caprice Classic: 37.55%\n",
      "Oldsmobile Cutlass Supreme: 36.48%\n",
      "Dodge Monaco Brougham: 33.26%\n",
      "Mercury Cougar Brougham: 32.19%\n",
      "Chevrolet Concours: 37.55%\n",
      "Buick Skylark: 43.99%\n",
      "Plymouth Volare Custom: 40.77%\n",
      "Ford Grenada: 39.70%\n",
      "Pontiac Grand Prix LJ: 34.33%\n",
      "Chevrolet Monte Carlo Landau: 33.26%\n",
      "Chrysler Cordoba: 33.26%\n",
      "Ford Thunderbird: 34.33%\n",
      "Volkswagen Rabbit Custom: 62.23%\n",
      "Pontiac Sunbird Coupe: 52.58%\n",
      "Toyota Corolla Liftback: 55.79%\n",
      "Ford Mustang II 2+2: 54.72%\n",
      "Chevrolet Chevette: 65.45%\n",
      "Dodge Colt m/m: 71.89%\n",
      "Subaru DL: 64.38%\n",
      "Volkswagen Dasher: 65.45%\n",
      "Datsun 810: 47.21%\n",
      "BMW 320i: 46.14%\n",
      "Mazda RX-4: 46.14%\n",
      "Volkswagen Rabbit Custom Diesel: 92.49%\n",
      "Ford Fiesta: 77.47%\n",
      "Mazda GLC Deluxe: 70.39%\n",
      "Datsun B210 GX: 84.55%\n",
      "Honda Civic CVCC: 77.47%\n",
      "Oldsmobile Cutlass Salon Brougham: 42.70%\n",
      "Dodge Diplomat: 41.63%\n",
      "Mercury Monarch ghia: 43.35%\n",
      "Pontiac Phoenix LJ: 41.20%\n",
      "Chevrolet Malibu: 43.99%\n",
      "Ford Fairmont (auto): 43.35%\n",
      "Ford Fairmont (man): 53.86%\n",
      "Plymouth Volare: 43.99%\n",
      "AMC Concord: 41.63%\n",
      "Buick Century Special: 44.21%\n",
      "Mercury Zephyr: 44.64%\n",
      "Dodge Aspen: 39.91%\n",
      "AMC Concord d/l: 38.84%\n",
      "Chevrolet Monte Carlo Landau: 41.20%\n",
      "Buick Regal Sport Coupe (turbo): 37.98%\n",
      "Ford Futura: 38.84%\n",
      "Dodge Magnum XE: 37.55%\n",
      "Chevrolet Chevette: 64.38%\n",
      "Toyota Corolla: 59.01%\n",
      "Datsun 510: 58.37%\n",
      "Dodge Omni: 66.31%\n",
      "Toyota Celica GT Liftback: 45.28%\n",
      "Plymouth Sapporo: 49.79%\n",
      "Oldsmobile Starfire SX: 51.07%\n",
      "Datsun 200-SX: 51.29%\n",
      "Audi 5000: 43.56%\n",
      "Volvo 264gl: 36.48%\n",
      "Saab 99gle: 46.35%\n",
      "Peugeot 604sl: 34.76%\n",
      "Volkswagen Scirocco: 67.60%\n",
      "Honda Accord LX: 63.30%\n",
      "Pontiac Lemans V6: 46.14%\n",
      "Mercury Zephyr 6: 42.49%\n",
      "Ford Fairmont 4: 47.85%\n",
      "AMC Concord DL 6: 43.35%\n",
      "Dodge Aspen 6: 44.21%\n",
      "Chevrolet Caprice Classic: 36.48%\n",
      "Ford LTD Landau: 37.77%\n",
      "Mercury Grand Marquis: 35.41%\n",
      "Dodge St. Regis: 39.06%\n",
      "Buick Estate Wagon (sw): 36.27%\n",
      "Ford Country Squire (sw): 33.26%\n",
      "Chevrolet Malibu Classic (sw): 41.20%\n",
      "Chrysler Lebaron Town @ Country (sw): 39.70%\n",
      "Volkswagen Rabbit Custom: 68.45%\n",
      "Mazda GLC Deluxe: 73.18%\n",
      "Dodge Colt Hatchback Custom: 76.61%\n",
      "AMC Spirit DL: 58.80%\n",
      "Mercedes Benz 300d: 54.51%\n",
      "Cadillac Eldorado: 49.36%\n",
      "Peugeot 504: 58.37%\n",
      "Oldsmobile Cutlass Salon Brougham: 51.29%\n",
      "Plymouth Horizon: 73.39%\n",
      "Plymouth Horizon TC3: 74.03%\n",
      "Datsun 210: 68.24%\n",
      "Fiat Strada Custom: 80.04%\n",
      "Buick Skylark Limited: 60.94%\n",
      "Chevrolet Citation: 61.80%\n",
      "Oldsmobile Omega Brougham: 57.51%\n",
      "Pontiac Phoenix: 71.89%\n",
      "Volkswagen Rabbit: 89.06%\n",
      "Toyota Corolla Tercel: 81.76%\n",
      "Chevrolet Chevette: 68.88%\n",
      "Datsun 310: 79.83%\n",
      "Chevrolet Citation: 60.09%\n",
      "Ford Fairmont: 56.65%\n",
      "AMC Concord: 52.15%\n",
      "Dodge Aspen: 40.99%\n",
      "Audi 4000: 73.61%\n",
      "Toyota Corolla Liftback: 63.95%\n",
      "Mazda 626: 67.17%\n",
      "Datsun 510 Hatchback: 79.40%\n",
      "Toyota Corolla: 69.10%\n",
      "Mazda GLC: 100.00%\n",
      "Dodge Colt: 59.87%\n",
      "Datsun 210: 87.55%\n",
      "Volkswagen Rabbit C (Diesel): 95.06%\n",
      "Volkswagen Dasher (diesel): 93.13%\n",
      "Audi 5000s (diesel): 78.11%\n",
      "Mercedes-Benz 240d: 64.38%\n",
      "Honda Civic 1500 gl: 95.71%\n",
      "Renault Lecar Deluxe: 87.77%\n",
      "Subaru DL: 72.53%\n",
      "Volkswagen Rabbit: 63.95%\n",
      "Datsun 280-ZX: 70.17%\n",
      "Mazda RX-7 GS: 50.86%\n",
      "Triumph TR7 Coupe: 75.11%\n",
      "Ford Mustang Cobra: 50.64%\n",
      "Honda Accord: 69.53%\n",
      "Plymouth Reliant: 58.37%\n",
      "Buick Skylark: 57.08%\n",
      "Dodge Aries Wagon (sw): 55.36%\n",
      "Chevrolet Citation: 50.43%\n",
      "Plymouth Reliant: 64.38%\n",
      "Toyota Starlet: 83.91%\n",
      "Plymouth Champ: 83.69%\n",
      "Honda Civic 1300: 75.32%\n",
      "Subaru: 69.31%\n",
      "Datsun 210 MPG: 79.40%\n",
      "Toyota Tercel: 80.90%\n",
      "Mazda GLC 4: 73.18%\n",
      "Plymouth Horizon 4: 74.46%\n",
      "Ford Escort 4W: 73.82%\n",
      "Ford Escort 2H: 64.16%\n",
      "Volkswagen Jetta: 70.82%\n",
      "Renault 18i: 74.03%\n",
      "Honda Prelude: 72.32%\n",
      "Toyota Corolla: 69.53%\n",
      "Datsun 200SX: 70.60%\n",
      "Mazda 626: 67.81%\n",
      "Peugeot 505s Turbo Diesel: 60.30%\n",
      "Saab 900s: 0.00%\n",
      "Volvo Diesel: 65.88%\n",
      "Toyota Cressida: 54.51%\n",
      "Datsun 810 Maxima: 51.93%\n",
      "Buick Century: 48.07%\n",
      "Oldsmobile Cutlass LS: 57.08%\n",
      "Ford Grenada gl: 43.35%\n",
      "Chrysler Lebaron Salon: 37.77%\n",
      "Chevrolet Cavalier: 60.09%\n",
      "Chevrolet Cavalier Wagon: 57.94%\n",
      "Chevrolet Cavalier 2-door: 72.96%\n",
      "Pontiac J2000 SE Hatchback: 66.52%\n",
      "Dodge Aries SE: 62.23%\n",
      "Pontiac Phoenix: 57.94%\n",
      "Ford Fairmont Futura: 51.50%\n",
      "AMC Concord DL: 49.36%\n",
      "Volkswagen Rabbit l: 77.25%\n",
      "Mazda GLC Custom l: 79.40%\n",
      "Mazda GLC Custom: 66.52%\n",
      "Plymouth Horizon Miser: 81.55%\n",
      "Mercury Lynx l: 77.25%\n",
      "Nissan Stanza XE: 77.25%\n",
      "Honda Accord: 77.25%\n",
      "Toyota Corolla: 72.96%\n",
      "Honda Civic: 81.55%\n",
      "Honda Civic (auto): 68.67%\n",
      "Datsun 310 GX: 81.55%\n",
      "Buick Century Limited: 53.65%\n",
      "Oldsmobile Cutlass Ciera (diesel): 81.55%\n",
      "Chrysler Lebaron Medallion: 55.79%\n",
      "Ford Grenada l: 47.21%\n",
      "Toyota Celica GT: 68.67%\n",
      "Dodge Charger 2.2: 77.25%\n",
      "Chevrolet Camaro: 57.94%\n",
      "Ford Mustang GL: 57.94%\n",
      "Volkswagen Pickup: 94.42%\n",
      "Dodge Rampage: 68.67%\n",
      "Ford Ranger: 60.09%\n",
      "Chevy S-10: 66.52%\n"
     ]
    }
   ],
   "source": [
    "with open('cars.csv') as f:\n",
    "    next(f)\n",
    "    next(f)\n",
    "    list_data(f)"
   ]
  },
  {
   "cell_type": "markdown",
   "metadata": {},
   "source": [
    "# Assignment"
   ]
  },
  {
   "cell_type": "markdown",
   "metadata": {},
   "source": [
    "The starting point for this project is the `Polygon` class and the `Polygons` sequence type we created in the previous project.\n",
    "\n",
    "The code for these classes along with the unit tests for the `Polygon` class are below if you want to use those as your starting point. But use whatever you came up with in the last project."
   ]
  },
  {
   "cell_type": "markdown",
   "metadata": {},
   "source": [
    "We have two goals:"
   ]
  },
  {
   "cell_type": "markdown",
   "metadata": {},
   "source": [
    "##### Goal 1\n",
    "\n",
    "Refactor the `Polygon` class so that all the calculated properties are lazy properties, i.e. they should still be calculated properties, but they should not have to get recalculated more than once (since we made our `Polygon` class \"immutable\")."
   ]
  },
  {
   "cell_type": "markdown",
   "metadata": {},
   "source": [
    "##### Goal 2\n",
    "\n",
    "Refactor the `Polygons` (sequence) type, into an **iterable**. Make sure also that the elements in the iterator are computed lazily - i.e. you can no longer use a list as an underlying storage mechanism for your polygons.\n",
    "\n",
    "You'll need to implement both an iterable, and an iterator."
   ]
  },
  {
   "cell_type": "markdown",
   "metadata": {},
   "source": [
    "##### Code from Previous Project"
   ]
  },
  {
   "cell_type": "code",
   "execution_count": 174,
   "metadata": {},
   "outputs": [],
   "source": [
    "import math\n",
    "\n",
    "class Polygon:\n",
    "    def __init__(self, n, R):\n",
    "        if n < 3:\n",
    "            raise ValueError('Polygon must have at least 3 vertices.')\n",
    "        self._n = n\n",
    "        self._R = R\n",
    "        \n",
    "    def __repr__(self):\n",
    "        return f'Polygon(n={self._n}, R={self._R})'\n",
    "    \n",
    "    @property\n",
    "    def count_vertices(self):\n",
    "        return self._n\n",
    "    \n",
    "    @property\n",
    "    def count_edges(self):\n",
    "        return self._n\n",
    "    \n",
    "    @property\n",
    "    def circumradius(self):\n",
    "        return self._R\n",
    "    \n",
    "    @property\n",
    "    def interior_angle(self):\n",
    "        return (self._n - 2) * 180 / self._n\n",
    "\n",
    "    @property\n",
    "    def side_length(self):\n",
    "        return 2 * self._R * math.sin(math.pi / self._n)\n",
    "    \n",
    "    @property\n",
    "    def apothem(self):\n",
    "        return self._R * math.cos(math.pi / self._n)\n",
    "    \n",
    "    @property\n",
    "    def area(self):\n",
    "        return self._n / 2 * self.side_length * self.apothem\n",
    "    \n",
    "    @property\n",
    "    def perimeter(self):\n",
    "        return self._n * self.side_length\n",
    "    \n",
    "    def __eq__(self, other):\n",
    "        if isinstance(other, self.__class__):\n",
    "            return (self.count_edges == other.count_edges \n",
    "                    and self.circumradius == other.circumradius)\n",
    "        else:\n",
    "            return NotImplemented\n",
    "        \n",
    "    def __gt__(self, other):\n",
    "        if isinstance(other, self.__class__):\n",
    "            return self.count_vertices > other.count_vertices\n",
    "        else:\n",
    "            return NotImplemented"
   ]
  },
  {
   "cell_type": "code",
   "execution_count": 175,
   "metadata": {},
   "outputs": [],
   "source": [
    "def test_polygon():\n",
    "    abs_tol = 0.001\n",
    "    rel_tol = 0.001\n",
    "    \n",
    "    try:\n",
    "        p = Polygon(2, 10)\n",
    "        assert False, ('Creating a Polygon with 2 sides: '\n",
    "                       ' Exception expected, not received')\n",
    "    except ValueError:\n",
    "        pass\n",
    "                       \n",
    "    n = 3\n",
    "    R = 1\n",
    "    p = Polygon(n, R)\n",
    "    assert str(p) == 'Polygon(n=3, R=1)', f'actual: {str(p)}'\n",
    "    assert p.count_vertices == n, (f'actual: {p.count_vertices},'\n",
    "                                   f' expected: {n}')\n",
    "    assert p.count_edges == n, f'actual: {p.count_edges}, expected: {n}'\n",
    "    assert p.circumradius == R, f'actual: {p.circumradius}, expected: {n}'\n",
    "    assert p.interior_angle == 60, (f'actual: {p.interior_angle},'\n",
    "                                    ' expected: 60')\n",
    "    n = 4\n",
    "    R = 1\n",
    "    p = Polygon(n, R)\n",
    "    assert p.interior_angle == 90, (f'actual: {p.interior_angle}, '\n",
    "                                    ' expected: 90')\n",
    "    assert math.isclose(p.area, 2, \n",
    "                        rel_tol=abs_tol, \n",
    "                        abs_tol=abs_tol), (f'actual: {p.area},'\n",
    "                                           ' expected: 2.0')\n",
    "    \n",
    "    assert math.isclose(p.side_length, math.sqrt(2),\n",
    "                       rel_tol=rel_tol,\n",
    "                       abs_tol=abs_tol), (f'actual: {p.side_length},'\n",
    "                                          f' expected: {math.sqrt(2)}')\n",
    "    \n",
    "    assert math.isclose(p.perimeter, 4 * math.sqrt(2),\n",
    "                       rel_tol=rel_tol,\n",
    "                       abs_tol=abs_tol), (f'actual: {p.perimeter},'\n",
    "                                          f' expected: {4 * math.sqrt(2)}')\n",
    "    \n",
    "    assert math.isclose(p.apothem, 0.707,\n",
    "                       rel_tol=rel_tol,\n",
    "                       abs_tol=abs_tol), (f'actual: {p.perimeter},'\n",
    "                                          ' expected: 0.707')\n",
    "    p = Polygon(6, 2)\n",
    "    assert math.isclose(p.side_length, 2,\n",
    "                        rel_tol=rel_tol, abs_tol=abs_tol)\n",
    "    assert math.isclose(p.apothem, 1.73205,\n",
    "                        rel_tol=rel_tol, abs_tol=abs_tol)\n",
    "    assert math.isclose(p.area, 10.3923,\n",
    "                        rel_tol=rel_tol, abs_tol=abs_tol)\n",
    "    assert math.isclose(p.perimeter, 12,\n",
    "                        rel_tol=rel_tol, abs_tol=abs_tol)\n",
    "    assert math.isclose(p.interior_angle, 120,\n",
    "                        rel_tol=rel_tol, abs_tol=abs_tol)\n",
    "    \n",
    "    p = Polygon(12, 3)\n",
    "    assert math.isclose(p.side_length, 1.55291,\n",
    "                        rel_tol=rel_tol, abs_tol=abs_tol)\n",
    "    assert math.isclose(p.apothem, 2.89778,\n",
    "                        rel_tol=rel_tol, abs_tol=abs_tol)\n",
    "    assert math.isclose(p.area, 27,\n",
    "                        rel_tol=rel_tol, abs_tol=abs_tol)\n",
    "    assert math.isclose(p.perimeter, 18.635,\n",
    "                        rel_tol=rel_tol, abs_tol=abs_tol)\n",
    "    assert math.isclose(p.interior_angle, 150,\n",
    "                        rel_tol=rel_tol, abs_tol=abs_tol)\n",
    "    \n",
    "    p1 = Polygon(3, 10)\n",
    "    p2 = Polygon(10, 10)\n",
    "    p3 = Polygon(15, 10)\n",
    "    p4 = Polygon(15, 100)\n",
    "    p5 = Polygon(15, 100)\n",
    "    \n",
    "    assert p2 > p1\n",
    "    assert p2 < p3\n",
    "    assert p3 != p4\n",
    "    assert p1 != p4\n",
    "    assert p4 == p5"
   ]
  },
  {
   "cell_type": "code",
   "execution_count": 176,
   "metadata": {},
   "outputs": [],
   "source": [
    "class Polygons:\n",
    "    def __init__(self, m, R):\n",
    "        if m < 3:\n",
    "            raise ValueError('m must be greater than 3')\n",
    "        self._m = m\n",
    "        self._R = R\n",
    "        self._polygons = [Polygon(i, R) for i in range(3, m+1)]\n",
    "        \n",
    "    def __len__(self):\n",
    "        return self._m - 2\n",
    "    \n",
    "    def __repr__(self):\n",
    "        return f'Polygons(m={self._m}, R={self._R})'\n",
    "    \n",
    "    def __getitem__(self, s):\n",
    "        return self._polygons[s]\n",
    "    \n",
    "    @property\n",
    "    def max_efficiency_polygon(self):\n",
    "        sorted_polygons = sorted(self._polygons, \n",
    "                                 key=lambda p: p.area/p.perimeter,\n",
    "                                reverse=True)\n",
    "        return sorted_polygons[0]"
   ]
  },
  {
   "cell_type": "code",
   "execution_count": null,
   "metadata": {},
   "outputs": [],
   "source": []
  }
 ],
 "metadata": {
  "kernelspec": {
   "display_name": "Python 3 (ipykernel)",
   "language": "python",
   "name": "python3"
  },
  "language_info": {
   "codemirror_mode": {
    "name": "ipython",
    "version": 3
   },
   "file_extension": ".py",
   "mimetype": "text/x-python",
   "name": "python",
   "nbconvert_exporter": "python",
   "pygments_lexer": "ipython3",
   "version": "3.9.13"
  }
 },
 "nbformat": 4,
 "nbformat_minor": 4
}
